{
 "cells": [
  {
   "cell_type": "code",
   "execution_count": 10,
   "id": "10f99102",
   "metadata": {
    "ExecuteTime": {
     "end_time": "2022-04-08T04:53:20.367942Z",
     "start_time": "2022-04-08T04:53:20.365509Z"
    }
   },
   "outputs": [],
   "source": [
    "# 결과 확인을 용이하게 하기 위한 코드\n",
    "from IPython.core.interactiveshell import InteractiveShell\n",
    "InteractiveShell.ast_node_interactivity = 'all'"
   ]
  },
  {
   "cell_type": "markdown",
   "id": "cd40e7d8",
   "metadata": {},
   "source": [
    "# [[논문 구현] PyTorch로 LeNet-5(1998) 구현하기](https://deep-learning-study.tistory.com/503?category=983681)\n",
    "- success"
   ]
  },
  {
   "cell_type": "markdown",
   "id": "33bfbb45",
   "metadata": {},
   "source": [
    "## CUDA check\n",
    "- 사용가능한 GPU 확인하기"
   ]
  },
  {
   "cell_type": "code",
   "execution_count": 1,
   "id": "edfc6f29",
   "metadata": {
    "ExecuteTime": {
     "end_time": "2022-04-08T04:46:12.272044Z",
     "start_time": "2022-04-08T04:46:11.866613Z"
    }
   },
   "outputs": [
    {
     "name": "stdout",
     "output_type": "stream",
     "text": [
      "cpu\n"
     ]
    }
   ],
   "source": [
    "import torch\n",
    "if torch.cuda.is_available():\n",
    "    device = torch.device('cuda:0')\n",
    "else:\n",
    "    device = torch.device('cpu')\n",
    "print(device)"
   ]
  },
  {
   "cell_type": "markdown",
   "id": "69f8adbe",
   "metadata": {},
   "source": [
    "## MNIST dataset load"
   ]
  },
  {
   "cell_type": "code",
   "execution_count": 4,
   "id": "b3fb9f51",
   "metadata": {
    "ExecuteTime": {
     "end_time": "2022-04-08T04:50:51.814309Z",
     "start_time": "2022-04-08T04:50:51.756806Z"
    }
   },
   "outputs": [],
   "source": [
    "# 1. MNIST dataset load\n",
    "from torchvision import datasets\n",
    "\n",
    "path2data = './data'\n",
    "train_data = datasets.MNIST(path2data, train = True, download = True, transform = data_transform)\n",
    "val_data = datasets.MNIST(path2data, train = False, download = True, transform = data_transform)\n",
    "\n",
    "# 2. MNIST dataset에 적용할 transformation 객체 생성\n",
    "from torchvision import transforms\n",
    "data_transform = transforms.Compose([transforms.Resize((32, 32)),\n",
    "                                     transforms.ToTensor(),\n",
    "                                    ])"
   ]
  },
  {
   "cell_type": "code",
   "execution_count": 32,
   "id": "969e776d",
   "metadata": {
    "ExecuteTime": {
     "end_time": "2022-04-08T05:32:34.185520Z",
     "start_time": "2022-04-08T05:32:34.080815Z"
    }
   },
   "outputs": [
    {
     "data": {
      "image/png": "[encoded data removed]",
      "text/plain": [
       "<Figure size 432x288 with 1 Axes>"
      ]
     },
     "metadata": {
      "needs_background": "light"
     },
     "output_type": "display_data"
    }
   ],
   "source": [
    "# 3. sample images 확인\n",
    "from torchvision import utils\n",
    "import matplotlib.pyplot as plt\n",
    "import numpy as np\n",
    "%matplotlib inline\n",
    "\n",
    "# train_data에서 x, y 추출\n",
    "x_train, y_train = train_data.data, train_data.targets\n",
    "\n",
    "# val_data에서 x, y 추출\n",
    "x_val, y_val = val_data.data, val_data.targets\n",
    "\n",
    "# 차원을 추가하여 B * C * H * W 가 되도록 함\n",
    "# 3차원의 경우 B * H * W 였음\n",
    "if len(x_train.shape) == 3:\n",
    "    x_train = x_train.unsqueeze(1) \n",
    "\n",
    "if len(x_val.shape) == 3:\n",
    "    x_val = x_val.unsqueeze(1)\n",
    "\n",
    "# colormap 색상 바꿔보기 -> 반영이 안되네..?\n",
    "import matplotlib.cm as cm\n",
    "    \n",
    "# tensor to image function\n",
    "def show(tensor):\n",
    "    \n",
    "    # tensor to np.array\n",
    "    array = tensor.numpy()\n",
    "    \n",
    "    # C * H * W -> H * W * C\n",
    "    array_trans = array.transpose((1, 2, 0))\n",
    "    \n",
    "    # interpolation : 보간법을 뜻하며, 픽셀들의 축 위치 간격을 보정하여 이미지가 자연스러운 모양으로 보일 수 있게 함\n",
    "    # 총 16가지의 보간법이 있는데 그 중 'nearest'는 가장 고해상도인 보간법임\n",
    "    plt.imshow(array_trans, interpolation = 'nearest', cmap = cm.Blues) \n",
    "\n",
    "# images grid를 생성하고 출력하기\n",
    "# 총 40개의 이미지, 행당 8개 이미지를 출력함\n",
    "x_grid = utils.make_grid(x_train[:40], nrow = 8, padding=2)\n",
    "\n",
    "show(x_grid)"
   ]
  },
  {
   "cell_type": "code",
   "execution_count": 102,
   "id": "0b69ab3f",
   "metadata": {
    "ExecuteTime": {
     "end_time": "2022-04-08T06:48:14.466072Z",
     "start_time": "2022-04-08T06:48:14.462900Z"
    }
   },
   "outputs": [],
   "source": [
    "# 4. dataloader 생성하기\n",
    "from torch.utils.data import DataLoader\n",
    "\n",
    "train_dl = DataLoader(train_data, batch_size=32, shuffle=True)\n",
    "val_dl = DataLoader(val_data, batch_size=32)"
   ]
  },
  {
   "cell_type": "markdown",
   "id": "6e58b1da",
   "metadata": {},
   "source": [
    "## LeNet-5 modeling"
   ]
  },
  {
   "cell_type": "code",
   "execution_count": 47,
   "id": "565546c8",
   "metadata": {
    "ExecuteTime": {
     "end_time": "2022-04-08T05:49:26.720213Z",
     "start_time": "2022-04-08T05:49:26.711954Z"
    }
   },
   "outputs": [
    {
     "name": "stdout",
     "output_type": "stream",
     "text": [
      "LeNet_5(\n",
      "  (conv1): Conv2d(1, 6, kernel_size=(5, 5), stride=(1, 1))\n",
      "  (conv2): Conv2d(6, 16, kernel_size=(5, 5), stride=(1, 1))\n",
      "  (conv3): Conv2d(16, 120, kernel_size=(5, 5), stride=(1, 1))\n",
      "  (fc1): Linear(in_features=120, out_features=84, bias=True)\n",
      "  (fc2): Linear(in_features=84, out_features=10, bias=True)\n",
      ")\n"
     ]
    }
   ],
   "source": [
    "from torch import nn\n",
    "import torch.nn.functional as F\n",
    "\n",
    "class LeNet_5(nn.Module):\n",
    "    \n",
    "    # subsampling(pooling) 계층은 여기서 구현 안하네\n",
    "    # forward에서 구현하는 듯\n",
    "    def __init__(self):\n",
    "        super(LeNet_5, self).__init__()\n",
    "        self.conv1 = nn.Conv2d(1, 6, kernel_size=5, stride=1)\n",
    "        self.conv2 = nn.Conv2d(6, 16, kernel_size=5, stride=1)\n",
    "        self.conv3 = nn.Conv2d(16, 120, kernel_size=5, stride=1)\n",
    "        self.fc1 = nn.Linear(120, 84)\n",
    "        self.fc2 = nn.Linear(84, 10)\n",
    "    \n",
    "    def forward(self, x):\n",
    "        x = F.tanh(self.conv1(x)) # C1\n",
    "        x = F.avg_pool2d(x, 2, 2) # S2 / (x, kernel_h, kernel_w)\n",
    "        x = F.tanh(self.conv2(x)) # C3\n",
    "        x = F.avg_pool2d(x, 2, 2) # S4\n",
    "        x = F.tanh(self.conv3(x)) # C5\n",
    "        print(x.shape)\n",
    "        x = x.view(-1, 120) \n",
    "        print(x.shape)\n",
    "        x = F.tanh(self.fc1(x)) # F6\n",
    "        x = self.fc2(x) # F7\n",
    "        print(x.shape)\n",
    "        return F.softmax(x, dim=1)\n",
    "        print(x.shape)\n",
    "\n",
    "model = LeNet_5()\n",
    "print(model)"
   ]
  },
  {
   "cell_type": "code",
   "execution_count": 48,
   "id": "4c69de0c",
   "metadata": {
    "ExecuteTime": {
     "end_time": "2022-04-08T05:49:28.146758Z",
     "start_time": "2022-04-08T05:49:28.141655Z"
    },
    "scrolled": true
   },
   "outputs": [
    {
     "data": {
      "text/plain": [
       "LeNet_5(\n",
       "  (conv1): Conv2d(1, 6, kernel_size=(5, 5), stride=(1, 1))\n",
       "  (conv2): Conv2d(6, 16, kernel_size=(5, 5), stride=(1, 1))\n",
       "  (conv3): Conv2d(16, 120, kernel_size=(5, 5), stride=(1, 1))\n",
       "  (fc1): Linear(in_features=120, out_features=84, bias=True)\n",
       "  (fc2): Linear(in_features=84, out_features=10, bias=True)\n",
       ")"
      ]
     },
     "execution_count": 48,
     "metadata": {},
     "output_type": "execute_result"
    },
    {
     "name": "stdout",
     "output_type": "stream",
     "text": [
      "cpu\n"
     ]
    }
   ],
   "source": [
    "# 모델을 cuda or cpu로 전달하기\n",
    "model.to(device)\n",
    "print(next(model.parameters()).device)"
   ]
  },
  {
   "cell_type": "code",
   "execution_count": 49,
   "id": "ec3c79b8",
   "metadata": {
    "ExecuteTime": {
     "end_time": "2022-04-08T05:49:28.450448Z",
     "start_time": "2022-04-08T05:49:28.444526Z"
    }
   },
   "outputs": [
    {
     "name": "stdout",
     "output_type": "stream",
     "text": [
      "torch.Size([2, 120, 1, 1])\n",
      "torch.Size([2, 120])\n",
      "torch.Size([2, 10])\n",
      "----------------------------------------------------------------\n",
      "        Layer (type)               Output Shape         Param #\n",
      "================================================================\n",
      "            Conv2d-1            [-1, 6, 28, 28]             156\n",
      "            Conv2d-2           [-1, 16, 10, 10]           2,416\n",
      "            Conv2d-3            [-1, 120, 1, 1]          48,120\n",
      "            Linear-4                   [-1, 84]          10,164\n",
      "            Linear-5                   [-1, 10]             850\n",
      "================================================================\n",
      "Total params: 61,706\n",
      "Trainable params: 61,706\n",
      "Non-trainable params: 0\n",
      "----------------------------------------------------------------\n",
      "Input size (MB): 0.00\n",
      "Forward/backward pass size (MB): 0.05\n",
      "Params size (MB): 0.24\n",
      "Estimated Total Size (MB): 0.29\n",
      "----------------------------------------------------------------\n"
     ]
    }
   ],
   "source": [
    "# 모델 summary 확인하기\n",
    "from torchsummary import summary\n",
    "summary(model, input_size=(1, 32, 32))"
   ]
  },
  {
   "cell_type": "markdown",
   "id": "c6e367dc",
   "metadata": {},
   "source": [
    "## loss function, optimizer 정의하기"
   ]
  },
  {
   "cell_type": "code",
   "execution_count": 51,
   "id": "35a016a3",
   "metadata": {
    "ExecuteTime": {
     "end_time": "2022-04-08T05:56:02.135297Z",
     "start_time": "2022-04-08T05:56:02.131447Z"
    }
   },
   "outputs": [],
   "source": [
    "# 1. loss function 정의하기\n",
    "loss_func = nn.CrossEntropyLoss(reduction='sum')\n",
    "\n",
    "# 2. optimizer 정의하기\n",
    "from torch import optim\n",
    "opt = optim.Adam(model.parameters(), lr=0.001)\n",
    "\n",
    "# 3. 현재 learning rate를 계산하는 함수 정의\n",
    "def get_lr(opt):\n",
    "    for param_group in opt.param_groups:\n",
    "        return param_group['lr']\n",
    "    \n",
    "# 4. learning rate scheduler 정의\n",
    "from torch.optim.lr_scheduler import CosineAnnealingLR\n",
    "lr_scheduler = CosineAnnealingLR(opt, T_max=2, eta_min=1e-05)"
   ]
  },
  {
   "cell_type": "markdown",
   "id": "9c247510",
   "metadata": {},
   "source": [
    "## 학습을 위한 함수 정의"
   ]
  },
  {
   "cell_type": "code",
   "execution_count": 112,
   "id": "efde7b5b",
   "metadata": {
    "ExecuteTime": {
     "end_time": "2022-04-08T06:58:22.101093Z",
     "start_time": "2022-04-08T06:58:22.057199Z"
    }
   },
   "outputs": [
    {
     "data": {
      "text/plain": [
       "'⭐️output.argmax(dim=1, keepdim=True)'"
      ]
     },
     "execution_count": 112,
     "metadata": {},
     "output_type": "execute_result"
    },
    {
     "data": {
      "text/plain": [
       "tensor([4, 4, 2])"
      ]
     },
     "execution_count": 112,
     "metadata": {},
     "output_type": "execute_result"
    },
    {
     "data": {
      "text/plain": [
       "tensor([[4],\n",
       "        [4],\n",
       "        [2]])"
      ]
     },
     "execution_count": 112,
     "metadata": {},
     "output_type": "execute_result"
    },
    {
     "data": {
      "text/plain": [
       "'⭐️target.view_as(pred)'"
      ]
     },
     "execution_count": 112,
     "metadata": {},
     "output_type": "execute_result"
    },
    {
     "data": {
      "text/plain": [
       "tensor([[4.],\n",
       "        [3.],\n",
       "        [2.]])"
      ]
     },
     "execution_count": 112,
     "metadata": {},
     "output_type": "execute_result"
    },
    {
     "data": {
      "text/plain": [
       "tensor([[ True, False, False],\n",
       "        [ True, False, False],\n",
       "        [False, False,  True]])"
      ]
     },
     "execution_count": 112,
     "metadata": {},
     "output_type": "execute_result"
    },
    {
     "data": {
      "text/plain": [
       "tensor([[ True],\n",
       "        [False],\n",
       "        [ True]])"
      ]
     },
     "execution_count": 112,
     "metadata": {},
     "output_type": "execute_result"
    },
    {
     "data": {
      "text/plain": [
       "2"
      ]
     },
     "execution_count": 112,
     "metadata": {},
     "output_type": "execute_result"
    },
    {
     "data": {
      "text/plain": [
       "'⭐️for xb, yb in dataset_dl:'"
      ]
     },
     "execution_count": 112,
     "metadata": {},
     "output_type": "execute_result"
    },
    {
     "name": "stdout",
     "output_type": "stream",
     "text": [
      "torch.Size([32, 1, 32, 32])\n",
      "4\n",
      "torch.Size([32])\n",
      "1\n"
     ]
    }
   ],
   "source": [
    "'''⭐️output.argmax(dim=1, keepdim=True)'''\n",
    "a = torch.Tensor([[1,2,3,4,5],\n",
    "             [2,3,4,5,6],\n",
    "             [10,10,11,10,10]])\n",
    "# np.argmax(a,axis=1)\n",
    "a.argmax(dim=1, keepdim=False)\n",
    "pred = a.argmax(dim=1, keepdim=True)\n",
    "pred\n",
    "# a.argmax(dim=1, keepdim=False)\n",
    "\n",
    "'''⭐️target.view_as(pred)'''\n",
    "# view_as() 함수는 target 텐서를 view_as() 함수 안에 들어가는 인수(pred)의 모양대로 다시 정렬\n",
    "target = torch.Tensor([4, 3, 2])\n",
    "target.view_as(pred)\n",
    "\n",
    "pred.eq(target) # 계산이 틀리게 됨\n",
    "pred.eq(target.view_as(pred)) # shape을 맞춰줘야 계산이 맞음\n",
    "pred.eq(target.view_as(pred)).sum().item() # boolean -> int로 형변환 후 sum 계산\n",
    "\n",
    "'''⭐️for xb, yb in dataset_dl:'''\n",
    "from torch.utils.data import DataLoader\n",
    "\n",
    "train_dl = DataLoader(train_data, batch_size=32, shuffle=True)\n",
    "for x, y in train_dl:\n",
    "    print(x.shape) # (b, c, h, w)\n",
    "    print(x.ndim)\n",
    "    print(y.shape) # (b)\n",
    "    print(y.ndim)\n",
    "    break"
   ]
  },
  {
   "cell_type": "code",
   "execution_count": 79,
   "id": "aa283f7a",
   "metadata": {
    "ExecuteTime": {
     "end_time": "2022-04-08T06:30:35.479068Z",
     "start_time": "2022-04-08T06:30:35.475832Z"
    }
   },
   "outputs": [],
   "source": [
    "# 1. batch당 performance metric을 계산하는 함수 정의\n",
    "# output = 10개의 softmax 확률로 구성된 torch.Tensor일 듯\n",
    "def metrics_batch(output, target):\n",
    "    pred = output.argmax(dim=1, keepdim=True) \n",
    "    corrects = pred.eq(target.view_as(pred)).sum().item()\n",
    "    return corrects # pred == target의 개수 (정답을 맞춘 개수)\n",
    "\n",
    "# 2. batch당 loss를 계산하는 함수 정의\n",
    "def loss_batch(loss_func, output, target, opt=None):\n",
    "    loss = lossfunc(output, target)\n",
    "    corrects = metrics_batch(output, target)\n",
    "    if opt is not None:\n",
    "        opt.zero_grad()\n",
    "        loss.backward()\n",
    "        opt.step()\n",
    "    return loss.item(), corrects # 손실 함수 값, 정답 개수\n",
    "\n",
    "# 3. epoch당 loss와 performance metric을 계산하는 함수 정의\n",
    "def loss_epoch(model, loss_func, dataset_dl, sanity_check=False, opt=None):\n",
    "    running_loss = 0.0\n",
    "    running_corrects = 0.0\n",
    "    len_data = len(dataset_dl.dataset)\n",
    "    \n",
    "    for xb, yb in dataset_dl:\n",
    "        \n",
    "        # GPU 이용하기 위함\n",
    "        # 모든 입력에 .to(torch.device('cuda')) 함수를 호출해야 모델에 데이터를 제공할 수 있음\n",
    "        # https://tutorials.pytorch.kr/recipes/recipes/save_load_across_devices.html\n",
    "        xb = xb.type(torch.float).to(device) # x\n",
    "        yb = yb.to(device) # y(target)\n",
    "        output = model(xb)\n",
    "        loss_b, corrects_b = loss_batch(loss_func, output, yb, opt)\n",
    "        running_loss += loss_b\n",
    "        \n",
    "        # 정답을 맞춘 개수가 존재한다면 한 epoch내에서 batch_size마다 맞춘 개수를 더해줌\n",
    "        if corrects_b is not None:\n",
    "            running_corrects += corrects_b\n",
    "        \n",
    "        # sanity_check가 True이면 1epoch만 학습함\n",
    "        if sanity_check is True:\n",
    "            break\n",
    "    \n",
    "    loss = running_loss / float(len_data) # 1epoch내(모든 dataset의 길이에 대한) 손실 함수 값의 평균\n",
    "    corrects = running_corrects / float(len_data) # 1epoch내(모든 dataset의 길이에 대한) 정답인 비율 계산\n",
    "    return loss, corrects"
   ]
  },
  {
   "cell_type": "code",
   "execution_count": 113,
   "id": "6404cb14",
   "metadata": {
    "ExecuteTime": {
     "end_time": "2022-04-08T07:42:55.458566Z",
     "start_time": "2022-04-08T07:42:55.451338Z"
    }
   },
   "outputs": [],
   "source": [
    "# 4. train_val 함수 정의 \n",
    "def train_val(model, params):\n",
    "    \n",
    "    # params from where?\n",
    "    num_epochs = params['num_epochs']\n",
    "    loss_func = params['loss_func']\n",
    "    opt = params['optimizer']\n",
    "    train_dl = params['train_dl']\n",
    "    val_dl = params['val_dl']\n",
    "    sanity_check = params['sanity_check']\n",
    "    lr_scheduler = params['lr_scheduler']\n",
    "    path2weights = params['path2weights']\n",
    "    \n",
    "    loss_history = {'train':[], 'val':[]}\n",
    "    corrects_history = {'train':[], 'val':[]}\n",
    "    \n",
    "    # best model parameter 저장하기\n",
    "    best_model_wts = copy.deepcopy(model.state_dict())\n",
    "    best_loss = float('inf') # 양의 무한대\n",
    "    \n",
    "    for epoch in range(num_epochs):\n",
    "        current_lr = get_lr(opt) # 앞서 get_lr 정의함\n",
    "        print(f'Epoch {epoch}/{num_epochs-1}, current lr={current_lr}')\n",
    "        \n",
    "        # 학습 후 loss, corrects 구해서 loss_history, corrects_history list에 각각 append\n",
    "        model.train() # ???\n",
    "        train_loss, train_corrects = loss_epoch(model, loss_func, train_dl, sanity_check, opt)\n",
    "        loss_history['train'].append(train_loss)\n",
    "        corrects_history['train'].append(train_corrects)\n",
    "        \n",
    "        # 학습이 잘 되었는지 validation dataset으로 test (학습이 아닌 test이므로 최적화가 필요없음)\n",
    "        model.eval() # ???\n",
    "        with torch.no_grad(): # 가중치 초기화 하면서 진행\n",
    "            val_loss, val_corrects = loss_epoch(model, loss_func, train_dl, sanity_check)\n",
    "            loss_history['val'].append(val_loss)\n",
    "            corrects_history['val'].append(val_corrects)\n",
    "        \n",
    "        # val_loss가 가장 낮을 때의 모델 weights를 찾기 위한 과정\n",
    "        if val_loss < best_loss:\n",
    "            best_loss = val_loss\n",
    "            best_model_wts = copy.deepcopy(model.state_dict())\n",
    "            torch.save(model.state_dict(), path2weights)\n",
    "            print('Copied best model weights')\n",
    "        \n",
    "        lr_scheduler.step()\n",
    "        \n",
    "        print('train_loss: %.6f, val_loss: %.6f, accuracy: %.2f' %(train_loss, val_loss, 100*val_corrects))\n",
    "        print('-'*10)\n",
    "    \n",
    "    # best model을 반환하기\n",
    "    model.load_state_dict(best_model_wts)\n",
    "    return model, loss_history, corrects_history"
   ]
  },
  {
   "cell_type": "markdown",
   "id": "fc0f3ae1",
   "metadata": {},
   "source": [
    "## 모델 학습하기"
   ]
  },
  {
   "cell_type": "code",
   "execution_count": null,
   "id": "dc0e6328",
   "metadata": {},
   "outputs": [],
   "source": [
    "import copy\n",
    "import os\n",
    "\n",
    "# 학습된 모델의 가중치를 저장할 폴더 생성\n",
    "os.makedirs('./models', exist_ok=True)"
   ]
  }
 ],
 "metadata": {
  "kernelspec": {
   "display_name": "Python 3 (ipykernel)",
   "language": "python",
   "name": "python3"
  },
  "language_info": {
   "codemirror_mode": {
    "name": "ipython",
    "version": 3
   },
   "file_extension": ".py",
   "mimetype": "text/x-python",
   "name": "python",
   "nbconvert_exporter": "python",
   "pygments_lexer": "ipython3",
   "version": "3.9.10"
  },
  "toc": {
   "base_numbering": 1,
   "nav_menu": {},
   "number_sections": true,
   "sideBar": true,
   "skip_h1_title": false,
   "title_cell": "Table of Contents",
   "title_sidebar": "Contents",
   "toc_cell": false,
   "toc_position": {
    "height": "calc(100% - 180px)",
    "left": "10px",
    "top": "150px",
    "width": "258px"
   },
   "toc_section_display": true,
   "toc_window_display": false
  }
 },
 "nbformat": 4,
 "nbformat_minor": 5
}
