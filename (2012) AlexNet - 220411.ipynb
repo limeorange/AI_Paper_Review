{
 "cells": [
  {
   "cell_type": "markdown",
   "metadata": {},
   "source": [
    "- [[논문 구현] PyToch로 AlexNet(2012) 구현하기](https://deep-learning-study.tistory.com/518?category=983681)\n",
    "    - error.."
   ]
  },
  {
   "cell_type": "code",
   "execution_count": 121,
   "metadata": {
    "ExecuteTime": {
     "end_time": "2022-04-11T09:05:52.824261Z",
     "start_time": "2022-04-11T09:05:52.821276Z"
    }
   },
   "outputs": [],
   "source": [
    "# 결과 확인을 용이하게 하기 위한 코드\n",
    "from IPython.core.interactiveshell import InteractiveShell\n",
    "InteractiveShell.ast_node_interactivity = 'all'"
   ]
  },
  {
   "cell_type": "markdown",
   "metadata": {
    "id": "de2iJRW4oaiT"
   },
   "source": [
    "# 데이터셋 불러오고 transformation 적용하기\n",
    "데이터셋은 torchvision에서 제공하는 STL-10 dataset을 사용합니다.\n",
    "STL-10 dataset은 train과 test dataset만 제공합니다.\n",
    "따라서, test dataset을 분할해서 val dataset을 따로 만들어 주겠습니다.\n",
    "\n",
    "transformation은 resize, horizontal flip, normalize를 적용합니다.\n",
    "\n",
    "dataset을 불러오고 dataloader로 감싸줍니다."
   ]
  },
  {
   "cell_type": "code",
   "execution_count": 2,
   "metadata": {
    "ExecuteTime": {
     "end_time": "2022-04-11T05:53:21.694626Z",
     "start_time": "2022-04-11T05:53:16.534180Z"
    },
    "colab": {
     "base_uri": "https://localhost:8080/",
     "height": 121,
     "referenced_widgets": [
      "fd95d28c8cf548c4bc8b5554c94025cb",
      "7a97f78348de4f6bb2aa95b5ca06ee27",
      "8981299f7a20407e939cc1787dfa5188",
      "1be07d9ed1454048b0057daf76b53a73",
      "9fba880a406e4dbdbfb115aee4f77588",
      "cbdebc5e20534de1ae0e06f8e4d8ffc8",
      "c7562c0b2ed44154b2a98d366e370ec3",
      "96fd9be983624b7b8d12417a1992a2af"
     ]
    },
    "id": "YZMzsRP_m2ws",
    "outputId": "5f27797f-b5a8-409d-ee03-52e9ea50c8ab"
   },
   "outputs": [
    {
     "name": "stdout",
     "output_type": "stream",
     "text": [
      "Files already downloaded and verified\n",
      "(5000, 3, 96, 96)\n"
     ]
    }
   ],
   "source": [
    "# loading training dataset\n",
    "from torchvision import datasets\n",
    "import torchvision.transforms as transforms\n",
    "import os\n",
    "\n",
    "# specify a data path\n",
    "path2data = './data'\n",
    "\n",
    "# if not exists the path, make the path\n",
    "if not os.path.exists(path2data):\n",
    "    os.mkdir(path2data)\n",
    "\n",
    "# load STL10 train dataset, and check\n",
    "data_transformer = transforms.Compose([transforms.ToTensor()])\n",
    "train_ds = datasets.STL10(path2data, split='train', download=True, transform=data_transformer)\n",
    "print(train_ds.data.shape)"
   ]
  },
  {
   "cell_type": "code",
   "execution_count": 3,
   "metadata": {
    "ExecuteTime": {
     "end_time": "2022-04-11T05:53:26.836755Z",
     "start_time": "2022-04-11T05:53:22.440040Z"
    },
    "colab": {
     "base_uri": "https://localhost:8080/"
    },
    "id": "vMGRj1JN4x29",
    "outputId": "497f4829-1147-48f1-ea74-c0af78e9d4c2"
   },
   "outputs": [
    {
     "name": "stdout",
     "output_type": "stream",
     "text": [
      "Files already downloaded and verified\n",
      "(8000, 3, 96, 96)\n"
     ]
    }
   ],
   "source": [
    "# load STL10 test dataset\n",
    "test0_ds = datasets.STL10(path2data, split='test', download=True, transform=data_transformer)\n",
    "print(test0_ds.data.shape)"
   ]
  },
  {
   "cell_type": "code",
   "execution_count": 4,
   "metadata": {
    "ExecuteTime": {
     "end_time": "2022-04-11T05:53:29.960722Z",
     "start_time": "2022-04-11T05:53:26.839565Z"
    },
    "colab": {
     "base_uri": "https://localhost:8080/"
    },
    "id": "uCb5AJbr12pd",
    "outputId": "317bee2e-44ac-406f-a343-823d64d82482"
   },
   "outputs": [
    {
     "name": "stdout",
     "output_type": "stream",
     "text": [
      "0.4467106 0.43980986 0.40664646\n",
      "0.22414584 0.22148906 0.22389975\n"
     ]
    }
   ],
   "source": [
    "# calculate the mean and standard deviation of train_ds\n",
    "import numpy as np\n",
    "\n",
    "meanRGB = [np.mean(x.numpy(), axis=(1,2)) for x, _ in train_ds]\n",
    "stdRGB = [np.std(x.numpy(), axis=(1,2)) for x, _ in train_ds]\n",
    "\n",
    "meanR = np.mean([m[0] for m in meanRGB])\n",
    "meanG = np.mean([m[1] for m in meanRGB])\n",
    "meanB = np.mean([m[2] for m in meanRGB])\n",
    "\n",
    "stdR = np.mean([s[0] for s in stdRGB])\n",
    "stdG = np.mean([s[1] for s in stdRGB])\n",
    "stdB = np.mean([s[2] for s in stdRGB])\n",
    "\n",
    "print(meanR, meanG, meanB)\n",
    "print(stdR, stdG, stdB)"
   ]
  },
  {
   "cell_type": "code",
   "execution_count": 5,
   "metadata": {
    "ExecuteTime": {
     "end_time": "2022-04-11T05:53:29.966597Z",
     "start_time": "2022-04-11T05:53:29.962726Z"
    },
    "id": "-UQuN3QN08fg"
   },
   "outputs": [],
   "source": [
    "# define the image transformation for trains_ds\n",
    "# in paper, using normalize, horizontal reflection\n",
    "train_transformer = transforms.Compose([\n",
    "                transforms.ToTensor(),\n",
    "                transforms.Resize(227),\n",
    "                transforms.RandomHorizontalFlip(),\n",
    "                transforms.Normalize([meanR, meanG, meanB], [stdR, stdG, stdB]),\n",
    "])\n",
    "\n",
    "# define the image transforamtion for test0_ds\n",
    "test_transformer = transforms.Compose([\n",
    "                transforms.ToTensor(),\n",
    "                transforms.Normalize([meanR, meanG, meanB], [stdR, stdG, stdB]),\n",
    "                transforms.Resize(227)\n",
    "])"
   ]
  },
  {
   "cell_type": "code",
   "execution_count": 6,
   "metadata": {
    "ExecuteTime": {
     "end_time": "2022-04-11T05:53:29.973590Z",
     "start_time": "2022-04-11T05:53:29.969497Z"
    },
    "id": "ZejU9uap5TBX"
   },
   "outputs": [],
   "source": [
    "# apply transformation to train_ds and test0_ds\n",
    "train_ds.transform = train_transformer\n",
    "test0_ds.transform = test_transformer"
   ]
  },
  {
   "cell_type": "code",
   "execution_count": 7,
   "metadata": {
    "ExecuteTime": {
     "end_time": "2022-04-11T05:53:29.979905Z",
     "start_time": "2022-04-11T05:53:29.975544Z"
    },
    "colab": {
     "base_uri": "https://localhost:8080/"
    },
    "id": "bPFPgL27U3mW",
    "outputId": "41e92e5e-0164-42dc-b13a-72abef3f914e"
   },
   "outputs": [
    {
     "name": "stdout",
     "output_type": "stream",
     "text": [
      "torch.Size([3, 227, 227])\n"
     ]
    }
   ],
   "source": [
    "img, _ = train_ds[1]\n",
    "print(img.shape)"
   ]
  },
  {
   "cell_type": "code",
   "execution_count": 8,
   "metadata": {
    "ExecuteTime": {
     "end_time": "2022-04-11T05:53:30.848577Z",
     "start_time": "2022-04-11T05:53:29.981495Z"
    },
    "colab": {
     "base_uri": "https://localhost:8080/",
     "height": 648
    },
    "id": "m1vbVlll5b5z",
    "outputId": "0c796d91-1983-4393-f1a2-09222dd6a176"
   },
   "outputs": [
    {
     "name": "stderr",
     "output_type": "stream",
     "text": [
      "Clipping input data to the valid range for imshow with RGB data ([0..1] for floats or [0..255] for integers).\n"
     ]
    },
    {
     "name": "stdout",
     "output_type": "stream",
     "text": [
      "2732\n",
      "images indices:  2732\n"
     ]
    },
    {
     "data": {
      "image/png": "[encoded data removed]",
      "text/plain": [
       "<Figure size 720x720 with 1 Axes>"
      ]
     },
     "metadata": {
      "needs_background": "light"
     },
     "output_type": "display_data"
    }
   ],
   "source": [
    "import torch\n",
    "from torchvision import utils\n",
    "import matplotlib.pyplot as plt\n",
    "import numpy as np\n",
    "%matplotlib inline\n",
    "\n",
    "# display the transformed sample images from train_ds\n",
    "\n",
    "# define helper function to show images\n",
    "def show(img, y=None, color=True):\n",
    "\n",
    "    npimg = img.numpy()\n",
    "    npimg_tr = np.transpose(npimg, (1, 2, 0))\n",
    "    plt.imshow(npimg_tr)\n",
    "    \n",
    "    # plt.imshow(npimg_tr)\n",
    "    if y is not None:\n",
    "        plt.title('labels: ' + str(y))\n",
    "\n",
    "np.random.seed(0)\n",
    "torch.manual_seed(0)\n",
    "\n",
    "# pick a random sample image \n",
    "rnd_inds = int(np.random.randint(0, len(train_ds), 1))\n",
    "print(rnd_inds)\n",
    "img, label = train_ds[rnd_inds]\n",
    "print('images indices: ', rnd_inds)\n",
    "\n",
    "plt.figure(figsize=(10, 10))\n",
    "show(img)"
   ]
  },
  {
   "cell_type": "code",
   "execution_count": 9,
   "metadata": {
    "ExecuteTime": {
     "end_time": "2022-04-11T05:53:34.410109Z",
     "start_time": "2022-04-11T05:53:30.850098Z"
    },
    "colab": {
     "base_uri": "https://localhost:8080/"
    },
    "id": "6y2P42QyFMGB",
    "outputId": "781a98e4-4578-4933-9fda-d45da461831f"
   },
   "outputs": [
    {
     "name": "stdout",
     "output_type": "stream",
     "text": [
      "Counter({1: 500, 5: 500, 6: 500, 3: 500, 9: 500, 7: 500, 4: 500, 8: 500, 0: 500, 2: 500})\n"
     ]
    }
   ],
   "source": [
    "# count the number of images per category in train_ds\n",
    "import collections\n",
    "y_train = [y for _, y in train_ds]\n",
    "counter_train = collections.Counter(y_train)\n",
    "print(counter_train)"
   ]
  },
  {
   "cell_type": "code",
   "execution_count": 10,
   "metadata": {
    "ExecuteTime": {
     "end_time": "2022-04-11T05:53:34.414164Z",
     "start_time": "2022-04-11T05:53:34.411648Z"
    },
    "colab": {
     "base_uri": "https://localhost:8080/"
    },
    "id": "K7RefwRg59pY",
    "outputId": "a72066af-1c02-4eb0-868d-6e1b9ef216ad"
   },
   "outputs": [
    {
     "name": "stdout",
     "output_type": "stream",
     "text": [
      "(8000, 3, 96, 96)\n"
     ]
    }
   ],
   "source": [
    "# check test0 dataset\n",
    "print(test0_ds.data.shape)"
   ]
  },
  {
   "cell_type": "code",
   "execution_count": 11,
   "metadata": {
    "ExecuteTime": {
     "end_time": "2022-04-11T05:53:41.688318Z",
     "start_time": "2022-04-11T05:53:35.952231Z"
    },
    "colab": {
     "base_uri": "https://localhost:8080/"
    },
    "id": "TbDzjkr3FiER",
    "outputId": "eaaa6acb-ffe3-42a6-8817-fbf605a5ed7c"
   },
   "outputs": [
    {
     "name": "stdout",
     "output_type": "stream",
     "text": [
      "test : 6400 val : 1600\n"
     ]
    }
   ],
   "source": [
    "# split the indices of test0_ds into two groups\n",
    "# there aren't validation dataset in STL10 dataset, so make validation dataset\n",
    "# by spliting test0 dataset\n",
    "from sklearn.model_selection import StratifiedShuffleSplit\n",
    "\n",
    "# StratifiedShuffleSplit splits indices of test0 in same proportion of labels\n",
    "sss = StratifiedShuffleSplit(n_splits=1, test_size=0.2, random_state=0)\n",
    "\n",
    "indices = list(range(len(test0_ds)))\n",
    "y_test0 = [y for _,y in test0_ds]\n",
    "\n",
    "for test_index, val_index in sss.split(indices, y_test0):\n",
    "    print('test :', len(test_index) , 'val :', len(val_index))"
   ]
  },
  {
   "cell_type": "code",
   "execution_count": 12,
   "metadata": {
    "ExecuteTime": {
     "end_time": "2022-04-11T05:53:41.693158Z",
     "start_time": "2022-04-11T05:53:41.690701Z"
    },
    "id": "_iJmdVyaGSVZ"
   },
   "outputs": [],
   "source": [
    "# create two datasets from test0_ds\n",
    "from torch.utils.data import Subset\n",
    "\n",
    "# if test0_ds is updated, val_ds and test_ds are updated\n",
    "# because val_ds and test_ds are a subset of test0_ds\n",
    "val_ds = Subset(test0_ds, val_index)\n",
    "test_ds = Subset(test0_ds, test_index)"
   ]
  },
  {
   "cell_type": "code",
   "execution_count": 13,
   "metadata": {
    "ExecuteTime": {
     "end_time": "2022-04-11T05:53:46.930157Z",
     "start_time": "2022-04-11T05:53:41.694657Z"
    },
    "colab": {
     "base_uri": "https://localhost:8080/"
    },
    "id": "2SixkTMGJdkR",
    "outputId": "561d2244-780f-4f9f-b14e-90e13d406dac"
   },
   "outputs": [
    {
     "name": "stdout",
     "output_type": "stream",
     "text": [
      "Counter({6: 640, 0: 640, 4: 640, 5: 640, 9: 640, 2: 640, 3: 640, 1: 640, 7: 640, 8: 640})\n",
      "Counter({2: 160, 8: 160, 3: 160, 6: 160, 4: 160, 1: 160, 5: 160, 9: 160, 0: 160, 7: 160})\n"
     ]
    }
   ],
   "source": [
    "# count the number of images per calss in val_ds and test_ds\n",
    "import collections\n",
    "import numpy as np\n",
    "\n",
    "y_test = [y for _, y in test_ds]\n",
    "y_val = [y for _, y in val_ds]\n",
    "\n",
    "counter_test = collections.Counter(y_test)\n",
    "counter_val = collections.Counter(y_val)\n",
    "print(counter_test)\n",
    "print(counter_val)"
   ]
  },
  {
   "cell_type": "code",
   "execution_count": 14,
   "metadata": {
    "ExecuteTime": {
     "end_time": "2022-04-11T05:53:47.002449Z",
     "start_time": "2022-04-11T05:53:46.932578Z"
    },
    "colab": {
     "base_uri": "https://localhost:8080/"
    },
    "id": "Dak5SRViJ8Ys",
    "outputId": "4bbb30f2-3c18-4989-f2cf-984549d6adf2"
   },
   "outputs": [
    {
     "name": "stdout",
     "output_type": "stream",
     "text": [
      "torch.Size([32, 3, 227, 227])\n",
      "torch.Size([32])\n",
      "torch.Size([32, 3, 227, 227])\n",
      "torch.Size([32])\n"
     ]
    }
   ],
   "source": [
    "# create dataloaders from train_ds and val_ds\n",
    "from torch.utils.data import DataLoader\n",
    "\n",
    "train_dl = DataLoader(train_ds, batch_size=32, shuffle=True)\n",
    "val_dl = DataLoader(val_ds, batch_size=32, shuffle=False)\n",
    "\n",
    "# check dataloader\n",
    "for x,y in train_dl:\n",
    "    print(x.shape)\n",
    "    print(y.shape)\n",
    "    break\n",
    "\n",
    "for x,y in val_dl:\n",
    "    print(x.shape)\n",
    "    print(y.shape)\n",
    "    break"
   ]
  },
  {
   "cell_type": "markdown",
   "metadata": {
    "id": "1oRCb6lVKkhp"
   },
   "source": [
    "# 모델 구축하기"
   ]
  },
  {
   "cell_type": "code",
   "execution_count": 15,
   "metadata": {
    "ExecuteTime": {
     "end_time": "2022-04-11T05:53:49.892943Z",
     "start_time": "2022-04-11T05:53:49.890133Z"
    },
    "colab": {
     "base_uri": "https://localhost:8080/"
    },
    "id": "1QojQn23Kc4F",
    "outputId": "699b31c8-5706-479a-dfc6-300631e6599a"
   },
   "outputs": [
    {
     "name": "stdout",
     "output_type": "stream",
     "text": [
      "cpu\n"
     ]
    }
   ],
   "source": [
    "# define device\n",
    "device = torch.device('cuda' if torch.cuda.is_available() else 'cpu')\n",
    "print(device)"
   ]
  },
  {
   "cell_type": "markdown",
   "metadata": {},
   "source": [
    "## 방법 1"
   ]
  },
  {
   "cell_type": "code",
   "execution_count": 69,
   "metadata": {
    "ExecuteTime": {
     "end_time": "2022-04-11T08:36:05.090177Z",
     "start_time": "2022-04-11T08:36:05.080743Z"
    },
    "id": "_UKd_DfrKycR"
   },
   "outputs": [],
   "source": [
    "import torch.nn as nn\n",
    "import torch.nn.functional as F\n",
    "\n",
    "class AlexNet(nn.Module):\n",
    "    def __init__(self, num_classes=10):\n",
    "        super(AlexNet,self).__init__()\n",
    "        # input size : (b x 3 x 227 x 227)\n",
    "        # 논문에는 image 크기가 224 pixel이라고 나와 있지만, 오타입니다.\n",
    "        # 227x227을 사용합니다.\n",
    "\n",
    "        # Conv layer\n",
    "        self.net = nn.Sequential(\n",
    "            nn.Conv2d(3, 96, kernel_size=11, stride=4, padding=0), # (b x 96 x 55 x 55)\n",
    "            nn.ReLU(inplace=True),\n",
    "            nn.LocalResponseNorm(size=5, alpha=0.0001, beta=0.75, k=2),\n",
    "            nn.MaxPool2d(kernel_size=3, stride=2), # (b x 96 x 27 x 27)\n",
    "\n",
    "            nn.Conv2d(96, 256, kernel_size=5, stride=1, padding=2), # (b x 256 x 27 x 27)\n",
    "            nn.ReLU(),\n",
    "            nn.LocalResponseNorm(size=5, alpha=0.0001, beta=0.75, k=2),\n",
    "            nn.MaxPool2d(kernel_size=3, stride=2), # (b x 256 x 13 x 13)\n",
    "\n",
    "            nn.Conv2d(256, 384, 3, 1, 1), # (b x 384 x 13 x 13)\n",
    "            nn.ReLU(),\n",
    "\n",
    "            nn.Conv2d(384, 384, 3, 1, 1), # (b x 384 x 13 x 13)\n",
    "            nn.ReLU(),\n",
    "\n",
    "            nn.Conv2d(384, 256, 3, 1, 1), # (b x 256 x 13 x 13)\n",
    "            nn.ReLU(),\n",
    "            nn.MaxPool2d(3, 2), # (b x 256 x 6 x 6)\n",
    "        )\n",
    "\n",
    "        # fc layer\n",
    "        self.classifier = nn.Sequential(\n",
    "            nn.Dropout(p=0.5, inplace=True),\n",
    "            nn.Linear(in_features=(256 * 6 * 6), out_features=4096),\n",
    "            nn.ReLU(),\n",
    "            nn.Dropout(p=0.5, inplace=True),\n",
    "            nn.Linear(in_features=4096, out_features=4096),\n",
    "            nn.ReLU(),\n",
    "            nn.Linear(in_features=4096, out_features=num_classes),\n",
    "        )\n",
    "\n",
    "        # weight initialization\n",
    "        self.init_weight()\n",
    "\n",
    "    # define weight initialization function\n",
    "    def init_weight(self):\n",
    "        for layer in self.net:\n",
    "            if isinstance(layer, nn.Conv2d):\n",
    "                nn.init.normal_(layer.weight, mean=0, std=0.01)\n",
    "                nn.init.constant_(layer.bias, 0)\n",
    "        # in paper, initialize bias to 1 for conv2, 4, 5 layer\n",
    "        nn.init.constant_(self.net[4].bias, 1)\n",
    "        nn.init.constant_(self.net[10].bias, 1)\n",
    "        nn.init.constant_(self.net[12].bias, 1)\n",
    "    \n",
    "    def forward(self,x):\n",
    "        x = self.net(x)\n",
    "        x = x.view(-1, 256 * 6* 6)\n",
    "        x = self.classifier(x)\n",
    "        return x"
   ]
  },
  {
   "cell_type": "code",
   "execution_count": 70,
   "metadata": {
    "ExecuteTime": {
     "end_time": "2022-04-11T08:36:06.260711Z",
     "start_time": "2022-04-11T08:36:05.935064Z"
    },
    "colab": {
     "base_uri": "https://localhost:8080/"
    },
    "id": "H0ne1D_0RDuk",
    "outputId": "8fe38987-857b-4c3f-bb54-cee053d12e55",
    "scrolled": true
   },
   "outputs": [
    {
     "name": "stdout",
     "output_type": "stream",
     "text": [
      "AlexNet(\n",
      "  (net): Sequential(\n",
      "    (0): Conv2d(3, 96, kernel_size=(11, 11), stride=(4, 4))\n",
      "    (1): ReLU(inplace=True)\n",
      "    (2): LocalResponseNorm(5, alpha=0.0001, beta=0.75, k=2)\n",
      "    (3): MaxPool2d(kernel_size=3, stride=2, padding=0, dilation=1, ceil_mode=False)\n",
      "    (4): Conv2d(96, 256, kernel_size=(5, 5), stride=(1, 1), padding=(2, 2))\n",
      "    (5): ReLU()\n",
      "    (6): LocalResponseNorm(5, alpha=0.0001, beta=0.75, k=2)\n",
      "    (7): MaxPool2d(kernel_size=3, stride=2, padding=0, dilation=1, ceil_mode=False)\n",
      "    (8): Conv2d(256, 384, kernel_size=(3, 3), stride=(1, 1), padding=(1, 1))\n",
      "    (9): ReLU()\n",
      "    (10): Conv2d(384, 384, kernel_size=(3, 3), stride=(1, 1), padding=(1, 1))\n",
      "    (11): ReLU()\n",
      "    (12): Conv2d(384, 256, kernel_size=(3, 3), stride=(1, 1), padding=(1, 1))\n",
      "    (13): ReLU()\n",
      "    (14): MaxPool2d(kernel_size=3, stride=2, padding=0, dilation=1, ceil_mode=False)\n",
      "  )\n",
      "  (classifier): Sequential(\n",
      "    (0): Dropout(p=0.5, inplace=True)\n",
      "    (1): Linear(in_features=9216, out_features=4096, bias=True)\n",
      "    (2): ReLU()\n",
      "    (3): Dropout(p=0.5, inplace=True)\n",
      "    (4): Linear(in_features=4096, out_features=4096, bias=True)\n",
      "    (5): ReLU()\n",
      "    (6): Linear(in_features=4096, out_features=10, bias=True)\n",
      "  )\n",
      ")\n"
     ]
    }
   ],
   "source": [
    "# check the model\n",
    "model = AlexNet().to(device)\n",
    "print(model)"
   ]
  },
  {
   "cell_type": "code",
   "execution_count": 71,
   "metadata": {
    "ExecuteTime": {
     "end_time": "2022-04-11T08:36:06.370760Z",
     "start_time": "2022-04-11T08:36:06.262715Z"
    },
    "colab": {
     "base_uri": "https://localhost:8080/"
    },
    "id": "vFONhHtRseMg",
    "outputId": "cc809c71-670f-4fc5-b903-109b745375cc"
   },
   "outputs": [
    {
     "name": "stdout",
     "output_type": "stream",
     "text": [
      "----------------------------------------------------------------\n",
      "        Layer (type)               Output Shape         Param #\n",
      "================================================================\n",
      "            Conv2d-1           [-1, 96, 55, 55]          34,944\n",
      "              ReLU-2           [-1, 96, 55, 55]               0\n",
      " LocalResponseNorm-3           [-1, 96, 55, 55]               0\n",
      "         MaxPool2d-4           [-1, 96, 27, 27]               0\n",
      "            Conv2d-5          [-1, 256, 27, 27]         614,656\n",
      "              ReLU-6          [-1, 256, 27, 27]               0\n",
      " LocalResponseNorm-7          [-1, 256, 27, 27]               0\n",
      "         MaxPool2d-8          [-1, 256, 13, 13]               0\n",
      "            Conv2d-9          [-1, 384, 13, 13]         885,120\n",
      "             ReLU-10          [-1, 384, 13, 13]               0\n",
      "           Conv2d-11          [-1, 384, 13, 13]       1,327,488\n",
      "             ReLU-12          [-1, 384, 13, 13]               0\n",
      "           Conv2d-13          [-1, 256, 13, 13]         884,992\n",
      "             ReLU-14          [-1, 256, 13, 13]               0\n",
      "        MaxPool2d-15            [-1, 256, 6, 6]               0\n",
      "          Dropout-16                 [-1, 9216]               0\n",
      "           Linear-17                 [-1, 4096]      37,752,832\n",
      "             ReLU-18                 [-1, 4096]               0\n",
      "          Dropout-19                 [-1, 4096]               0\n",
      "           Linear-20                 [-1, 4096]      16,781,312\n",
      "             ReLU-21                 [-1, 4096]               0\n",
      "           Linear-22                   [-1, 10]          40,970\n",
      "================================================================\n",
      "Total params: 58,322,314\n",
      "Trainable params: 58,322,314\n",
      "Non-trainable params: 0\n",
      "----------------------------------------------------------------\n",
      "Input size (MB): 0.59\n",
      "Forward/backward pass size (MB): 14.72\n",
      "Params size (MB): 222.48\n",
      "Estimated Total Size (MB): 237.79\n",
      "----------------------------------------------------------------\n"
     ]
    }
   ],
   "source": [
    "# get the model summary\n",
    "from torchsummary import summary\n",
    "summary(model, input_size=(3, 227, 227), device=device.type)"
   ]
  },
  {
   "cell_type": "code",
   "execution_count": 68,
   "metadata": {
    "ExecuteTime": {
     "end_time": "2022-04-11T08:34:40.838136Z",
     "start_time": "2022-04-11T08:34:40.828799Z"
    },
    "id": "WAc2aPwpwUSw"
   },
   "outputs": [
    {
     "name": "stdout",
     "output_type": "stream",
     "text": [
      "Parameter containing:\n",
      "tensor([[[[-1.5814e-03,  1.0071e-02, -1.3648e-02,  ...,  9.2739e-04,\n",
      "           -2.4569e-03,  6.6170e-03],\n",
      "          [-2.3137e-03, -1.6421e-02, -3.7000e-03,  ...,  8.7825e-03,\n",
      "           -2.2874e-02,  1.6739e-02],\n",
      "          [ 8.0447e-03,  4.5515e-03,  8.0524e-03,  ...,  1.0742e-03,\n",
      "           -3.9053e-03,  6.0606e-04],\n",
      "          ...,\n",
      "          [-5.1240e-03, -9.8862e-03, -7.7199e-03,  ...,  1.9720e-02,\n",
      "            4.9390e-03, -6.9947e-03],\n",
      "          [-1.1516e-02, -1.7657e-02, -4.4088e-03,  ...,  6.0006e-04,\n",
      "           -3.2601e-03, -1.0434e-02],\n",
      "          [ 4.8061e-03, -7.7554e-03,  6.5513e-03,  ...,  1.0860e-02,\n",
      "           -1.7204e-03, -1.4740e-03]],\n",
      "\n",
      "         [[ 2.4718e-03, -2.7700e-03, -2.5259e-02,  ...,  3.4751e-04,\n",
      "            1.0823e-02,  5.5681e-04],\n",
      "          [-1.0001e-02,  6.0625e-03,  2.4227e-04,  ...,  9.5354e-03,\n",
      "            4.0702e-03,  3.0170e-03],\n",
      "          [ 1.2053e-02, -6.5134e-03, -2.3986e-03,  ...,  6.0410e-03,\n",
      "           -7.0010e-04, -3.1376e-03],\n",
      "          ...,\n",
      "          [ 4.1940e-04,  1.3254e-02,  1.7854e-02,  ..., -7.5654e-03,\n",
      "           -5.4542e-03,  2.5084e-03],\n",
      "          [-3.8394e-03,  2.1751e-03,  2.9034e-03,  ...,  7.0939e-04,\n",
      "           -1.6314e-02,  7.9554e-04],\n",
      "          [-1.3322e-02, -1.1161e-03, -4.9748e-03,  ..., -7.9659e-03,\n",
      "           -5.4697e-03,  8.2062e-03]],\n",
      "\n",
      "         [[-2.0576e-03, -5.2335e-03,  8.5859e-04,  ...,  3.9475e-03,\n",
      "            6.0292e-03,  2.8139e-03],\n",
      "          [ 1.8613e-02,  4.1055e-03,  1.0788e-02,  ...,  8.4184e-03,\n",
      "           -6.5153e-03, -1.1141e-04],\n",
      "          [-1.7006e-02,  1.6457e-02, -8.2840e-03,  ..., -7.3083e-03,\n",
      "           -1.1765e-03, -5.0997e-03],\n",
      "          ...,\n",
      "          [ 3.2343e-04,  1.2668e-03,  1.5890e-02,  ...,  1.5726e-02,\n",
      "           -1.9628e-02, -8.8443e-03],\n",
      "          [-3.7647e-03,  9.6768e-03,  8.7166e-03,  ..., -7.9097e-03,\n",
      "           -4.7659e-03,  7.2189e-03],\n",
      "          [-4.0819e-03, -1.8773e-02, -3.4930e-03,  ...,  2.5123e-03,\n",
      "            1.8291e-02,  2.3906e-03]]],\n",
      "\n",
      "\n",
      "        [[[ 7.2090e-03,  1.4101e-02, -2.0315e-03,  ..., -8.6089e-03,\n",
      "            1.2050e-02, -7.1036e-03],\n",
      "          [-1.2903e-02, -1.1760e-03, -4.2210e-03,  ..., -2.9999e-03,\n",
      "            1.2417e-02, -7.9249e-03],\n",
      "          [-5.6008e-03,  1.2113e-02, -2.0574e-03,  ..., -8.5292e-03,\n",
      "            2.3135e-03, -1.0320e-02],\n",
      "          ...,\n",
      "          [ 1.6501e-02,  1.4260e-02, -1.1925e-04,  ...,  2.3535e-03,\n",
      "           -7.4119e-03,  1.2465e-02],\n",
      "          [ 4.1481e-03, -5.6244e-03, -9.2618e-04,  ...,  1.9079e-02,\n",
      "           -4.1875e-03,  9.1306e-03],\n",
      "          [ 4.7371e-03, -4.7756e-03, -1.0169e-02,  ...,  3.4065e-03,\n",
      "            1.2228e-02,  1.4031e-02]],\n",
      "\n",
      "         [[ 1.0440e-02,  1.8074e-03, -3.8225e-03,  ...,  3.2708e-02,\n",
      "           -4.2263e-03, -6.4487e-03],\n",
      "          [-5.8672e-03, -1.7986e-03, -8.6114e-03,  ..., -2.1953e-02,\n",
      "            2.0318e-03, -8.3126e-03],\n",
      "          [ 1.7678e-03,  1.8201e-03, -1.4640e-02,  ..., -2.2537e-03,\n",
      "            5.5411e-03,  7.1277e-03],\n",
      "          ...,\n",
      "          [ 3.5626e-03,  2.5097e-02,  8.3269e-03,  ...,  9.5229e-03,\n",
      "            2.0016e-03, -6.6262e-03],\n",
      "          [ 3.0339e-03, -1.1933e-02,  3.5096e-03,  ..., -5.7357e-03,\n",
      "            3.7682e-03, -1.8922e-03],\n",
      "          [ 4.1357e-03,  3.5319e-03, -4.7735e-04,  ..., -2.6672e-02,\n",
      "            1.8885e-02,  9.4074e-03]],\n",
      "\n",
      "         [[ 6.4508e-03,  1.0089e-02, -1.7252e-03,  ..., -6.8508e-04,\n",
      "            1.2432e-02,  2.0458e-03],\n",
      "          [ 7.2936e-03, -1.0881e-02,  6.4027e-03,  ...,  1.6813e-02,\n",
      "           -2.7586e-02,  1.1391e-02],\n",
      "          [-1.9035e-02,  1.0123e-02, -1.5592e-03,  ..., -1.0234e-02,\n",
      "           -9.8554e-03, -6.4980e-03],\n",
      "          ...,\n",
      "          [-2.0729e-02,  9.2380e-03,  1.0071e-02,  ...,  1.5698e-02,\n",
      "            1.3367e-03, -5.6660e-03],\n",
      "          [-1.1468e-02,  2.5818e-02,  1.4568e-03,  ...,  4.9509e-03,\n",
      "            1.2863e-02, -1.0441e-02],\n",
      "          [-1.8410e-02, -3.5543e-03,  4.5014e-04,  ...,  5.5591e-03,\n",
      "            8.0963e-03, -1.2005e-02]]],\n",
      "\n",
      "\n",
      "        [[[-9.0800e-03,  7.5386e-03,  6.0017e-03,  ..., -1.1085e-02,\n",
      "            1.1801e-02, -1.7074e-02],\n",
      "          [-7.3234e-03, -4.4705e-03,  3.7066e-04,  ..., -1.9792e-02,\n",
      "            1.2122e-03, -8.2758e-04],\n",
      "          [ 2.1710e-02,  7.7173e-05, -2.5929e-03,  ..., -2.4500e-03,\n",
      "            2.0076e-03, -9.2258e-03],\n",
      "          ...,\n",
      "          [ 4.2956e-03,  2.3359e-03, -7.0766e-03,  ..., -1.5180e-02,\n",
      "            1.3510e-03,  1.6939e-02],\n",
      "          [-3.3476e-02, -3.4170e-03,  4.5112e-05,  ..., -4.2630e-03,\n",
      "            8.5117e-03, -1.3800e-03],\n",
      "          [-2.1330e-02,  3.3807e-03,  4.3559e-03,  ..., -8.5597e-03,\n",
      "           -1.4651e-02,  1.3225e-03]],\n",
      "\n",
      "         [[ 9.1191e-03,  2.2228e-03,  9.6064e-03,  ...,  6.6078e-03,\n",
      "           -1.3347e-02, -5.3683e-03],\n",
      "          [-1.1939e-02,  5.3657e-03, -3.1720e-03,  ..., -1.3051e-03,\n",
      "           -3.1888e-03,  1.3372e-02],\n",
      "          [-5.6374e-03,  7.5449e-04,  1.5287e-03,  ...,  5.7288e-03,\n",
      "           -2.7588e-03, -1.1134e-02],\n",
      "          ...,\n",
      "          [ 3.9090e-03,  9.8121e-05, -5.2989e-03,  ..., -2.4275e-03,\n",
      "           -1.6624e-02,  1.2799e-02],\n",
      "          [-6.3158e-03, -1.1134e-02, -7.0325e-03,  ...,  3.1511e-03,\n",
      "           -7.0804e-03, -1.1400e-02],\n",
      "          [ 4.2932e-03, -8.5911e-03, -9.5977e-03,  ...,  3.8369e-03,\n",
      "           -2.6329e-03, -7.6555e-03]],\n",
      "\n",
      "         [[-7.9496e-03,  5.4720e-03, -4.2762e-03,  ...,  9.5865e-04,\n",
      "           -4.5998e-03, -2.5580e-04],\n",
      "          [ 6.9875e-03, -9.6201e-03, -5.3840e-03,  ..., -2.6878e-03,\n",
      "            1.3178e-02,  3.4973e-03],\n",
      "          [ 9.1550e-03,  7.9589e-03, -6.4654e-03,  ...,  1.1294e-02,\n",
      "           -7.1492e-03,  9.5893e-03],\n",
      "          ...,\n",
      "          [ 3.9085e-03, -1.0546e-02,  4.6071e-04,  ...,  1.3588e-02,\n",
      "           -1.0759e-02,  7.2478e-03],\n",
      "          [-9.9095e-03,  1.1413e-03,  1.1127e-03,  ..., -4.6176e-03,\n",
      "           -1.0385e-02, -5.7717e-03],\n",
      "          [-5.1228e-03, -3.4752e-03,  2.3099e-03,  ..., -1.0974e-02,\n",
      "            1.2718e-02, -9.4135e-03]]],\n",
      "\n",
      "\n",
      "        ...,\n",
      "\n",
      "\n",
      "        [[[-1.2444e-02, -4.7027e-03,  4.8562e-03,  ...,  2.1108e-03,\n",
      "           -1.0550e-02, -1.7176e-02],\n",
      "          [ 3.3096e-03, -2.9116e-03,  1.6402e-02,  ...,  4.8541e-03,\n",
      "            6.1680e-04, -5.6250e-03],\n",
      "          [-1.9256e-02, -7.8564e-03, -9.9530e-04,  ...,  1.9118e-02,\n",
      "           -3.9885e-03, -9.5930e-03],\n",
      "          ...,\n",
      "          [-3.7698e-03, -1.6289e-03,  4.3633e-03,  ..., -1.4920e-02,\n",
      "            2.3800e-03, -4.6570e-03],\n",
      "          [ 1.6386e-02, -1.1341e-02, -1.0247e-02,  ...,  1.8710e-04,\n",
      "           -8.1935e-03,  1.5089e-02],\n",
      "          [-4.4694e-03,  6.1455e-03,  7.8967e-04,  ...,  6.5471e-03,\n",
      "            1.3161e-03,  1.0009e-02]],\n",
      "\n",
      "         [[-1.4309e-02, -3.4634e-03,  1.8801e-03,  ...,  1.7927e-02,\n",
      "           -1.7097e-04,  8.3335e-03],\n",
      "          [ 6.8309e-03, -6.4160e-03, -1.2199e-03,  ..., -8.0026e-03,\n",
      "            3.9803e-03, -5.2387e-03],\n",
      "          [-5.0609e-03,  5.5243e-03, -1.2267e-03,  ..., -1.8426e-02,\n",
      "            4.0482e-04,  1.2039e-02],\n",
      "          ...,\n",
      "          [ 1.2363e-02, -2.0973e-03,  3.8188e-03,  ..., -3.2659e-03,\n",
      "           -1.8823e-04,  4.4300e-03],\n",
      "          [-7.5683e-03,  1.5263e-02,  1.5276e-03,  ..., -4.3980e-03,\n",
      "            1.1775e-03, -2.1754e-02],\n",
      "          [ 1.9346e-03,  5.1230e-03,  1.4443e-02,  ..., -1.1103e-03,\n",
      "           -2.5669e-04,  5.0774e-03]],\n",
      "\n",
      "         [[ 2.0644e-02, -9.0754e-03, -3.4526e-03,  ..., -5.0399e-03,\n",
      "           -1.8623e-03, -1.2783e-02],\n",
      "          [-2.4553e-02,  4.4575e-03,  4.6638e-03,  ...,  3.0397e-03,\n",
      "            9.9026e-03, -8.2062e-03],\n",
      "          [-1.9974e-02,  7.4926e-03,  3.8845e-03,  ..., -3.1225e-03,\n",
      "            1.4908e-02,  2.1262e-04],\n",
      "          ...,\n",
      "          [-1.9940e-03, -9.3468e-04, -1.0601e-02,  ..., -4.6542e-03,\n",
      "           -4.3138e-03,  1.4502e-02],\n",
      "          [ 7.3359e-03, -8.2380e-03, -1.1227e-05,  ...,  7.5790e-03,\n",
      "            1.1929e-02, -2.3697e-03],\n",
      "          [-1.0443e-03,  5.6754e-03, -1.9463e-02,  ..., -5.4636e-03,\n",
      "           -8.6032e-03, -1.1600e-03]]],\n",
      "\n",
      "\n",
      "        [[[ 1.0453e-02, -1.5148e-02, -5.4488e-03,  ..., -9.3502e-03,\n",
      "           -8.3117e-04, -8.4148e-03],\n",
      "          [ 8.7812e-03,  5.2022e-03,  7.1295e-03,  ..., -6.3973e-03,\n",
      "            1.1176e-03,  1.4131e-02],\n",
      "          [-1.0015e-03, -9.0414e-03, -1.3627e-03,  ..., -8.3605e-03,\n",
      "           -9.5766e-03,  8.7341e-04],\n",
      "          ...,\n",
      "          [-1.0827e-02,  2.2625e-03, -2.1127e-02,  ..., -4.2361e-03,\n",
      "            5.1409e-04, -9.0128e-03],\n",
      "          [-9.8801e-03, -2.2366e-03, -1.3026e-02,  ..., -4.2946e-03,\n",
      "           -1.1107e-02, -1.7493e-03],\n",
      "          [-1.2951e-02, -2.4862e-04,  1.4582e-02,  ...,  5.6674e-03,\n",
      "           -1.4746e-02, -1.1262e-02]],\n",
      "\n",
      "         [[ 6.0936e-03, -7.1533e-03,  2.8358e-03,  ...,  7.2282e-03,\n",
      "            8.1994e-04,  7.1673e-03],\n",
      "          [ 1.2947e-02, -3.2780e-03, -6.1815e-03,  ..., -1.3529e-02,\n",
      "           -2.1039e-02, -8.7931e-03],\n",
      "          [-2.5932e-02,  3.3075e-04, -1.5080e-02,  ..., -3.0964e-03,\n",
      "            5.4123e-03, -7.4151e-03],\n",
      "          ...,\n",
      "          [ 7.9827e-03,  9.0096e-03,  4.1555e-03,  ..., -8.4323e-03,\n",
      "            9.4138e-03,  7.1488e-03],\n",
      "          [ 5.6601e-03,  9.1821e-03,  8.7264e-03,  ...,  9.3625e-03,\n",
      "            8.7710e-04,  2.5409e-03],\n",
      "          [ 7.8872e-03, -8.5695e-03, -1.1916e-03,  ..., -9.8895e-03,\n",
      "            2.9611e-03, -4.1097e-03]],\n",
      "\n",
      "         [[ 2.4843e-02, -4.7441e-03,  6.5733e-03,  ..., -5.0412e-03,\n",
      "            8.9902e-03,  3.5203e-03],\n",
      "          [-6.5987e-04, -3.3691e-03, -3.0749e-03,  ..., -1.3083e-02,\n",
      "           -7.7564e-03, -9.4557e-04],\n",
      "          [ 3.2867e-03,  3.8344e-03,  4.7345e-03,  ...,  2.8099e-03,\n",
      "           -1.1151e-02,  2.7699e-03],\n",
      "          ...,\n",
      "          [ 9.7107e-03, -5.5173e-03,  1.0843e-02,  ...,  1.1129e-03,\n",
      "           -4.6068e-04, -2.7089e-02],\n",
      "          [ 5.5507e-03,  3.8424e-04, -4.9470e-03,  ...,  2.2017e-02,\n",
      "            4.7650e-03, -1.1473e-02],\n",
      "          [-6.0687e-03,  6.6147e-03, -7.6705e-03,  ...,  1.8311e-03,\n",
      "            4.5857e-03,  2.5327e-02]]],\n",
      "\n",
      "\n",
      "        [[[ 3.6166e-03, -3.8788e-03, -1.9729e-02,  ...,  5.8982e-03,\n",
      "            5.9428e-03, -1.2900e-02],\n",
      "          [ 1.7931e-02,  1.4290e-02,  2.8324e-03,  ..., -4.3281e-03,\n",
      "           -2.1831e-04,  6.2132e-03],\n",
      "          [-8.4094e-03, -1.0987e-02,  2.2371e-03,  ...,  2.9480e-04,\n",
      "           -7.5828e-03,  6.4412e-03],\n",
      "          ...,\n",
      "          [-3.4477e-03, -1.3943e-02,  1.1299e-02,  ...,  1.1059e-02,\n",
      "            1.4755e-03,  7.0802e-03],\n",
      "          [-4.3301e-03,  7.2065e-03,  7.6835e-03,  ..., -4.1488e-03,\n",
      "           -2.4107e-03,  6.9945e-03],\n",
      "          [ 6.6916e-03,  1.4095e-02,  1.2930e-02,  ...,  6.6217e-03,\n",
      "           -1.2911e-03, -5.0340e-03]],\n",
      "\n",
      "         [[ 9.8497e-03, -1.7919e-02,  1.8279e-02,  ...,  1.2453e-02,\n",
      "            7.8780e-03,  7.2858e-03],\n",
      "          [ 2.1920e-03, -5.5711e-03,  4.7122e-04,  ...,  7.7136e-03,\n",
      "           -2.0690e-02,  3.4163e-03],\n",
      "          [ 5.6601e-03, -1.1109e-02,  9.1434e-03,  ...,  5.9707e-03,\n",
      "           -4.7000e-03, -4.1864e-03],\n",
      "          ...,\n",
      "          [ 4.6319e-03,  4.1007e-03, -5.7974e-03,  ..., -6.5450e-03,\n",
      "            2.1671e-03,  7.3860e-03],\n",
      "          [-2.2779e-02,  1.2016e-02,  3.1113e-03,  ...,  6.3661e-03,\n",
      "            1.5072e-02,  3.7905e-03],\n",
      "          [ 2.2618e-02,  9.0994e-03,  1.0330e-02,  ...,  4.7912e-03,\n",
      "            1.9380e-03, -9.5585e-03]],\n",
      "\n",
      "         [[ 1.0226e-02,  8.5251e-03, -4.2988e-04,  ..., -3.7874e-03,\n",
      "            3.0038e-03, -3.4601e-03],\n",
      "          [-8.8289e-03, -1.0092e-02, -1.9314e-02,  ..., -6.9393e-03,\n",
      "           -7.1538e-03, -1.8588e-03],\n",
      "          [-5.9917e-03, -2.5552e-02, -2.0540e-02,  ...,  6.5669e-03,\n",
      "           -8.3946e-03, -8.7164e-03],\n",
      "          ...,\n",
      "          [-2.2587e-02,  8.5533e-03,  1.0056e-04,  ..., -7.7304e-03,\n",
      "           -1.0640e-02,  1.4228e-02],\n",
      "          [-9.5910e-03, -1.6769e-02,  3.1187e-03,  ..., -2.1432e-02,\n",
      "            1.3065e-03, -1.2327e-03],\n",
      "          [ 8.9976e-03,  4.5270e-03, -9.4345e-03,  ..., -6.3275e-03,\n",
      "            5.5109e-03,  1.3476e-03]]]], requires_grad=True)\n"
     ]
    }
   ],
   "source": [
    "# check weight initialization\n",
    "for p in model.parameters():\n",
    "    print(p)\n",
    "    break"
   ]
  },
  {
   "cell_type": "markdown",
   "metadata": {
    "id": "QeSZhkqBuH1m"
   },
   "source": [
    "# 모델 학습"
   ]
  },
  {
   "cell_type": "code",
   "execution_count": 20,
   "metadata": {
    "ExecuteTime": {
     "end_time": "2022-04-11T05:53:56.147249Z",
     "start_time": "2022-04-11T05:53:56.144680Z"
    },
    "id": "wqhYl7SBt9Ar"
   },
   "outputs": [],
   "source": [
    "# define the loss function\n",
    "loss_func = nn.CrossEntropyLoss(reduction='sum')"
   ]
  },
  {
   "cell_type": "code",
   "execution_count": 33,
   "metadata": {
    "ExecuteTime": {
     "end_time": "2022-04-11T06:02:22.719070Z",
     "start_time": "2022-04-11T06:02:22.716250Z"
    },
    "id": "uPzGlUfVwMHR"
   },
   "outputs": [],
   "source": [
    "# define the optimizer\n",
    "from torch import optim\n",
    "# opt = optim.SGD(model.parameters(), lr=0.001, momentum=0.9, weight_decay=0.0005)\n",
    "optimizer = optim.Adam(model.parameters(), lr=0.01)"
   ]
  },
  {
   "cell_type": "code",
   "execution_count": 22,
   "metadata": {
    "ExecuteTime": {
     "end_time": "2022-04-11T05:53:56.778158Z",
     "start_time": "2022-04-11T05:53:56.775669Z"
    },
    "id": "W-fFQGasx3ed"
   },
   "outputs": [],
   "source": [
    "# read the current value of the learning rate using the following function\n",
    "def get_lr(opt):\n",
    "    for param_group in opt.param_groups:\n",
    "        return param_group['lr']"
   ]
  },
  {
   "cell_type": "code",
   "execution_count": 23,
   "metadata": {
    "ExecuteTime": {
     "end_time": "2022-04-11T05:53:57.058063Z",
     "start_time": "2022-04-11T05:53:57.055482Z"
    },
    "id": "S9Byk7JPxaft"
   },
   "outputs": [],
   "source": [
    "# define lr_scheduler : 1/10 per 10 epochs\n",
    "from torch.optim.lr_scheduler import StepLR\n",
    "lr_scheduler = optim.lr_scheduler.StepLR(opt, step_size=30, gamma=0.1)"
   ]
  },
  {
   "cell_type": "code",
   "execution_count": 24,
   "metadata": {
    "ExecuteTime": {
     "end_time": "2022-04-11T05:53:57.318390Z",
     "start_time": "2022-04-11T05:53:57.315511Z"
    },
    "id": "6UHyV3LuyWNb"
   },
   "outputs": [],
   "source": [
    "# define a function to count the number of correct predictions per mini-batch\n",
    "def metrics_batch(output, target):\n",
    "    # get output class\n",
    "    pred = output.argmax(dim=1, keepdim=True)\n",
    "    # compare output class with target class\n",
    "    corrects = pred.eq(target.view_as(pred)).sum().item()\n",
    "    return corrects"
   ]
  },
  {
   "cell_type": "code",
   "execution_count": 25,
   "metadata": {
    "ExecuteTime": {
     "end_time": "2022-04-11T05:53:57.600376Z",
     "start_time": "2022-04-11T05:53:57.597153Z"
    },
    "id": "FMukRj-dymYk"
   },
   "outputs": [],
   "source": [
    "# define a function to compute the loss value per mini-batch\n",
    "def loss_batch(loss_func, output, target, opt=None):\n",
    "    loss = loss_func(output, target)\n",
    "\n",
    "    metric_b = metrics_batch(output, target)\n",
    "    if opt is not None:\n",
    "        opt.zero_grad()\n",
    "        loss.backward()\n",
    "        opt.step()\n",
    "    return loss.item(), metric_b"
   ]
  },
  {
   "cell_type": "code",
   "execution_count": 34,
   "metadata": {
    "ExecuteTime": {
     "end_time": "2022-04-11T06:02:25.480385Z",
     "start_time": "2022-04-11T06:02:25.475721Z"
    },
    "id": "73DzbhBZ0i3f"
   },
   "outputs": [],
   "source": [
    "# develop a function to compute the loss value and the performance metric for the epoch\n",
    "def loss_epoch(model, loss_func, dataset_dl, sanity_check=False, opt=None):\n",
    "    running_loss = 0\n",
    "    running_metric = 0\n",
    "    len_data = len(dataset_dl.dataset)\n",
    "\n",
    "    for xb, yb in dataset_dl:\n",
    "        # move batcch to device\n",
    "        xb = xb.to(device)\n",
    "        yb = yb.to(device)\n",
    "        # get model output\n",
    "        output = model(xb)\n",
    "\n",
    "        # get loss per batch\n",
    "        loss_b, metric_b = loss_batch(loss_func, output, yb, opt)\n",
    "\n",
    "        # update running loss\n",
    "        running_loss += loss_b\n",
    "        # update running metric\n",
    "        if metric_b is not None:\n",
    "            running_metric += metric_b\n",
    "        \n",
    "        # break the loop in case of sanity check\n",
    "        if sanity_check is True:\n",
    "            break\n",
    "\n",
    "    # average loss value and metric value\n",
    "    loss = running_loss / float(len_data)\n",
    "    metric = running_metric / float(len_data)\n",
    "    return loss, metric"
   ]
  },
  {
   "cell_type": "markdown",
   "metadata": {},
   "source": [
    "## 방법 1\n",
    "- `./original/(2012) AlexNet.ipynb`에 있는 방법으로 하면 error 발생"
   ]
  },
  {
   "cell_type": "code",
   "execution_count": 35,
   "metadata": {
    "ExecuteTime": {
     "end_time": "2022-04-11T06:02:34.721346Z",
     "start_time": "2022-04-11T06:02:34.712984Z"
    },
    "id": "JfCxBjdr14Qw"
   },
   "outputs": [],
   "source": [
    "import time\n",
    "import copy\n",
    "\n",
    "# develop train_val function\n",
    "def train_val(model, params):\n",
    "    # extract model parameters\n",
    "    num_epochs = params['num_epochs']\n",
    "    loss_func = params['loss_func']\n",
    "    optimizer = params['optimizer']\n",
    "    train_dl = params['train_dl']\n",
    "    val_dl = params['val_dl']\n",
    "    sanity_check = params['sanity_check']\n",
    "    lr_scheduler = params['lr_scheduler']\n",
    "    path2weights = params['path2weights']\n",
    "\n",
    "    # keep a history of the loss and the metric value\n",
    "    loss_history = {\n",
    "        'train': [],\n",
    "        'val': [],\n",
    "    }\n",
    "\n",
    "    metric_history = {\n",
    "        'train': [],\n",
    "        'val': [],\n",
    "    }\n",
    "\n",
    "    # save the best perfirming model\n",
    "    best_model_wts = copy.deepcopy(model.state_dict())\n",
    "\n",
    "    # initializer the best loss to an infinite value\n",
    "    best_loss = float('inf')\n",
    "\n",
    "    for epoch in range(num_epochs):\n",
    "        start_time = time.time()\n",
    "\n",
    "        # get current learning rate\n",
    "        current_lr = get_lr(opt)\n",
    "        print('Epoch {}/{}, current lr={}'.format(epoch, num_epochs-1, current_lr))\n",
    "\n",
    "        # train model on trainin dataset\n",
    "        model.train()\n",
    "        train_loss, train_metric = loss_epoch(model, loss_func, train_dl, sanity_check, opt)\n",
    "\n",
    "        # collect loss and metric for the training dataset\n",
    "        loss_history['train'].append(train_loss)\n",
    "        metric_history['train'].append(train_metric)\n",
    "\n",
    "        # evaluate model on validation dataset\n",
    "        model.eval()\n",
    "        with torch.no_grad():\n",
    "            val_loss, val_metric = loss_epoch(model, loss_func, val_dl, sanity_check)\n",
    "        \n",
    "        # store the best model\n",
    "        if val_loss < best_loss:\n",
    "            best_loss = val_loss\n",
    "            best_model_wts = copy.deepcopy(model.state_dict())\n",
    "            # store weights into a local file\n",
    "            torch.save(model.state_dict(), path2weights)\n",
    "            print('Copied best model weights')\n",
    "\n",
    "        # collect loss and metric for validation dataset\n",
    "        loss_history[\"val\"].append(val_loss)\n",
    "        metric_history[\"val\"].append(val_metric)\n",
    "\n",
    "        # update the learning rate\n",
    "        lr_scheduler.step()\n",
    "        if current_lr != get_lr(opt):\n",
    "            print('Loading best model weights!')\n",
    "            model.load_state_dict(best_model_wts)\n",
    "\n",
    "        # print the loss and accuracy values and return the trained model\n",
    "        print('train loss: %.6f, dev loss: %.6f, accuracy: %.2f, time: %.4f s' %(train_loss, val_loss, 100*val_metric, time.time()-start_time))\n",
    "        print('-'*10)\n",
    "\n",
    "    # load best model weights\n",
    "    model.load_state_dict(best_model_wts)\n",
    "    return model, loss_history, metric_history"
   ]
  },
  {
   "cell_type": "code",
   "execution_count": 28,
   "metadata": {
    "ExecuteTime": {
     "end_time": "2022-04-11T05:53:59.163502Z",
     "start_time": "2022-04-11T05:53:59.159525Z"
    },
    "id": "VudDRaSo73Ok"
   },
   "outputs": [],
   "source": [
    "# define the training parameters\n",
    "params_train = {\n",
    "    'num_epochs':3,\n",
    "    'optimizer':opt,\n",
    "    'loss_func':loss_func,\n",
    "    'train_dl':train_dl,\n",
    "    'val_dl':val_dl,\n",
    "    'sanity_check':False,\n",
    "    'lr_scheduler':lr_scheduler,\n",
    "    'path2weights':'./models/weights.pt',\n",
    "}\n",
    "\n",
    "# check the directory to save weights.pt\n",
    "def createFolder(directory):\n",
    "    try:\n",
    "        if not os.path.exists(directory):\n",
    "            os.makedirs(directory)\n",
    "    except OSerror:\n",
    "        print('Error')\n",
    "createFolder('./models')"
   ]
  },
  {
   "cell_type": "code",
   "execution_count": 29,
   "metadata": {
    "ExecuteTime": {
     "end_time": "2022-04-11T05:54:00.942604Z",
     "start_time": "2022-04-11T05:53:59.542169Z"
    },
    "colab": {
     "base_uri": "https://localhost:8080/"
    },
    "id": "WpJYt1z8-5qx",
    "outputId": "1002bef4-2750-4796-f131-ff089a15009e",
    "scrolled": true
   },
   "outputs": [
    {
     "name": "stdout",
     "output_type": "stream",
     "text": [
      "Epoch 0/2, current lr=0.01\n"
     ]
    },
    {
     "ename": "RuntimeError",
     "evalue": "one of the variables needed for gradient computation has been modified by an inplace operation: [torch.FloatTensor [32, 4096]], which is output 0 of ReluBackward0, is at version 1; expected version 0 instead. Hint: enable anomaly detection to find the operation that failed to compute its gradient, with torch.autograd.set_detect_anomaly(True).",
     "output_type": "error",
     "traceback": [
      "\u001b[0;31m---------------------------------------------------------------------------\u001b[0m",
      "\u001b[0;31mRuntimeError\u001b[0m                              Traceback (most recent call last)",
      "Input \u001b[0;32mIn [29]\u001b[0m, in \u001b[0;36m<cell line: 2>\u001b[0;34m()\u001b[0m\n\u001b[1;32m      1\u001b[0m \u001b[38;5;66;03m# train model\u001b[39;00m\n\u001b[0;32m----> 2\u001b[0m model, loss_hist, metric_hist \u001b[38;5;241m=\u001b[39m \u001b[43mtrain_val\u001b[49m\u001b[43m(\u001b[49m\u001b[43mmodel\u001b[49m\u001b[43m,\u001b[49m\u001b[43m \u001b[49m\u001b[43mparams_train\u001b[49m\u001b[43m)\u001b[49m\n",
      "Input \u001b[0;32mIn [27]\u001b[0m, in \u001b[0;36mtrain_val\u001b[0;34m(model, params)\u001b[0m\n\u001b[1;32m     40\u001b[0m \u001b[38;5;66;03m# train model on trainin dataset\u001b[39;00m\n\u001b[1;32m     41\u001b[0m model\u001b[38;5;241m.\u001b[39mtrain()\n\u001b[0;32m---> 42\u001b[0m train_loss, train_metric \u001b[38;5;241m=\u001b[39m \u001b[43mloss_epoch\u001b[49m\u001b[43m(\u001b[49m\u001b[43mmodel\u001b[49m\u001b[43m,\u001b[49m\u001b[43m \u001b[49m\u001b[43mloss_func\u001b[49m\u001b[43m,\u001b[49m\u001b[43m \u001b[49m\u001b[43mtrain_dl\u001b[49m\u001b[43m,\u001b[49m\u001b[43m \u001b[49m\u001b[43msanity_check\u001b[49m\u001b[43m,\u001b[49m\u001b[43m \u001b[49m\u001b[43mopt\u001b[49m\u001b[43m)\u001b[49m\n\u001b[1;32m     44\u001b[0m \u001b[38;5;66;03m# collect loss and metric for the training dataset\u001b[39;00m\n\u001b[1;32m     45\u001b[0m loss_history[\u001b[38;5;124m'\u001b[39m\u001b[38;5;124mtrain\u001b[39m\u001b[38;5;124m'\u001b[39m]\u001b[38;5;241m.\u001b[39mappend(train_loss)\n",
      "Input \u001b[0;32mIn [26]\u001b[0m, in \u001b[0;36mloss_epoch\u001b[0;34m(model, loss_func, dataset_dl, sanity_check, opt)\u001b[0m\n\u001b[1;32m     12\u001b[0m output \u001b[38;5;241m=\u001b[39m model(xb)\n\u001b[1;32m     14\u001b[0m \u001b[38;5;66;03m# get loss per batch\u001b[39;00m\n\u001b[0;32m---> 15\u001b[0m loss_b, metric_b \u001b[38;5;241m=\u001b[39m \u001b[43mloss_batch\u001b[49m\u001b[43m(\u001b[49m\u001b[43mloss_func\u001b[49m\u001b[43m,\u001b[49m\u001b[43m \u001b[49m\u001b[43moutput\u001b[49m\u001b[43m,\u001b[49m\u001b[43m \u001b[49m\u001b[43myb\u001b[49m\u001b[43m,\u001b[49m\u001b[43m \u001b[49m\u001b[43mopt\u001b[49m\u001b[43m)\u001b[49m\n\u001b[1;32m     17\u001b[0m \u001b[38;5;66;03m# update running loss\u001b[39;00m\n\u001b[1;32m     18\u001b[0m running_loss \u001b[38;5;241m+\u001b[39m\u001b[38;5;241m=\u001b[39m loss_b\n",
      "Input \u001b[0;32mIn [25]\u001b[0m, in \u001b[0;36mloss_batch\u001b[0;34m(loss_func, output, target, opt)\u001b[0m\n\u001b[1;32m      6\u001b[0m \u001b[38;5;28;01mif\u001b[39;00m opt \u001b[38;5;129;01mis\u001b[39;00m \u001b[38;5;129;01mnot\u001b[39;00m \u001b[38;5;28;01mNone\u001b[39;00m:\n\u001b[1;32m      7\u001b[0m     opt\u001b[38;5;241m.\u001b[39mzero_grad()\n\u001b[0;32m----> 8\u001b[0m     \u001b[43mloss\u001b[49m\u001b[38;5;241;43m.\u001b[39;49m\u001b[43mbackward\u001b[49m\u001b[43m(\u001b[49m\u001b[43m)\u001b[49m\n\u001b[1;32m      9\u001b[0m     opt\u001b[38;5;241m.\u001b[39mstep()\n\u001b[1;32m     10\u001b[0m \u001b[38;5;28;01mreturn\u001b[39;00m loss\u001b[38;5;241m.\u001b[39mitem(), metric_b\n",
      "File \u001b[0;32m~/Library/Python/3.9/lib/python/site-packages/torch/_tensor.py:363\u001b[0m, in \u001b[0;36mTensor.backward\u001b[0;34m(self, gradient, retain_graph, create_graph, inputs)\u001b[0m\n\u001b[1;32m    354\u001b[0m \u001b[38;5;28;01mif\u001b[39;00m has_torch_function_unary(\u001b[38;5;28mself\u001b[39m):\n\u001b[1;32m    355\u001b[0m     \u001b[38;5;28;01mreturn\u001b[39;00m handle_torch_function(\n\u001b[1;32m    356\u001b[0m         Tensor\u001b[38;5;241m.\u001b[39mbackward,\n\u001b[1;32m    357\u001b[0m         (\u001b[38;5;28mself\u001b[39m,),\n\u001b[0;32m   (...)\u001b[0m\n\u001b[1;32m    361\u001b[0m         create_graph\u001b[38;5;241m=\u001b[39mcreate_graph,\n\u001b[1;32m    362\u001b[0m         inputs\u001b[38;5;241m=\u001b[39minputs)\n\u001b[0;32m--> 363\u001b[0m \u001b[43mtorch\u001b[49m\u001b[38;5;241;43m.\u001b[39;49m\u001b[43mautograd\u001b[49m\u001b[38;5;241;43m.\u001b[39;49m\u001b[43mbackward\u001b[49m\u001b[43m(\u001b[49m\u001b[38;5;28;43mself\u001b[39;49m\u001b[43m,\u001b[49m\u001b[43m \u001b[49m\u001b[43mgradient\u001b[49m\u001b[43m,\u001b[49m\u001b[43m \u001b[49m\u001b[43mretain_graph\u001b[49m\u001b[43m,\u001b[49m\u001b[43m \u001b[49m\u001b[43mcreate_graph\u001b[49m\u001b[43m,\u001b[49m\u001b[43m \u001b[49m\u001b[43minputs\u001b[49m\u001b[38;5;241;43m=\u001b[39;49m\u001b[43minputs\u001b[49m\u001b[43m)\u001b[49m\n",
      "File \u001b[0;32m~/Library/Python/3.9/lib/python/site-packages/torch/autograd/__init__.py:173\u001b[0m, in \u001b[0;36mbackward\u001b[0;34m(tensors, grad_tensors, retain_graph, create_graph, grad_variables, inputs)\u001b[0m\n\u001b[1;32m    168\u001b[0m     retain_graph \u001b[38;5;241m=\u001b[39m create_graph\n\u001b[1;32m    170\u001b[0m \u001b[38;5;66;03m# The reason we repeat same the comment below is that\u001b[39;00m\n\u001b[1;32m    171\u001b[0m \u001b[38;5;66;03m# some Python versions print out the first line of a multi-line function\u001b[39;00m\n\u001b[1;32m    172\u001b[0m \u001b[38;5;66;03m# calls in the traceback and some print out the last line\u001b[39;00m\n\u001b[0;32m--> 173\u001b[0m \u001b[43mVariable\u001b[49m\u001b[38;5;241;43m.\u001b[39;49m\u001b[43m_execution_engine\u001b[49m\u001b[38;5;241;43m.\u001b[39;49m\u001b[43mrun_backward\u001b[49m\u001b[43m(\u001b[49m\u001b[43m  \u001b[49m\u001b[38;5;66;43;03m# Calls into the C++ engine to run the backward pass\u001b[39;49;00m\n\u001b[1;32m    174\u001b[0m \u001b[43m    \u001b[49m\u001b[43mtensors\u001b[49m\u001b[43m,\u001b[49m\u001b[43m \u001b[49m\u001b[43mgrad_tensors_\u001b[49m\u001b[43m,\u001b[49m\u001b[43m \u001b[49m\u001b[43mretain_graph\u001b[49m\u001b[43m,\u001b[49m\u001b[43m \u001b[49m\u001b[43mcreate_graph\u001b[49m\u001b[43m,\u001b[49m\u001b[43m \u001b[49m\u001b[43minputs\u001b[49m\u001b[43m,\u001b[49m\n\u001b[1;32m    175\u001b[0m \u001b[43m    \u001b[49m\u001b[43mallow_unreachable\u001b[49m\u001b[38;5;241;43m=\u001b[39;49m\u001b[38;5;28;43;01mTrue\u001b[39;49;00m\u001b[43m,\u001b[49m\u001b[43m \u001b[49m\u001b[43maccumulate_grad\u001b[49m\u001b[38;5;241;43m=\u001b[39;49m\u001b[38;5;28;43;01mTrue\u001b[39;49;00m\u001b[43m)\u001b[49m\n",
      "\u001b[0;31mRuntimeError\u001b[0m: one of the variables needed for gradient computation has been modified by an inplace operation: [torch.FloatTensor [32, 4096]], which is output 0 of ReluBackward0, is at version 1; expected version 0 instead. Hint: enable anomaly detection to find the operation that failed to compute its gradient, with torch.autograd.set_detect_anomaly(True)."
     ]
    }
   ],
   "source": [
    "# train model\n",
    "model, loss_hist, metric_hist = train_val(model, params_train)"
   ]
  },
  {
   "cell_type": "markdown",
   "metadata": {},
   "source": [
    "## 방법 2\n",
    "- [CNN, data augmentation X (pytorch, test acc: 74.2)](https://dacon.io/competitions/official/235874/codeshare/4610?page=1&dtype=recent)에서 제시한 코드를 참고해서 구현해보기"
   ]
  },
  {
   "cell_type": "code",
   "execution_count": 37,
   "metadata": {
    "ExecuteTime": {
     "end_time": "2022-04-11T06:03:02.526554Z",
     "start_time": "2022-04-11T06:03:02.060067Z"
    },
    "scrolled": true
   },
   "outputs": [
    {
     "data": {
      "application/vnd.jupyter.widget-view+json": {
       "model_id": "f15c0333c87a4a09b2f936b8ffad946a",
       "version_major": 2,
       "version_minor": 0
      },
      "text/plain": [
       "  0%|          | 0/157 [00:00<?, ?it/s]"
      ]
     },
     "metadata": {},
     "output_type": "display_data"
    },
    {
     "ename": "TypeError",
     "evalue": "empty(): argument 'size' must be tuple of ints, but found element of type Tensor at pos 1",
     "output_type": "error",
     "traceback": [
      "\u001b[0;31m---------------------------------------------------------------------------\u001b[0m",
      "\u001b[0;31mTypeError\u001b[0m                                 Traceback (most recent call last)",
      "Input \u001b[0;32mIn [37]\u001b[0m, in \u001b[0;36m<cell line: 8>\u001b[0;34m()\u001b[0m\n\u001b[1;32m     13\u001b[0m \u001b[38;5;66;03m# zero the parameter gradients\u001b[39;00m\n\u001b[1;32m     14\u001b[0m optimizer\u001b[38;5;241m.\u001b[39mzero_grad()\n\u001b[0;32m---> 15\u001b[0m outputs\u001b[38;5;241m=\u001b[39m \u001b[43mAlexNet\u001b[49m\u001b[43m(\u001b[49m\u001b[43minputs\u001b[49m\u001b[43m)\u001b[49m\n\u001b[1;32m     16\u001b[0m loss \u001b[38;5;241m=\u001b[39m criterion(outputs, labels)\n\u001b[1;32m     17\u001b[0m loss\u001b[38;5;241m.\u001b[39mbackward()\n",
      "Input \u001b[0;32mIn [16]\u001b[0m, in \u001b[0;36mAlexNet.__init__\u001b[0;34m(self, num_classes)\u001b[0m\n\u001b[1;32m     12\u001b[0m \u001b[38;5;28mself\u001b[39m\u001b[38;5;241m.\u001b[39mnet \u001b[38;5;241m=\u001b[39m nn\u001b[38;5;241m.\u001b[39mSequential(\n\u001b[1;32m     13\u001b[0m     nn\u001b[38;5;241m.\u001b[39mConv2d(\u001b[38;5;241m3\u001b[39m, \u001b[38;5;241m96\u001b[39m, kernel_size\u001b[38;5;241m=\u001b[39m\u001b[38;5;241m11\u001b[39m, stride\u001b[38;5;241m=\u001b[39m\u001b[38;5;241m4\u001b[39m, padding\u001b[38;5;241m=\u001b[39m\u001b[38;5;241m0\u001b[39m), \u001b[38;5;66;03m# (b x 96 x 55 x 55)\u001b[39;00m\n\u001b[1;32m     14\u001b[0m     nn\u001b[38;5;241m.\u001b[39mReLU(inplace\u001b[38;5;241m=\u001b[39m\u001b[38;5;28;01mTrue\u001b[39;00m),\n\u001b[0;32m   (...)\u001b[0m\n\u001b[1;32m     31\u001b[0m     nn\u001b[38;5;241m.\u001b[39mMaxPool2d(\u001b[38;5;241m3\u001b[39m, \u001b[38;5;241m2\u001b[39m), \u001b[38;5;66;03m# (b x 256 x 6 x 6)\u001b[39;00m\n\u001b[1;32m     32\u001b[0m )\n\u001b[1;32m     34\u001b[0m \u001b[38;5;66;03m# fc layer\u001b[39;00m\n\u001b[1;32m     35\u001b[0m \u001b[38;5;28mself\u001b[39m\u001b[38;5;241m.\u001b[39mclassifier \u001b[38;5;241m=\u001b[39m nn\u001b[38;5;241m.\u001b[39mSequential(\n\u001b[1;32m     36\u001b[0m     nn\u001b[38;5;241m.\u001b[39mDropout(p\u001b[38;5;241m=\u001b[39m\u001b[38;5;241m0.5\u001b[39m, inplace\u001b[38;5;241m=\u001b[39m\u001b[38;5;28;01mTrue\u001b[39;00m),\n\u001b[1;32m     37\u001b[0m     nn\u001b[38;5;241m.\u001b[39mLinear(in_features\u001b[38;5;241m=\u001b[39m(\u001b[38;5;241m256\u001b[39m \u001b[38;5;241m*\u001b[39m \u001b[38;5;241m6\u001b[39m \u001b[38;5;241m*\u001b[39m \u001b[38;5;241m6\u001b[39m), out_features\u001b[38;5;241m=\u001b[39m\u001b[38;5;241m4096\u001b[39m),\n\u001b[1;32m     38\u001b[0m     nn\u001b[38;5;241m.\u001b[39mReLU(),\n\u001b[1;32m     39\u001b[0m     nn\u001b[38;5;241m.\u001b[39mDropout(p\u001b[38;5;241m=\u001b[39m\u001b[38;5;241m0.5\u001b[39m, inplace\u001b[38;5;241m=\u001b[39m\u001b[38;5;28;01mTrue\u001b[39;00m),\n\u001b[1;32m     40\u001b[0m     nn\u001b[38;5;241m.\u001b[39mLinear(in_features\u001b[38;5;241m=\u001b[39m\u001b[38;5;241m4096\u001b[39m, out_features\u001b[38;5;241m=\u001b[39m\u001b[38;5;241m4096\u001b[39m),\n\u001b[1;32m     41\u001b[0m     nn\u001b[38;5;241m.\u001b[39mReLU(),\n\u001b[0;32m---> 42\u001b[0m     \u001b[43mnn\u001b[49m\u001b[38;5;241;43m.\u001b[39;49m\u001b[43mLinear\u001b[49m\u001b[43m(\u001b[49m\u001b[43min_features\u001b[49m\u001b[38;5;241;43m=\u001b[39;49m\u001b[38;5;241;43m4096\u001b[39;49m\u001b[43m,\u001b[49m\u001b[43m \u001b[49m\u001b[43mout_features\u001b[49m\u001b[38;5;241;43m=\u001b[39;49m\u001b[43mnum_classes\u001b[49m\u001b[43m)\u001b[49m,\n\u001b[1;32m     43\u001b[0m )\n\u001b[1;32m     45\u001b[0m \u001b[38;5;66;03m# weight initialization\u001b[39;00m\n\u001b[1;32m     46\u001b[0m \u001b[38;5;28mself\u001b[39m\u001b[38;5;241m.\u001b[39minit_weight()\n",
      "File \u001b[0;32m~/Library/Python/3.9/lib/python/site-packages/torch/nn/modules/linear.py:85\u001b[0m, in \u001b[0;36mLinear.__init__\u001b[0;34m(self, in_features, out_features, bias, device, dtype)\u001b[0m\n\u001b[1;32m     83\u001b[0m \u001b[38;5;28mself\u001b[39m\u001b[38;5;241m.\u001b[39min_features \u001b[38;5;241m=\u001b[39m in_features\n\u001b[1;32m     84\u001b[0m \u001b[38;5;28mself\u001b[39m\u001b[38;5;241m.\u001b[39mout_features \u001b[38;5;241m=\u001b[39m out_features\n\u001b[0;32m---> 85\u001b[0m \u001b[38;5;28mself\u001b[39m\u001b[38;5;241m.\u001b[39mweight \u001b[38;5;241m=\u001b[39m Parameter(\u001b[43mtorch\u001b[49m\u001b[38;5;241;43m.\u001b[39;49m\u001b[43mempty\u001b[49m\u001b[43m(\u001b[49m\u001b[43m(\u001b[49m\u001b[43mout_features\u001b[49m\u001b[43m,\u001b[49m\u001b[43m \u001b[49m\u001b[43min_features\u001b[49m\u001b[43m)\u001b[49m\u001b[43m,\u001b[49m\u001b[43m \u001b[49m\u001b[38;5;241;43m*\u001b[39;49m\u001b[38;5;241;43m*\u001b[39;49m\u001b[43mfactory_kwargs\u001b[49m\u001b[43m)\u001b[49m)\n\u001b[1;32m     86\u001b[0m \u001b[38;5;28;01mif\u001b[39;00m bias:\n\u001b[1;32m     87\u001b[0m     \u001b[38;5;28mself\u001b[39m\u001b[38;5;241m.\u001b[39mbias \u001b[38;5;241m=\u001b[39m Parameter(torch\u001b[38;5;241m.\u001b[39mempty(out_features, \u001b[38;5;241m*\u001b[39m\u001b[38;5;241m*\u001b[39mfactory_kwargs))\n",
      "\u001b[0;31mTypeError\u001b[0m: empty(): argument 'size' must be tuple of ints, but found element of type Tensor at pos 1"
     ]
    }
   ],
   "source": [
    "# 노트북일 때만 사용\n",
    "from tqdm.notebook import tqdm\n",
    "import time\n",
    "start_time = time.time()\n",
    "\n",
    "min_loss = int(1e9)\n",
    "history = []\n",
    "for epoch in range(100):  # loop over the dataset multiple times\n",
    "    epoch_loss = 0.0\n",
    "    tk0 = tqdm(train_dl, total=len(train_dl),leave=False)\n",
    "    for step, (inputs, labels) in enumerate(tk0, 0):\n",
    "        inputs, labels = inputs.to(device), labels.to(device)\n",
    "        # zero the parameter gradients\n",
    "        optimizer.zero_grad()\n",
    "        outputs= AlexNet(inputs)\n",
    "        loss = criterion(outputs, labels)\n",
    "        loss.backward()\n",
    "        optimizer.step()\n",
    "\n",
    "        epoch_loss += loss.item()\n",
    "        history.append(loss.item())\n",
    "    \n",
    "    # validation\n",
    "    class_correct = list(0. for i in range(1000))\n",
    "    class_total = list(0. for i in range(1000))\n",
    "    with torch.no_grad():\n",
    "        for data in valid_loader:\n",
    "            images, labels = data\n",
    "            images = images.cuda()\n",
    "            labels = labels.cuda()\n",
    "            outputs = alexnet(images)\n",
    "            _, predicted = torch.max(outputs, 1)\n",
    "            c = (predicted == labels).squeeze()\n",
    "            for i in range(labels.size()[0]):\n",
    "                label = labels[i].item()\n",
    "                class_correct[label] += c[i].item()\n",
    "                class_total[label] += 1\n",
    "\n",
    "    # print statistics\n",
    "    tqdm.write('[Epoch : %d] train_loss: %.5f val_acc: %.2f' %\n",
    "        (epoch + 1, epoch_loss / 157, sum(class_correct) / sum(class_total) * 100))\n",
    "    if min_loss < epoch_loss:\n",
    "        count+=1\n",
    "        if count > 10 :\n",
    "            for g in optimizer.param_groups:\n",
    "                g['lr']/=10\n",
    "    else:\n",
    "        min_loss = epoch_loss\n",
    "        count = 0\n",
    "\n",
    "print(time.time()-start_time)\n",
    "print('Finished Training')"
   ]
  },
  {
   "cell_type": "markdown",
   "metadata": {},
   "source": [
    "## 방법 3\n",
    "- `(2017) DenseNet.ipynb`의 학습 코드 참고"
   ]
  },
  {
   "cell_type": "code",
   "execution_count": 38,
   "metadata": {
    "ExecuteTime": {
     "end_time": "2022-04-11T07:37:29.456537Z",
     "start_time": "2022-04-11T07:37:29.440942Z"
    }
   },
   "outputs": [],
   "source": [
    "# define loss function, optimizer, lr_scheduler\n",
    "loss_func = nn.CrossEntropyLoss(reduction='sum')\n",
    "opt = optim.Adam(model.parameters(), lr=0.01)\n",
    "\n",
    "from torch.optim.lr_scheduler import ReduceLROnPlateau\n",
    "lr_scheduler = ReduceLROnPlateau(opt, mode='min', factor=0.1, patience=8)\n",
    "\n",
    "# get current lr\n",
    "def get_lr(opt):\n",
    "    for param_group in opt.param_groups:\n",
    "        return param_group['lr']\n",
    "\n",
    "\n",
    "# calculate the metric per mini-batch\n",
    "def metric_batch(output, target):\n",
    "    pred = output.argmax(1, keepdim=True)\n",
    "    corrects = pred.eq(target.view_as(pred)).sum().item()\n",
    "    return corrects\n",
    "\n",
    "\n",
    "# calculate the loss per mini-batch\n",
    "def loss_batch(loss_func, output, target, opt=None):\n",
    "    loss_b = loss_func(output, target)\n",
    "    metric_b = metric_batch(output, target)\n",
    "\n",
    "    if opt is not None:\n",
    "        opt.zero_grad()\n",
    "        loss_b.backward()\n",
    "        opt.step()\n",
    "    \n",
    "    return loss_b.item(), metric_b\n",
    "\n",
    "\n",
    "# calculate the loss per epochs\n",
    "def loss_epoch(model, loss_func, dataset_dl, sanity_check=False, opt=None):\n",
    "    running_loss = 0.0\n",
    "    running_metric = 0.0\n",
    "    len_data = len(dataset_dl.dataset)\n",
    "\n",
    "    for xb, yb in dataset_dl:\n",
    "        xb = xb.to(device)\n",
    "        yb = yb.to(device)\n",
    "        output = model(xb)\n",
    "\n",
    "        loss_b, metric_b = loss_batch(loss_func, output, yb, opt)\n",
    "\n",
    "        running_loss += loss_b\n",
    "        \n",
    "        if metric_b is not None:\n",
    "            running_metric += metric_b\n",
    "\n",
    "        if sanity_check is True:\n",
    "            break\n",
    "\n",
    "    loss = running_loss / len_data\n",
    "    metric = running_metric / len_data\n",
    "    return loss, metric\n",
    "\n",
    "\n",
    "# function to start training\n",
    "def train_val(model, params):\n",
    "    num_epochs=params['num_epochs']\n",
    "    loss_func=params['loss_func']\n",
    "    opt=params['optimizer']\n",
    "    train_dl=params['train_dl']\n",
    "    val_dl=params['val_dl']\n",
    "    sanity_check=params['sanity_check']\n",
    "    lr_scheduler=params['lr_scheduler']\n",
    "    path2weights=params['path2weights']\n",
    "\n",
    "    loss_history = {'train': [], 'val': []}\n",
    "    metric_history = {'train': [], 'val': []}\n",
    "\n",
    "    best_loss = float('inf')\n",
    "    best_model_wts = copy.deepcopy(model.state_dict())\n",
    "    start_time = time.time()\n",
    "\n",
    "    for epoch in range(num_epochs):\n",
    "        current_lr = get_lr(opt)\n",
    "        print('Epoch {}/{}, current lr= {}'.format(epoch, num_epochs-1, current_lr))\n",
    "\n",
    "        model.train()\n",
    "        train_loss, train_metric = loss_epoch(model, loss_func, train_dl, sanity_check, opt)\n",
    "        loss_history['train'].append(train_loss)\n",
    "        metric_history['train'].append(train_metric)\n",
    "\n",
    "        model.eval()\n",
    "        with torch.no_grad():\n",
    "            val_loss, val_metric = loss_epoch(model, loss_func, val_dl, sanity_check)\n",
    "        loss_history['val'].append(val_loss)\n",
    "        metric_history['val'].append(val_metric)\n",
    "\n",
    "        if val_loss < best_loss:\n",
    "            best_loss = val_loss\n",
    "            best_model_wts = copy.deepcopy(model.state_dict())\n",
    "            torch.save(model.state_dict(), path2weights)\n",
    "            print('Copied best model weights!')\n",
    "\n",
    "        lr_scheduler.step(val_loss)\n",
    "        if current_lr != get_lr(opt):\n",
    "            print('Loading best model weights!')\n",
    "            model.load_state_dict(best_model_wts)\n",
    "\n",
    "        print('train loss: %.6f, val loss: %.6f, accuracy: %.2f, time: %.4f min' %(train_loss, val_loss, 100*val_metric, (time.time()-start_time)/60))\n",
    "        print('-'*10)\n",
    "\n",
    "    model.load_state_dict(best_model_wts)\n",
    "    return model, loss_history, metric_history"
   ]
  },
  {
   "cell_type": "code",
   "execution_count": 39,
   "metadata": {
    "ExecuteTime": {
     "end_time": "2022-04-11T07:37:38.413568Z",
     "start_time": "2022-04-11T07:37:38.409421Z"
    }
   },
   "outputs": [],
   "source": [
    "# define the training parameters\n",
    "params_train = {\n",
    "    'num_epochs':30,\n",
    "    'optimizer':opt,\n",
    "    'loss_func':loss_func,\n",
    "    'train_dl':train_dl,\n",
    "    'val_dl':val_dl,\n",
    "    'sanity_check':False,\n",
    "    'lr_scheduler':lr_scheduler,\n",
    "    'path2weights':'./models/weights.pt',\n",
    "}\n",
    "\n",
    "# check the directory to save weights.pt\n",
    "def createFolder(directory):\n",
    "    try:\n",
    "        if not os.path.exists(directory):\n",
    "            os.makedirs(directory)\n",
    "    except OSerror:\n",
    "        print('Error')\n",
    "createFolder('./models')"
   ]
  },
  {
   "cell_type": "code",
   "execution_count": 40,
   "metadata": {
    "ExecuteTime": {
     "end_time": "2022-04-11T07:37:48.415754Z",
     "start_time": "2022-04-11T07:37:47.081811Z"
    },
    "scrolled": true
   },
   "outputs": [
    {
     "name": "stdout",
     "output_type": "stream",
     "text": [
      "Epoch 0/29, current lr= 0.01\n"
     ]
    },
    {
     "ename": "RuntimeError",
     "evalue": "one of the variables needed for gradient computation has been modified by an inplace operation: [torch.FloatTensor [32, 4096]], which is output 0 of ReluBackward0, is at version 1; expected version 0 instead. Hint: enable anomaly detection to find the operation that failed to compute its gradient, with torch.autograd.set_detect_anomaly(True).",
     "output_type": "error",
     "traceback": [
      "\u001b[0;31m---------------------------------------------------------------------------\u001b[0m",
      "\u001b[0;31mRuntimeError\u001b[0m                              Traceback (most recent call last)",
      "Input \u001b[0;32mIn [40]\u001b[0m, in \u001b[0;36m<cell line: 1>\u001b[0;34m()\u001b[0m\n\u001b[0;32m----> 1\u001b[0m model, loss_hist, metric_hist \u001b[38;5;241m=\u001b[39m \u001b[43mtrain_val\u001b[49m\u001b[43m(\u001b[49m\u001b[43mmodel\u001b[49m\u001b[43m,\u001b[49m\u001b[43m \u001b[49m\u001b[43mparams_train\u001b[49m\u001b[43m)\u001b[49m\n",
      "Input \u001b[0;32mIn [38]\u001b[0m, in \u001b[0;36mtrain_val\u001b[0;34m(model, params)\u001b[0m\n\u001b[1;32m     81\u001b[0m \u001b[38;5;28mprint\u001b[39m(\u001b[38;5;124m'\u001b[39m\u001b[38;5;124mEpoch \u001b[39m\u001b[38;5;132;01m{}\u001b[39;00m\u001b[38;5;124m/\u001b[39m\u001b[38;5;132;01m{}\u001b[39;00m\u001b[38;5;124m, current lr= \u001b[39m\u001b[38;5;132;01m{}\u001b[39;00m\u001b[38;5;124m'\u001b[39m\u001b[38;5;241m.\u001b[39mformat(epoch, num_epochs\u001b[38;5;241m-\u001b[39m\u001b[38;5;241m1\u001b[39m, current_lr))\n\u001b[1;32m     83\u001b[0m model\u001b[38;5;241m.\u001b[39mtrain()\n\u001b[0;32m---> 84\u001b[0m train_loss, train_metric \u001b[38;5;241m=\u001b[39m \u001b[43mloss_epoch\u001b[49m\u001b[43m(\u001b[49m\u001b[43mmodel\u001b[49m\u001b[43m,\u001b[49m\u001b[43m \u001b[49m\u001b[43mloss_func\u001b[49m\u001b[43m,\u001b[49m\u001b[43m \u001b[49m\u001b[43mtrain_dl\u001b[49m\u001b[43m,\u001b[49m\u001b[43m \u001b[49m\u001b[43msanity_check\u001b[49m\u001b[43m,\u001b[49m\u001b[43m \u001b[49m\u001b[43mopt\u001b[49m\u001b[43m)\u001b[49m\n\u001b[1;32m     85\u001b[0m loss_history[\u001b[38;5;124m'\u001b[39m\u001b[38;5;124mtrain\u001b[39m\u001b[38;5;124m'\u001b[39m]\u001b[38;5;241m.\u001b[39mappend(train_loss)\n\u001b[1;32m     86\u001b[0m metric_history[\u001b[38;5;124m'\u001b[39m\u001b[38;5;124mtrain\u001b[39m\u001b[38;5;124m'\u001b[39m]\u001b[38;5;241m.\u001b[39mappend(train_metric)\n",
      "Input \u001b[0;32mIn [38]\u001b[0m, in \u001b[0;36mloss_epoch\u001b[0;34m(model, loss_func, dataset_dl, sanity_check, opt)\u001b[0m\n\u001b[1;32m     43\u001b[0m yb \u001b[38;5;241m=\u001b[39m yb\u001b[38;5;241m.\u001b[39mto(device)\n\u001b[1;32m     44\u001b[0m output \u001b[38;5;241m=\u001b[39m model(xb)\n\u001b[0;32m---> 46\u001b[0m loss_b, metric_b \u001b[38;5;241m=\u001b[39m \u001b[43mloss_batch\u001b[49m\u001b[43m(\u001b[49m\u001b[43mloss_func\u001b[49m\u001b[43m,\u001b[49m\u001b[43m \u001b[49m\u001b[43moutput\u001b[49m\u001b[43m,\u001b[49m\u001b[43m \u001b[49m\u001b[43myb\u001b[49m\u001b[43m,\u001b[49m\u001b[43m \u001b[49m\u001b[43mopt\u001b[49m\u001b[43m)\u001b[49m\n\u001b[1;32m     48\u001b[0m running_loss \u001b[38;5;241m+\u001b[39m\u001b[38;5;241m=\u001b[39m loss_b\n\u001b[1;32m     50\u001b[0m \u001b[38;5;28;01mif\u001b[39;00m metric_b \u001b[38;5;129;01mis\u001b[39;00m \u001b[38;5;129;01mnot\u001b[39;00m \u001b[38;5;28;01mNone\u001b[39;00m:\n",
      "Input \u001b[0;32mIn [38]\u001b[0m, in \u001b[0;36mloss_batch\u001b[0;34m(loss_func, output, target, opt)\u001b[0m\n\u001b[1;32m     27\u001b[0m \u001b[38;5;28;01mif\u001b[39;00m opt \u001b[38;5;129;01mis\u001b[39;00m \u001b[38;5;129;01mnot\u001b[39;00m \u001b[38;5;28;01mNone\u001b[39;00m:\n\u001b[1;32m     28\u001b[0m     opt\u001b[38;5;241m.\u001b[39mzero_grad()\n\u001b[0;32m---> 29\u001b[0m     \u001b[43mloss_b\u001b[49m\u001b[38;5;241;43m.\u001b[39;49m\u001b[43mbackward\u001b[49m\u001b[43m(\u001b[49m\u001b[43m)\u001b[49m\n\u001b[1;32m     30\u001b[0m     opt\u001b[38;5;241m.\u001b[39mstep()\n\u001b[1;32m     32\u001b[0m \u001b[38;5;28;01mreturn\u001b[39;00m loss_b\u001b[38;5;241m.\u001b[39mitem(), metric_b\n",
      "File \u001b[0;32m~/Library/Python/3.9/lib/python/site-packages/torch/_tensor.py:363\u001b[0m, in \u001b[0;36mTensor.backward\u001b[0;34m(self, gradient, retain_graph, create_graph, inputs)\u001b[0m\n\u001b[1;32m    354\u001b[0m \u001b[38;5;28;01mif\u001b[39;00m has_torch_function_unary(\u001b[38;5;28mself\u001b[39m):\n\u001b[1;32m    355\u001b[0m     \u001b[38;5;28;01mreturn\u001b[39;00m handle_torch_function(\n\u001b[1;32m    356\u001b[0m         Tensor\u001b[38;5;241m.\u001b[39mbackward,\n\u001b[1;32m    357\u001b[0m         (\u001b[38;5;28mself\u001b[39m,),\n\u001b[0;32m   (...)\u001b[0m\n\u001b[1;32m    361\u001b[0m         create_graph\u001b[38;5;241m=\u001b[39mcreate_graph,\n\u001b[1;32m    362\u001b[0m         inputs\u001b[38;5;241m=\u001b[39minputs)\n\u001b[0;32m--> 363\u001b[0m \u001b[43mtorch\u001b[49m\u001b[38;5;241;43m.\u001b[39;49m\u001b[43mautograd\u001b[49m\u001b[38;5;241;43m.\u001b[39;49m\u001b[43mbackward\u001b[49m\u001b[43m(\u001b[49m\u001b[38;5;28;43mself\u001b[39;49m\u001b[43m,\u001b[49m\u001b[43m \u001b[49m\u001b[43mgradient\u001b[49m\u001b[43m,\u001b[49m\u001b[43m \u001b[49m\u001b[43mretain_graph\u001b[49m\u001b[43m,\u001b[49m\u001b[43m \u001b[49m\u001b[43mcreate_graph\u001b[49m\u001b[43m,\u001b[49m\u001b[43m \u001b[49m\u001b[43minputs\u001b[49m\u001b[38;5;241;43m=\u001b[39;49m\u001b[43minputs\u001b[49m\u001b[43m)\u001b[49m\n",
      "File \u001b[0;32m~/Library/Python/3.9/lib/python/site-packages/torch/autograd/__init__.py:173\u001b[0m, in \u001b[0;36mbackward\u001b[0;34m(tensors, grad_tensors, retain_graph, create_graph, grad_variables, inputs)\u001b[0m\n\u001b[1;32m    168\u001b[0m     retain_graph \u001b[38;5;241m=\u001b[39m create_graph\n\u001b[1;32m    170\u001b[0m \u001b[38;5;66;03m# The reason we repeat same the comment below is that\u001b[39;00m\n\u001b[1;32m    171\u001b[0m \u001b[38;5;66;03m# some Python versions print out the first line of a multi-line function\u001b[39;00m\n\u001b[1;32m    172\u001b[0m \u001b[38;5;66;03m# calls in the traceback and some print out the last line\u001b[39;00m\n\u001b[0;32m--> 173\u001b[0m \u001b[43mVariable\u001b[49m\u001b[38;5;241;43m.\u001b[39;49m\u001b[43m_execution_engine\u001b[49m\u001b[38;5;241;43m.\u001b[39;49m\u001b[43mrun_backward\u001b[49m\u001b[43m(\u001b[49m\u001b[43m  \u001b[49m\u001b[38;5;66;43;03m# Calls into the C++ engine to run the backward pass\u001b[39;49;00m\n\u001b[1;32m    174\u001b[0m \u001b[43m    \u001b[49m\u001b[43mtensors\u001b[49m\u001b[43m,\u001b[49m\u001b[43m \u001b[49m\u001b[43mgrad_tensors_\u001b[49m\u001b[43m,\u001b[49m\u001b[43m \u001b[49m\u001b[43mretain_graph\u001b[49m\u001b[43m,\u001b[49m\u001b[43m \u001b[49m\u001b[43mcreate_graph\u001b[49m\u001b[43m,\u001b[49m\u001b[43m \u001b[49m\u001b[43minputs\u001b[49m\u001b[43m,\u001b[49m\n\u001b[1;32m    175\u001b[0m \u001b[43m    \u001b[49m\u001b[43mallow_unreachable\u001b[49m\u001b[38;5;241;43m=\u001b[39;49m\u001b[38;5;28;43;01mTrue\u001b[39;49;00m\u001b[43m,\u001b[49m\u001b[43m \u001b[49m\u001b[43maccumulate_grad\u001b[49m\u001b[38;5;241;43m=\u001b[39;49m\u001b[38;5;28;43;01mTrue\u001b[39;49;00m\u001b[43m)\u001b[49m\n",
      "\u001b[0;31mRuntimeError\u001b[0m: one of the variables needed for gradient computation has been modified by an inplace operation: [torch.FloatTensor [32, 4096]], which is output 0 of ReluBackward0, is at version 1; expected version 0 instead. Hint: enable anomaly detection to find the operation that failed to compute its gradient, with torch.autograd.set_detect_anomaly(True)."
     ]
    }
   ],
   "source": [
    "model, loss_hist, metric_hist = train_val(model, params_train)"
   ]
  },
  {
   "cell_type": "markdown",
   "metadata": {},
   "source": [
    "## 방법 4\n",
    "- [[kaggle] Stanford Dogs AlexNet Paper Implementation Pytorch](https://www.kaggle.com/code/virajbagal/stanford-dogs-alexnet-paper-implementation-pytorch)"
   ]
  },
  {
   "cell_type": "code",
   "execution_count": 81,
   "metadata": {
    "ExecuteTime": {
     "end_time": "2022-04-11T08:44:43.673204Z",
     "start_time": "2022-04-11T08:44:43.669600Z"
    }
   },
   "outputs": [
    {
     "data": {
      "text/plain": [
       "tensor([2, 4, 1, 7, 2, 3, 6, 8, 8, 7, 8, 4, 7, 0, 0, 5, 8, 7, 7, 2, 1, 4, 6, 0,\n",
       "        9, 4, 7, 0, 3, 5, 3, 6])"
      ]
     },
     "execution_count": 81,
     "metadata": {},
     "output_type": "execute_result"
    }
   ],
   "source": [
    "label"
   ]
  },
  {
   "cell_type": "code",
   "execution_count": 110,
   "metadata": {
    "ExecuteTime": {
     "end_time": "2022-04-11T08:53:47.352409Z",
     "start_time": "2022-04-11T08:53:46.246969Z"
    }
   },
   "outputs": [
    {
     "name": "stderr",
     "output_type": "stream",
     "text": [
      "/var/folders/gz/l3tl4gf96231sq9ztwck08x00000gp/T/ipykernel_11103/1914182117.py:2: FutureWarning: The input object of type 'Tensor' is an array-like implementing one of the corresponding protocols (`__array__`, `__array_interface__` or `__array_struct__`); but not a sequence (or 0-D). In the future, this object will be coerced as if it was first converted using `np.array(obj)`. To retain the old behaviour, you have to either modify the type 'Tensor', or assign to an empty array created with `np.empty(correct_shape, dtype=object)`.\n",
      "  print(np.array(batch).shape)\n",
      "/var/folders/gz/l3tl4gf96231sq9ztwck08x00000gp/T/ipykernel_11103/1914182117.py:2: VisibleDeprecationWarning: Creating an ndarray from ragged nested sequences (which is a list-or-tuple of lists-or-tuples-or ndarrays with different lengths or shapes) is deprecated. If you meant to do this, you must specify 'dtype=object' when creating the ndarray.\n",
      "  print(np.array(batch).shape)\n"
     ]
    },
    {
     "name": "stdout",
     "output_type": "stream",
     "text": [
      "(2,)\n",
      "torch.Size([32, 3, 227, 227])\n",
      "**\n",
      "torch.Size([32])\n",
      "torch.Size([32, 10])\n"
     ]
    }
   ],
   "source": [
    "for i, batch in enumerate(train_dl):\n",
    "    print(np.array(batch).shape)\n",
    "    optimizer.zero_grad()\n",
    "    img, label = batch\n",
    "    print(img.shape)\n",
    "    print('**')\n",
    "    print(label.shape)\n",
    "    img, label = img.to(device, dtype = torch.float), label.to(device, dtype = torch.long)\n",
    "    \n",
    "    output = alexnet(img)\n",
    "    print(output.shape)\n",
    "    break\n",
    "#         batch_loss = criterion(output, torch.max(label, 1)[1])\n",
    "    batch_loss = criterion(output, torch.max(label, 1)[1])"
   ]
  },
  {
   "cell_type": "code",
   "execution_count": 130,
   "metadata": {
    "ExecuteTime": {
     "end_time": "2022-04-11T09:17:56.502745Z",
     "start_time": "2022-04-11T09:17:55.538976Z"
    }
   },
   "outputs": [
    {
     "data": {
      "text/plain": [
       "torch.Size([32, 10])"
      ]
     },
     "execution_count": 130,
     "metadata": {},
     "output_type": "execute_result"
    },
    {
     "data": {
      "text/plain": [
       "torch.Tensor"
      ]
     },
     "execution_count": 130,
     "metadata": {},
     "output_type": "execute_result"
    },
    {
     "data": {
      "text/plain": [
       "torch.Size([32])"
      ]
     },
     "execution_count": 130,
     "metadata": {},
     "output_type": "execute_result"
    },
    {
     "data": {
      "text/plain": [
       "torch.Tensor"
      ]
     },
     "execution_count": 130,
     "metadata": {},
     "output_type": "execute_result"
    },
    {
     "data": {
      "text/plain": [
       "tensor(75.7165, grad_fn=<NllLossBackward0>)"
      ]
     },
     "execution_count": 130,
     "metadata": {},
     "output_type": "execute_result"
    }
   ],
   "source": [
    "# output = output.argmax(dim=1)\n",
    "output = alexnet(img)\n",
    "output.shape\n",
    "# output\n",
    "type(output)\n",
    "label.shape\n",
    "type(label)\n",
    "# torch.max(label, 1)[1]\n",
    "\n",
    "criterion(output, label)"
   ]
  },
  {
   "cell_type": "code",
   "execution_count": 136,
   "metadata": {
    "ExecuteTime": {
     "end_time": "2022-04-11T09:53:58.958704Z",
     "start_time": "2022-04-11T09:53:57.405382Z"
    },
    "scrolled": false
   },
   "outputs": [
    {
     "name": "stdout",
     "output_type": "stream",
     "text": [
      "Epoch : 0\n",
      "Learning rate : 0.01\n",
      "Training for epoch 0\n"
     ]
    },
    {
     "data": {
      "text/plain": [
       "AlexNet(\n",
       "  (net): Sequential(\n",
       "    (0): Conv2d(3, 96, kernel_size=(11, 11), stride=(4, 4))\n",
       "    (1): ReLU(inplace=True)\n",
       "    (2): LocalResponseNorm(5, alpha=0.0001, beta=0.75, k=2)\n",
       "    (3): MaxPool2d(kernel_size=3, stride=2, padding=0, dilation=1, ceil_mode=False)\n",
       "    (4): Conv2d(96, 256, kernel_size=(5, 5), stride=(1, 1), padding=(2, 2))\n",
       "    (5): ReLU()\n",
       "    (6): LocalResponseNorm(5, alpha=0.0001, beta=0.75, k=2)\n",
       "    (7): MaxPool2d(kernel_size=3, stride=2, padding=0, dilation=1, ceil_mode=False)\n",
       "    (8): Conv2d(256, 384, kernel_size=(3, 3), stride=(1, 1), padding=(1, 1))\n",
       "    (9): ReLU()\n",
       "    (10): Conv2d(384, 384, kernel_size=(3, 3), stride=(1, 1), padding=(1, 1))\n",
       "    (11): ReLU()\n",
       "    (12): Conv2d(384, 256, kernel_size=(3, 3), stride=(1, 1), padding=(1, 1))\n",
       "    (13): ReLU()\n",
       "    (14): MaxPool2d(kernel_size=3, stride=2, padding=0, dilation=1, ceil_mode=False)\n",
       "  )\n",
       "  (classifier): Sequential(\n",
       "    (0): Dropout(p=0.5, inplace=True)\n",
       "    (1): Linear(in_features=9216, out_features=4096, bias=True)\n",
       "    (2): ReLU()\n",
       "    (3): Dropout(p=0.5, inplace=True)\n",
       "    (4): Linear(in_features=4096, out_features=4096, bias=True)\n",
       "    (5): ReLU()\n",
       "    (6): Linear(in_features=4096, out_features=10, bias=True)\n",
       "  )\n",
       ")"
      ]
     },
     "execution_count": 136,
     "metadata": {},
     "output_type": "execute_result"
    },
    {
     "name": "stderr",
     "output_type": "stream",
     "text": [
      "/Users/lsh/Library/Python/3.9/lib/python/site-packages/torch/autograd/__init__.py:173: UserWarning: Error detected in ReluBackward0. Traceback of forward call that caused the error:\n",
      "  File \"/Library/Frameworks/Python.framework/Versions/3.9/lib/python3.9/runpy.py\", line 197, in _run_module_as_main\n",
      "    return _run_code(code, main_globals, None,\n",
      "  File \"/Library/Frameworks/Python.framework/Versions/3.9/lib/python3.9/runpy.py\", line 87, in _run_code\n",
      "    exec(code, run_globals)\n",
      "  File \"/Library/Frameworks/Python.framework/Versions/3.9/lib/python3.9/site-packages/ipykernel_launcher.py\", line 16, in <module>\n",
      "    app.launch_new_instance()\n",
      "  File \"/Library/Frameworks/Python.framework/Versions/3.9/lib/python3.9/site-packages/traitlets/config/application.py\", line 846, in launch_instance\n",
      "    app.start()\n",
      "  File \"/Library/Frameworks/Python.framework/Versions/3.9/lib/python3.9/site-packages/ipykernel/kernelapp.py\", line 677, in start\n",
      "    self.io_loop.start()\n",
      "  File \"/Library/Frameworks/Python.framework/Versions/3.9/lib/python3.9/site-packages/tornado/platform/asyncio.py\", line 199, in start\n",
      "    self.asyncio_loop.run_forever()\n",
      "  File \"/Library/Frameworks/Python.framework/Versions/3.9/lib/python3.9/asyncio/base_events.py\", line 596, in run_forever\n",
      "    self._run_once()\n",
      "  File \"/Library/Frameworks/Python.framework/Versions/3.9/lib/python3.9/asyncio/base_events.py\", line 1890, in _run_once\n",
      "    handle._run()\n",
      "  File \"/Library/Frameworks/Python.framework/Versions/3.9/lib/python3.9/asyncio/events.py\", line 80, in _run\n",
      "    self._context.run(self._callback, *self._args)\n",
      "  File \"/Library/Frameworks/Python.framework/Versions/3.9/lib/python3.9/site-packages/ipykernel/kernelbase.py\", line 471, in dispatch_queue\n",
      "    await self.process_one()\n",
      "  File \"/Library/Frameworks/Python.framework/Versions/3.9/lib/python3.9/site-packages/ipykernel/kernelbase.py\", line 460, in process_one\n",
      "    await dispatch(*args)\n",
      "  File \"/Library/Frameworks/Python.framework/Versions/3.9/lib/python3.9/site-packages/ipykernel/kernelbase.py\", line 367, in dispatch_shell\n",
      "    await result\n",
      "  File \"/Library/Frameworks/Python.framework/Versions/3.9/lib/python3.9/site-packages/ipykernel/kernelbase.py\", line 662, in execute_request\n",
      "    reply_content = await reply_content\n",
      "  File \"/Library/Frameworks/Python.framework/Versions/3.9/lib/python3.9/site-packages/ipykernel/ipkernel.py\", line 360, in do_execute\n",
      "    res = shell.run_cell(code, store_history=store_history, silent=silent)\n",
      "  File \"/Library/Frameworks/Python.framework/Versions/3.9/lib/python3.9/site-packages/ipykernel/zmqshell.py\", line 532, in run_cell\n",
      "    return super().run_cell(*args, **kwargs)\n",
      "  File \"/Library/Frameworks/Python.framework/Versions/3.9/lib/python3.9/site-packages/IPython/core/interactiveshell.py\", line 2833, in run_cell\n",
      "    result = self._run_cell(\n",
      "  File \"/Library/Frameworks/Python.framework/Versions/3.9/lib/python3.9/site-packages/IPython/core/interactiveshell.py\", line 2879, in _run_cell\n",
      "    return runner(coro)\n",
      "  File \"/Library/Frameworks/Python.framework/Versions/3.9/lib/python3.9/site-packages/IPython/core/async_helpers.py\", line 129, in _pseudo_sync_runner\n",
      "    coro.send(None)\n",
      "  File \"/Library/Frameworks/Python.framework/Versions/3.9/lib/python3.9/site-packages/IPython/core/interactiveshell.py\", line 3077, in run_cell_async\n",
      "    has_raised = await self.run_ast_nodes(code_ast.body, cell_name,\n",
      "  File \"/Library/Frameworks/Python.framework/Versions/3.9/lib/python3.9/site-packages/IPython/core/interactiveshell.py\", line 3280, in run_ast_nodes\n",
      "    if await self.run_code(code, result, async_=asy):\n",
      "  File \"/Library/Frameworks/Python.framework/Versions/3.9/lib/python3.9/site-packages/IPython/core/interactiveshell.py\", line 3340, in run_code\n",
      "    exec(code_obj, self.user_global_ns, self.user_ns)\n",
      "  File \"/var/folders/gz/l3tl4gf96231sq9ztwck08x00000gp/T/ipykernel_11103/1579189508.py\", line 32, in <cell line: 17>\n",
      "    output = alexnet(img) # (32, 10)\n",
      "  File \"/Users/lsh/Library/Python/3.9/lib/python/site-packages/torch/nn/modules/module.py\", line 1110, in _call_impl\n",
      "    return forward_call(*input, **kwargs)\n",
      "  File \"/var/folders/gz/l3tl4gf96231sq9ztwck08x00000gp/T/ipykernel_11103/1336646159.py\", line 62, in forward\n",
      "    x = self.classifier(x)\n",
      "  File \"/Users/lsh/Library/Python/3.9/lib/python/site-packages/torch/nn/modules/module.py\", line 1110, in _call_impl\n",
      "    return forward_call(*input, **kwargs)\n",
      "  File \"/Users/lsh/Library/Python/3.9/lib/python/site-packages/torch/nn/modules/container.py\", line 141, in forward\n",
      "    input = module(input)\n",
      "  File \"/Users/lsh/Library/Python/3.9/lib/python/site-packages/torch/nn/modules/module.py\", line 1110, in _call_impl\n",
      "    return forward_call(*input, **kwargs)\n",
      "  File \"/Users/lsh/Library/Python/3.9/lib/python/site-packages/torch/nn/modules/activation.py\", line 98, in forward\n",
      "    return F.relu(input, inplace=self.inplace)\n",
      "  File \"/Users/lsh/Library/Python/3.9/lib/python/site-packages/torch/nn/functional.py\", line 1442, in relu\n",
      "    result = torch.relu(input)\n",
      " (Triggered internally at  /Users/distiller/project/pytorch/torch/csrc/autograd/python_anomaly_mode.cpp:104.)\n",
      "  Variable._execution_engine.run_backward(  # Calls into the C++ engine to run the backward pass\n"
     ]
    },
    {
     "ename": "RuntimeError",
     "evalue": "one of the variables needed for gradient computation has been modified by an inplace operation: [torch.FloatTensor [32, 4096]], which is output 0 of ReluBackward0, is at version 1; expected version 0 instead. Hint: the backtrace further above shows the operation that failed to compute its gradient. The variable in question was changed in there or anywhere later. Good luck!",
     "output_type": "error",
     "traceback": [
      "\u001b[0;31m---------------------------------------------------------------------------\u001b[0m",
      "\u001b[0;31mRuntimeError\u001b[0m                              Traceback (most recent call last)",
      "Input \u001b[0;32mIn [136]\u001b[0m, in \u001b[0;36m<cell line: 17>\u001b[0;34m()\u001b[0m\n\u001b[1;32m     33\u001b[0m         batch_loss \u001b[38;5;241m=\u001b[39m criterion(output, label)\n\u001b[1;32m     34\u001b[0m \u001b[38;5;66;03m#         batch_loss = criterion(output, label.long())\u001b[39;00m\n\u001b[0;32m---> 35\u001b[0m         \u001b[43mbatch_loss\u001b[49m\u001b[38;5;241;43m.\u001b[39;49m\u001b[43mbackward\u001b[49m\u001b[43m(\u001b[49m\u001b[43m)\u001b[49m\n\u001b[1;32m     36\u001b[0m         optimizer\u001b[38;5;241m.\u001b[39mstep()\n\u001b[1;32m     37\u001b[0m         loss \u001b[38;5;241m+\u001b[39m\u001b[38;5;241m=\u001b[39mbatch_loss\u001b[38;5;241m.\u001b[39mitem()\n",
      "File \u001b[0;32m~/Library/Python/3.9/lib/python/site-packages/torch/_tensor.py:363\u001b[0m, in \u001b[0;36mTensor.backward\u001b[0;34m(self, gradient, retain_graph, create_graph, inputs)\u001b[0m\n\u001b[1;32m    354\u001b[0m \u001b[38;5;28;01mif\u001b[39;00m has_torch_function_unary(\u001b[38;5;28mself\u001b[39m):\n\u001b[1;32m    355\u001b[0m     \u001b[38;5;28;01mreturn\u001b[39;00m handle_torch_function(\n\u001b[1;32m    356\u001b[0m         Tensor\u001b[38;5;241m.\u001b[39mbackward,\n\u001b[1;32m    357\u001b[0m         (\u001b[38;5;28mself\u001b[39m,),\n\u001b[0;32m   (...)\u001b[0m\n\u001b[1;32m    361\u001b[0m         create_graph\u001b[38;5;241m=\u001b[39mcreate_graph,\n\u001b[1;32m    362\u001b[0m         inputs\u001b[38;5;241m=\u001b[39minputs)\n\u001b[0;32m--> 363\u001b[0m \u001b[43mtorch\u001b[49m\u001b[38;5;241;43m.\u001b[39;49m\u001b[43mautograd\u001b[49m\u001b[38;5;241;43m.\u001b[39;49m\u001b[43mbackward\u001b[49m\u001b[43m(\u001b[49m\u001b[38;5;28;43mself\u001b[39;49m\u001b[43m,\u001b[49m\u001b[43m \u001b[49m\u001b[43mgradient\u001b[49m\u001b[43m,\u001b[49m\u001b[43m \u001b[49m\u001b[43mretain_graph\u001b[49m\u001b[43m,\u001b[49m\u001b[43m \u001b[49m\u001b[43mcreate_graph\u001b[49m\u001b[43m,\u001b[49m\u001b[43m \u001b[49m\u001b[43minputs\u001b[49m\u001b[38;5;241;43m=\u001b[39;49m\u001b[43minputs\u001b[49m\u001b[43m)\u001b[49m\n",
      "File \u001b[0;32m~/Library/Python/3.9/lib/python/site-packages/torch/autograd/__init__.py:173\u001b[0m, in \u001b[0;36mbackward\u001b[0;34m(tensors, grad_tensors, retain_graph, create_graph, grad_variables, inputs)\u001b[0m\n\u001b[1;32m    168\u001b[0m     retain_graph \u001b[38;5;241m=\u001b[39m create_graph\n\u001b[1;32m    170\u001b[0m \u001b[38;5;66;03m# The reason we repeat same the comment below is that\u001b[39;00m\n\u001b[1;32m    171\u001b[0m \u001b[38;5;66;03m# some Python versions print out the first line of a multi-line function\u001b[39;00m\n\u001b[1;32m    172\u001b[0m \u001b[38;5;66;03m# calls in the traceback and some print out the last line\u001b[39;00m\n\u001b[0;32m--> 173\u001b[0m \u001b[43mVariable\u001b[49m\u001b[38;5;241;43m.\u001b[39;49m\u001b[43m_execution_engine\u001b[49m\u001b[38;5;241;43m.\u001b[39;49m\u001b[43mrun_backward\u001b[49m\u001b[43m(\u001b[49m\u001b[43m  \u001b[49m\u001b[38;5;66;43;03m# Calls into the C++ engine to run the backward pass\u001b[39;49;00m\n\u001b[1;32m    174\u001b[0m \u001b[43m    \u001b[49m\u001b[43mtensors\u001b[49m\u001b[43m,\u001b[49m\u001b[43m \u001b[49m\u001b[43mgrad_tensors_\u001b[49m\u001b[43m,\u001b[49m\u001b[43m \u001b[49m\u001b[43mretain_graph\u001b[49m\u001b[43m,\u001b[49m\u001b[43m \u001b[49m\u001b[43mcreate_graph\u001b[49m\u001b[43m,\u001b[49m\u001b[43m \u001b[49m\u001b[43minputs\u001b[49m\u001b[43m,\u001b[49m\n\u001b[1;32m    175\u001b[0m \u001b[43m    \u001b[49m\u001b[43mallow_unreachable\u001b[49m\u001b[38;5;241;43m=\u001b[39;49m\u001b[38;5;28;43;01mTrue\u001b[39;49;00m\u001b[43m,\u001b[49m\u001b[43m \u001b[49m\u001b[43maccumulate_grad\u001b[49m\u001b[38;5;241;43m=\u001b[39;49m\u001b[38;5;28;43;01mTrue\u001b[39;49;00m\u001b[43m)\u001b[49m\n",
      "\u001b[0;31mRuntimeError\u001b[0m: one of the variables needed for gradient computation has been modified by an inplace operation: [torch.FloatTensor [32, 4096]], which is output 0 of ReluBackward0, is at version 1; expected version 0 instead. Hint: the backtrace further above shows the operation that failed to compute its gradient. The variable in question was changed in there or anywhere later. Good luck!"
     ]
    }
   ],
   "source": [
    "# torch.autograd.set_detect_anomaly(True)\n",
    "\n",
    "from torch.optim.lr_scheduler import ReduceLROnPlateau\n",
    "\n",
    "BATCH_SIZE = 32\n",
    "criterion= nn.CrossEntropyLoss(reduction='sum')\n",
    "\n",
    "epochs = 20\n",
    "losses_df = {'train_loss' : [], 'val_loss' : [], 'val_acc' : []}\n",
    "num_batches = len(train_ds)//BATCH_SIZE\n",
    "val_num_batches = len(val_ds)//BATCH_SIZE\n",
    "best_loss = np.inf\n",
    "scheduler = ReduceLROnPlateau(optimizer, patience = 4, factor = 0.1, mode = 'min')\n",
    "\n",
    "alexnet = AlexNet().to(device)\n",
    "\n",
    "for epoch in range(epochs):\n",
    "    print('Epoch :', epoch)\n",
    "    scheduler.step(epoch)\n",
    "    print('Learning rate :', get_lr(optimizer))\n",
    "    print('Training for epoch {}'.format(epoch))\n",
    "    val_outputs = []\n",
    "    loss = 0\n",
    "    vloss = 0\n",
    "    \n",
    "    alexnet.train()\n",
    "    for i, batch in enumerate(train_dl):\n",
    "        optimizer.zero_grad()\n",
    "        img, label = batch # img : (32, 3, 227, 227) / label : (32,)\n",
    "        img, label = img.to(device, dtype = torch.float), label.to(device, dtype = torch.long)\n",
    "#         img, label = img.to(device), label.to(device)\n",
    "        output = alexnet(img) # (32, 10)        \n",
    "        batch_loss = criterion(output, label)\n",
    "#         batch_loss = criterion(output, label.long())\n",
    "        batch_loss.backward()\n",
    "        optimizer.step()\n",
    "        loss +=batch_loss.item()\n",
    "        \n",
    "    train_loss = loss/num_batches\n",
    "    print('Training loss for epoch {} is {:.4f}'.format(epoch, train_loss))\n",
    "    losses_df['train_loss'].append(train_loss)\n",
    "    print('Validation for epoch {}'.format(epoch))\n",
    "    with torch.no_grad():\n",
    "        alexnet.eval()\n",
    "    \n",
    "        for i, batch in enumerate(val_dl):\n",
    "            img, label = batch\n",
    "            img, label = img.to(device, dtype = torch.float), label.to(device, dtype = torch.long)\n",
    "            output = alexnet(img)\n",
    "            batch_loss = criterion(output, label)\n",
    "#             batch_loss = criterion(output, torch.max(label, 1)[1])\n",
    "            output = output.detach().cpu().numpy()\n",
    "            label = label.detach().cpu().numpy()\n",
    "            val_outputs.extend(np.argmax(output, 1))\n",
    "            vloss += batch_loss.item()\n",
    "            \n",
    "    val_loss = vloss/val_num_batches\n",
    "    print('Validation loss for epoch {} is {:.4f}'.format(epoch, val_loss))\n",
    "    losses_df['val_loss'].append(val_loss)\n",
    "    val_labels = list(np.argmax(np.array(val_y), 1))\n",
    "    acc = accuracy_score(val_outputs, val_labels)\n",
    "    print('Accuracy for epoch {} is {:.4f}'.format(epoch, acc))\n",
    "    losses_df['val_acc'].append(acc)\n",
    "    \n",
    "    if val_loss <= best_loss:\n",
    "        print('Validation loss has reduced from {:.4f} to {:.4f}'.format(best_loss, val_loss))\n",
    "        print('Saving model')\n",
    "        best_loss = val_loss\n",
    "        torch.save(alexnet.state_dict(), 'alexnet_finetuning.pth')"
   ]
  },
  {
   "cell_type": "code",
   "execution_count": null,
   "metadata": {
    "ExecuteTime": {
     "end_time": "2022-04-11T05:54:00.944022Z",
     "start_time": "2022-04-11T05:54:00.944010Z"
    },
    "colab": {
     "base_uri": "https://localhost:8080/",
     "height": 573
    },
    "id": "H7Symikd_BJH",
    "outputId": "07de04b5-31d2-4860-df4f-96fa1fa0e873"
   },
   "outputs": [],
   "source": [
    "# Train-Validation Progress\n",
    "num_epochs=params_train[\"num_epochs\"]\n",
    "\n",
    "# plot loss progress\n",
    "plt.title(\"Train-Val Loss\")\n",
    "plt.plot(range(1,num_epochs+1),loss_hist[\"train\"],label=\"train\")\n",
    "plt.plot(range(1,num_epochs+1),loss_hist[\"val\"],label=\"val\")\n",
    "plt.ylabel(\"Loss\")\n",
    "plt.xlabel(\"Training Epochs\")\n",
    "plt.legend()\n",
    "plt.show()\n",
    "\n",
    "# plot accuracy progress\n",
    "plt.title(\"Train-Val Accuracy\")\n",
    "plt.plot(range(1,num_epochs+1),metric_hist[\"train\"],label=\"train\")\n",
    "plt.plot(range(1,num_epochs+1),metric_hist[\"val\"],label=\"val\")\n",
    "plt.ylabel(\"Accuracy\")\n",
    "plt.xlabel(\"Training Epochs\")\n",
    "plt.legend()\n",
    "plt.show()"
   ]
  }
 ],
 "metadata": {
  "accelerator": "GPU",
  "colab": {
   "authorship_tag": "ABX9TyP0lrxjiiS7sdvFet+1TwUQ",
   "collapsed_sections": [],
   "include_colab_link": true,
   "name": "AlexNet(2012).ipynb",
   "provenance": []
  },
  "kernelspec": {
   "display_name": "Python 3 (ipykernel)",
   "language": "python",
   "name": "python3"
  },
  "language_info": {
   "codemirror_mode": {
    "name": "ipython",
    "version": 3
   },
   "file_extension": ".py",
   "mimetype": "text/x-python",
   "name": "python",
   "nbconvert_exporter": "python",
   "pygments_lexer": "ipython3",
   "version": "3.9.10"
  },
  "toc": {
   "base_numbering": 1,
   "nav_menu": {},
   "number_sections": true,
   "sideBar": true,
   "skip_h1_title": false,
   "title_cell": "Table of Contents",
   "title_sidebar": "Contents",
   "toc_cell": false,
   "toc_position": {
    "height": "calc(100% - 180px)",
    "left": "10px",
    "top": "150px",
    "width": "165px"
   },
   "toc_section_display": true,
   "toc_window_display": false
  },
  "widgets": {
   "application/vnd.jupyter.widget-state+json": {
    "1be07d9ed1454048b0057daf76b53a73": {
     "model_module": "@jupyter-widgets/controls",
     "model_name": "HTMLModel",
     "state": {
      "_dom_classes": [],
      "_model_module": "@jupyter-widgets/controls",
      "_model_module_version": "1.5.0",
      "_model_name": "HTMLModel",
      "_view_count": null,
      "_view_module": "@jupyter-widgets/controls",
      "_view_module_version": "1.5.0",
      "_view_name": "HTMLView",
      "description": "",
      "description_tooltip": null,
      "layout": "IPY_MODEL_96fd9be983624b7b8d12417a1992a2af",
      "placeholder": "​",
      "style": "IPY_MODEL_c7562c0b2ed44154b2a98d366e370ec3",
      "value": " 2640397312/? [02:17&lt;00:00, 19250073.51it/s]"
     }
    },
    "7a97f78348de4f6bb2aa95b5ca06ee27": {
     "model_module": "@jupyter-widgets/base",
     "model_name": "LayoutModel",
     "state": {
      "_model_module": "@jupyter-widgets/base",
      "_model_module_version": "1.2.0",
      "_model_name": "LayoutModel",
      "_view_count": null,
      "_view_module": "@jupyter-widgets/base",
      "_view_module_version": "1.2.0",
      "_view_name": "LayoutView",
      "align_content": null,
      "align_items": null,
      "align_self": null,
      "border": null,
      "bottom": null,
      "display": null,
      "flex": null,
      "flex_flow": null,
      "grid_area": null,
      "grid_auto_columns": null,
      "grid_auto_flow": null,
      "grid_auto_rows": null,
      "grid_column": null,
      "grid_gap": null,
      "grid_row": null,
      "grid_template_areas": null,
      "grid_template_columns": null,
      "grid_template_rows": null,
      "height": null,
      "justify_content": null,
      "justify_items": null,
      "left": null,
      "margin": null,
      "max_height": null,
      "max_width": null,
      "min_height": null,
      "min_width": null,
      "object_fit": null,
      "object_position": null,
      "order": null,
      "overflow": null,
      "overflow_x": null,
      "overflow_y": null,
      "padding": null,
      "right": null,
      "top": null,
      "visibility": null,
      "width": null
     }
    },
    "8981299f7a20407e939cc1787dfa5188": {
     "model_module": "@jupyter-widgets/controls",
     "model_name": "FloatProgressModel",
     "state": {
      "_dom_classes": [],
      "_model_module": "@jupyter-widgets/controls",
      "_model_module_version": "1.5.0",
      "_model_name": "FloatProgressModel",
      "_view_count": null,
      "_view_module": "@jupyter-widgets/controls",
      "_view_module_version": "1.5.0",
      "_view_name": "ProgressView",
      "bar_style": "success",
      "description": "",
      "description_tooltip": null,
      "layout": "IPY_MODEL_cbdebc5e20534de1ae0e06f8e4d8ffc8",
      "max": 2640397119,
      "min": 0,
      "orientation": "horizontal",
      "style": "IPY_MODEL_9fba880a406e4dbdbfb115aee4f77588",
      "value": 2640397119
     }
    },
    "96fd9be983624b7b8d12417a1992a2af": {
     "model_module": "@jupyter-widgets/base",
     "model_name": "LayoutModel",
     "state": {
      "_model_module": "@jupyter-widgets/base",
      "_model_module_version": "1.2.0",
      "_model_name": "LayoutModel",
      "_view_count": null,
      "_view_module": "@jupyter-widgets/base",
      "_view_module_version": "1.2.0",
      "_view_name": "LayoutView",
      "align_content": null,
      "align_items": null,
      "align_self": null,
      "border": null,
      "bottom": null,
      "display": null,
      "flex": null,
      "flex_flow": null,
      "grid_area": null,
      "grid_auto_columns": null,
      "grid_auto_flow": null,
      "grid_auto_rows": null,
      "grid_column": null,
      "grid_gap": null,
      "grid_row": null,
      "grid_template_areas": null,
      "grid_template_columns": null,
      "grid_template_rows": null,
      "height": null,
      "justify_content": null,
      "justify_items": null,
      "left": null,
      "margin": null,
      "max_height": null,
      "max_width": null,
      "min_height": null,
      "min_width": null,
      "object_fit": null,
      "object_position": null,
      "order": null,
      "overflow": null,
      "overflow_x": null,
      "overflow_y": null,
      "padding": null,
      "right": null,
      "top": null,
      "visibility": null,
      "width": null
     }
    },
    "9fba880a406e4dbdbfb115aee4f77588": {
     "model_module": "@jupyter-widgets/controls",
     "model_name": "ProgressStyleModel",
     "state": {
      "_model_module": "@jupyter-widgets/controls",
      "_model_module_version": "1.5.0",
      "_model_name": "ProgressStyleModel",
      "_view_count": null,
      "_view_module": "@jupyter-widgets/base",
      "_view_module_version": "1.2.0",
      "_view_name": "StyleView",
      "bar_color": null,
      "description_width": "initial"
     }
    },
    "c7562c0b2ed44154b2a98d366e370ec3": {
     "model_module": "@jupyter-widgets/controls",
     "model_name": "DescriptionStyleModel",
     "state": {
      "_model_module": "@jupyter-widgets/controls",
      "_model_module_version": "1.5.0",
      "_model_name": "DescriptionStyleModel",
      "_view_count": null,
      "_view_module": "@jupyter-widgets/base",
      "_view_module_version": "1.2.0",
      "_view_name": "StyleView",
      "description_width": ""
     }
    },
    "cbdebc5e20534de1ae0e06f8e4d8ffc8": {
     "model_module": "@jupyter-widgets/base",
     "model_name": "LayoutModel",
     "state": {
      "_model_module": "@jupyter-widgets/base",
      "_model_module_version": "1.2.0",
      "_model_name": "LayoutModel",
      "_view_count": null,
      "_view_module": "@jupyter-widgets/base",
      "_view_module_version": "1.2.0",
      "_view_name": "LayoutView",
      "align_content": null,
      "align_items": null,
      "align_self": null,
      "border": null,
      "bottom": null,
      "display": null,
      "flex": null,
      "flex_flow": null,
      "grid_area": null,
      "grid_auto_columns": null,
      "grid_auto_flow": null,
      "grid_auto_rows": null,
      "grid_column": null,
      "grid_gap": null,
      "grid_row": null,
      "grid_template_areas": null,
      "grid_template_columns": null,
      "grid_template_rows": null,
      "height": null,
      "justify_content": null,
      "justify_items": null,
      "left": null,
      "margin": null,
      "max_height": null,
      "max_width": null,
      "min_height": null,
      "min_width": null,
      "object_fit": null,
      "object_position": null,
      "order": null,
      "overflow": null,
      "overflow_x": null,
      "overflow_y": null,
      "padding": null,
      "right": null,
      "top": null,
      "visibility": null,
      "width": null
     }
    },
    "fd95d28c8cf548c4bc8b5554c94025cb": {
     "model_module": "@jupyter-widgets/controls",
     "model_name": "HBoxModel",
     "state": {
      "_dom_classes": [],
      "_model_module": "@jupyter-widgets/controls",
      "_model_module_version": "1.5.0",
      "_model_name": "HBoxModel",
      "_view_count": null,
      "_view_module": "@jupyter-widgets/controls",
      "_view_module_version": "1.5.0",
      "_view_name": "HBoxView",
      "box_style": "",
      "children": [
       "IPY_MODEL_8981299f7a20407e939cc1787dfa5188",
       "IPY_MODEL_1be07d9ed1454048b0057daf76b53a73"
      ],
      "layout": "IPY_MODEL_7a97f78348de4f6bb2aa95b5ca06ee27"
     }
    }
   }
  }
 },
 "nbformat": 4,
 "nbformat_minor": 1
}
