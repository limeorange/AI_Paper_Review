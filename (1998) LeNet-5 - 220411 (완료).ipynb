{
 "cells": [
  {
   "cell_type": "code",
   "execution_count": 1,
   "id": "40556872",
   "metadata": {
    "ExecuteTime": {
     "end_time": "2022-04-11T01:39:24.327290Z",
     "start_time": "2022-04-11T01:39:24.318829Z"
    }
   },
   "outputs": [],
   "source": [
    "# 결과 확인을 용이하게 하기 위한 코드\n",
    "from IPython.core.interactiveshell import InteractiveShell\n",
    "InteractiveShell.ast_node_interactivity = 'all'"
   ]
  },
  {
   "cell_type": "markdown",
   "id": "9d7320d3",
   "metadata": {},
   "source": [
    "# [[논문 구현] PyTorch로 LeNet-5(1998) 구현하기](https://deep-learning-study.tistory.com/503?category=983681)\n",
    "- 220407 \n",
    "    - 실행 success \n",
    "- 220408\n",
    "    - test? valid? 데이터를 헷갈리게 써놓음.. -> 수정해보자\n",
    "    - dataloader에서는 분리가 가능한 듯?\n",
    "    - 일단 test -> valid 용어 통일해야 함\n",
    "- 220411\n",
    "    - dataloader에서는 train_data, valid_data type이 subset이어도 정상적으로 작동함\n",
    "    - [CNN, data augmentation X (pytorch, test acc: 74.2)](https://dacon.io/competitions/official/235874/codeshare/4610?page=1&dtype=recent)에서 제시한 test 코드를 보고 정확도 예측 구현\n",
    "    - **train, valid, test** 모두 구현 완료!"
   ]
  },
  {
   "cell_type": "markdown",
   "id": "d67bccc9",
   "metadata": {},
   "source": [
    "## CUDA check\n",
    "- 사용가능한 GPU 확인하기"
   ]
  },
  {
   "cell_type": "code",
   "execution_count": 2,
   "id": "2f141e20",
   "metadata": {
    "ExecuteTime": {
     "end_time": "2022-04-11T01:39:25.503007Z",
     "start_time": "2022-04-11T01:39:24.330005Z"
    }
   },
   "outputs": [
    {
     "name": "stdout",
     "output_type": "stream",
     "text": [
      "cpu\n"
     ]
    }
   ],
   "source": [
    "import torch\n",
    "if torch.cuda.is_available():\n",
    "    device = torch.device('cuda:0')\n",
    "else:\n",
    "    device = torch.device('cpu')\n",
    "print(device)"
   ]
  },
  {
   "cell_type": "markdown",
   "id": "d4386932",
   "metadata": {},
   "source": [
    "## MNIST dataset load"
   ]
  },
  {
   "cell_type": "code",
   "execution_count": 3,
   "id": "28ba4a3c",
   "metadata": {
    "ExecuteTime": {
     "end_time": "2022-04-11T01:39:25.832024Z",
     "start_time": "2022-04-11T01:39:25.504492Z"
    }
   },
   "outputs": [],
   "source": [
    "# 1. MNIST dataset에 적용할 transformation 객체 생성\n",
    "from torchvision import transforms\n",
    "data_transform = transforms.Compose([transforms.Resize((32, 32)),\n",
    "                                     transforms.ToTensor(),\n",
    "                                    ])\n",
    "\n",
    "# 2. MNIST dataset load\n",
    "from torchvision import datasets\n",
    "\n",
    "path2data = './data'\n",
    "train_data = datasets.MNIST(path2data, train = True, download = True, transform = data_transform)\n",
    "test_data = datasets.MNIST(path2data, train = False, download = True, transform = data_transform)\n",
    "\n",
    "from torch.utils.data.dataset import random_split\n",
    "# test_data와 type이 달라서 train_data.data, train_data.targets는 적용이 안되지만\n",
    "# 이후 dataloader에서는 정상적으로 작동? \n",
    "train_data, val_data = random_split(train_data, [55000, 5000])\n",
    "\n",
    "# 3. dataloader 생성하기 (subset 이후)\n",
    "from torch.utils.data import DataLoader\n",
    "\n",
    "train_dl = DataLoader(dataset=train_data, batch_size=32, shuffle=True)\n",
    "val_dl = DataLoader(dataset=val_data, batch_size=32)\n",
    "test_dl = DataLoader(test_data, batch_size=32)"
   ]
  },
  {
   "cell_type": "code",
   "execution_count": 4,
   "id": "915d084e",
   "metadata": {
    "ExecuteTime": {
     "end_time": "2022-04-11T01:39:25.846209Z",
     "start_time": "2022-04-11T01:39:25.834470Z"
    }
   },
   "outputs": [
    {
     "data": {
      "text/plain": [
       "torch.utils.data.dataset.Subset"
      ]
     },
     "execution_count": 4,
     "metadata": {},
     "output_type": "execute_result"
    },
    {
     "data": {
      "text/plain": [
       "torch.utils.data.dataset.Subset"
      ]
     },
     "execution_count": 4,
     "metadata": {},
     "output_type": "execute_result"
    },
    {
     "data": {
      "text/plain": [
       "torchvision.datasets.mnist.MNIST"
      ]
     },
     "execution_count": 4,
     "metadata": {},
     "output_type": "execute_result"
    }
   ],
   "source": [
    "type(train_data)\n",
    "type(val_data)\n",
    "type(test_data)"
   ]
  },
  {
   "cell_type": "markdown",
   "id": "4a0d5e96",
   "metadata": {},
   "source": [
    "## LeNet-5 modeling"
   ]
  },
  {
   "cell_type": "code",
   "execution_count": 8,
   "id": "5e45f0d1",
   "metadata": {
    "ExecuteTime": {
     "end_time": "2022-04-11T01:41:41.389252Z",
     "start_time": "2022-04-11T01:41:41.369483Z"
    }
   },
   "outputs": [
    {
     "name": "stdout",
     "output_type": "stream",
     "text": [
      "LeNet_5(\n",
      "  (conv1): Conv2d(1, 6, kernel_size=(5, 5), stride=(1, 1))\n",
      "  (conv2): Conv2d(6, 16, kernel_size=(5, 5), stride=(1, 1))\n",
      "  (conv3): Conv2d(16, 120, kernel_size=(5, 5), stride=(1, 1))\n",
      "  (fc1): Linear(in_features=120, out_features=84, bias=True)\n",
      "  (fc2): Linear(in_features=84, out_features=10, bias=True)\n",
      ")\n"
     ]
    }
   ],
   "source": [
    "from torch import nn\n",
    "import torch.nn.functional as F\n",
    "\n",
    "class LeNet_5(nn.Module):\n",
    "    \n",
    "    # subsampling(pooling) 계층은 여기서 구현 안하네\n",
    "    # forward에서 구현하는 듯\n",
    "    def __init__(self):\n",
    "        super(LeNet_5, self).__init__()\n",
    "        self.conv1 = nn.Conv2d(1, 6, kernel_size=5, stride=1)\n",
    "        self.conv2 = nn.Conv2d(6, 16, kernel_size=5, stride=1)\n",
    "        self.conv3 = nn.Conv2d(16, 120, kernel_size=5, stride=1)\n",
    "        self.fc1 = nn.Linear(120, 84)\n",
    "        self.fc2 = nn.Linear(84, 10)\n",
    "    \n",
    "    def forward(self, x):\n",
    "        x = F.tanh(self.conv1(x)) # C1\n",
    "        x = F.avg_pool2d(x, 2, 2) # S2 / (x, kernel_h, kernel_w)\n",
    "        x = F.tanh(self.conv2(x)) # C3\n",
    "        x = F.avg_pool2d(x, 2, 2) # S4\n",
    "        x = F.tanh(self.conv3(x)) # C5 / (32, 120, 1, 1)\n",
    "        x = x.view(-1, 120) # (32, 120)\n",
    "        x = F.tanh(self.fc1(x)) # F6 / (32, 84)\n",
    "        x = self.fc2(x) # F7 / (32, 10)\n",
    "        return F.softmax(x, dim=1)\n",
    "\n",
    "model = LeNet_5()\n",
    "print(model)"
   ]
  },
  {
   "cell_type": "code",
   "execution_count": 9,
   "id": "d1071817",
   "metadata": {
    "ExecuteTime": {
     "end_time": "2022-04-11T01:41:41.395515Z",
     "start_time": "2022-04-11T01:41:41.391118Z"
    },
    "scrolled": true
   },
   "outputs": [
    {
     "data": {
      "text/plain": [
       "LeNet_5(\n",
       "  (conv1): Conv2d(1, 6, kernel_size=(5, 5), stride=(1, 1))\n",
       "  (conv2): Conv2d(6, 16, kernel_size=(5, 5), stride=(1, 1))\n",
       "  (conv3): Conv2d(16, 120, kernel_size=(5, 5), stride=(1, 1))\n",
       "  (fc1): Linear(in_features=120, out_features=84, bias=True)\n",
       "  (fc2): Linear(in_features=84, out_features=10, bias=True)\n",
       ")"
      ]
     },
     "execution_count": 9,
     "metadata": {},
     "output_type": "execute_result"
    },
    {
     "name": "stdout",
     "output_type": "stream",
     "text": [
      "cpu\n"
     ]
    }
   ],
   "source": [
    "# 모델을 cuda or cpu로 전달하기\n",
    "model.to(device)\n",
    "print(next(model.parameters()).device)"
   ]
  },
  {
   "cell_type": "code",
   "execution_count": 10,
   "id": "9f6c2aa0",
   "metadata": {
    "ExecuteTime": {
     "end_time": "2022-04-11T01:41:41.427935Z",
     "start_time": "2022-04-11T01:41:41.397192Z"
    },
    "scrolled": false
   },
   "outputs": [
    {
     "name": "stdout",
     "output_type": "stream",
     "text": [
      "----------------------------------------------------------------\n",
      "        Layer (type)               Output Shape         Param #\n",
      "================================================================\n",
      "            Conv2d-1            [-1, 6, 28, 28]             156\n",
      "            Conv2d-2           [-1, 16, 10, 10]           2,416\n",
      "            Conv2d-3            [-1, 120, 1, 1]          48,120\n",
      "            Linear-4                   [-1, 84]          10,164\n",
      "            Linear-5                   [-1, 10]             850\n",
      "================================================================\n",
      "Total params: 61,706\n",
      "Trainable params: 61,706\n",
      "Non-trainable params: 0\n",
      "----------------------------------------------------------------\n",
      "Input size (MB): 0.00\n",
      "Forward/backward pass size (MB): 0.05\n",
      "Params size (MB): 0.24\n",
      "Estimated Total Size (MB): 0.29\n",
      "----------------------------------------------------------------\n"
     ]
    },
    {
     "name": "stderr",
     "output_type": "stream",
     "text": [
      "/Users/lsh/Library/Python/3.9/lib/python/site-packages/torch/nn/functional.py:1933: UserWarning: nn.functional.tanh is deprecated. Use torch.tanh instead.\n",
      "  warnings.warn(\"nn.functional.tanh is deprecated. Use torch.tanh instead.\")\n"
     ]
    }
   ],
   "source": [
    "# 모델 summary 확인하기\n",
    "from torchsummary import summary\n",
    "summary(model, input_size=(1, 32, 32))"
   ]
  },
  {
   "cell_type": "markdown",
   "id": "19f5045e",
   "metadata": {},
   "source": [
    "## loss function, optimizer 정의하기"
   ]
  },
  {
   "cell_type": "code",
   "execution_count": 34,
   "id": "280c9872",
   "metadata": {
    "ExecuteTime": {
     "end_time": "2022-04-11T01:53:20.395098Z",
     "start_time": "2022-04-11T01:53:20.390751Z"
    }
   },
   "outputs": [],
   "source": [
    "# 1. loss function 정의하기\n",
    "loss_func = nn.CrossEntropyLoss(reduction='sum')\n",
    "\n",
    "# 2. optimizer 정의하기\n",
    "from torch import optim\n",
    "opt = optim.Adam(model.parameters(), lr=0.001)\n",
    "\n",
    "# 3. 현재 learning rate를 계산하는 함수 정의\n",
    "def get_lr(opt):\n",
    "    for param_group in opt.param_groups:\n",
    "        return param_group['lr']\n",
    "    \n",
    "# 4. learning rate scheduler 정의\n",
    "from torch.optim.lr_scheduler import CosineAnnealingLR\n",
    "lr_scheduler = CosineAnnealingLR(opt, T_max=2, eta_min=1e-05)"
   ]
  },
  {
   "cell_type": "markdown",
   "id": "1868bf2e",
   "metadata": {},
   "source": [
    "## 학습을 위한 함수 정의"
   ]
  },
  {
   "cell_type": "code",
   "execution_count": 12,
   "id": "0c982c9a",
   "metadata": {
    "ExecuteTime": {
     "end_time": "2022-04-11T01:41:41.474857Z",
     "start_time": "2022-04-11T01:41:41.435730Z"
    }
   },
   "outputs": [
    {
     "data": {
      "text/plain": [
       "'⭐️output.argmax(dim=1, keepdim=True)'"
      ]
     },
     "execution_count": 12,
     "metadata": {},
     "output_type": "execute_result"
    },
    {
     "data": {
      "text/plain": [
       "tensor([4, 4, 2])"
      ]
     },
     "execution_count": 12,
     "metadata": {},
     "output_type": "execute_result"
    },
    {
     "data": {
      "text/plain": [
       "tensor([[4],\n",
       "        [4],\n",
       "        [2]])"
      ]
     },
     "execution_count": 12,
     "metadata": {},
     "output_type": "execute_result"
    },
    {
     "data": {
      "text/plain": [
       "'⭐️target.view_as(pred)'"
      ]
     },
     "execution_count": 12,
     "metadata": {},
     "output_type": "execute_result"
    },
    {
     "data": {
      "text/plain": [
       "tensor([[4.],\n",
       "        [3.],\n",
       "        [2.]])"
      ]
     },
     "execution_count": 12,
     "metadata": {},
     "output_type": "execute_result"
    },
    {
     "data": {
      "text/plain": [
       "tensor([[ True, False, False],\n",
       "        [ True, False, False],\n",
       "        [False, False,  True]])"
      ]
     },
     "execution_count": 12,
     "metadata": {},
     "output_type": "execute_result"
    },
    {
     "data": {
      "text/plain": [
       "tensor([[ True],\n",
       "        [False],\n",
       "        [ True]])"
      ]
     },
     "execution_count": 12,
     "metadata": {},
     "output_type": "execute_result"
    },
    {
     "data": {
      "text/plain": [
       "2"
      ]
     },
     "execution_count": 12,
     "metadata": {},
     "output_type": "execute_result"
    },
    {
     "data": {
      "text/plain": [
       "'⭐️for xb, yb in dataset_dl:'"
      ]
     },
     "execution_count": 12,
     "metadata": {},
     "output_type": "execute_result"
    },
    {
     "name": "stdout",
     "output_type": "stream",
     "text": [
      "torch.Size([32, 1, 32, 32])\n",
      "4\n",
      "torch.Size([32])\n",
      "1\n"
     ]
    }
   ],
   "source": [
    "'''⭐️output.argmax(dim=1, keepdim=True)'''\n",
    "a = torch.Tensor([[1,2,3,4,5],\n",
    "             [2,3,4,5,6],\n",
    "             [10,10,11,10,10]])\n",
    "# np.argmax(a,axis=1)\n",
    "a.argmax(dim=1, keepdim=False)\n",
    "pred = a.argmax(dim=1, keepdim=True)\n",
    "pred\n",
    "# a.argmax(dim=1, keepdim=False)\n",
    "\n",
    "'''⭐️target.view_as(pred)'''\n",
    "# view_as() 함수는 target 텐서를 view_as() 함수 안에 들어가는 인수(pred)의 모양대로 다시 정렬\n",
    "target = torch.Tensor([4, 3, 2])\n",
    "target.view_as(pred)\n",
    "\n",
    "pred.eq(target) # 계산이 틀리게 됨\n",
    "pred.eq(target.view_as(pred)) # shape을 맞춰줘야 계산이 맞음\n",
    "pred.eq(target.view_as(pred)).sum().item() # boolean -> int로 형변환 후 sum 계산\n",
    "\n",
    "'''⭐️for xb, yb in dataset_dl:'''\n",
    "from torch.utils.data import DataLoader\n",
    "\n",
    "train_dl = DataLoader(train_data, batch_size=32, shuffle=True)\n",
    "for x, y in train_dl:\n",
    "    print(x.shape) # (b, c, h, w)\n",
    "    print(x.ndim)\n",
    "    print(y.shape) # (b)\n",
    "    print(y.ndim)\n",
    "    break"
   ]
  },
  {
   "cell_type": "code",
   "execution_count": 13,
   "id": "57eabf2c",
   "metadata": {
    "ExecuteTime": {
     "end_time": "2022-04-11T01:41:41.483249Z",
     "start_time": "2022-04-11T01:41:41.476608Z"
    }
   },
   "outputs": [],
   "source": [
    "# 1. batch당 performance metric을 계산하는 함수 정의\n",
    "# output = 10개의 softmax 확률로 구성된 torch.Tensor일 듯\n",
    "def metrics_batch(output, target):\n",
    "    pred = output.argmax(dim=1, keepdim=True) \n",
    "    corrects = pred.eq(target.view_as(pred)).sum().item()\n",
    "    return corrects # pred == target의 개수 (정답을 맞춘 개수)\n",
    "\n",
    "# 2. batch당 loss를 계산하는 함수 정의\n",
    "def loss_batch(loss_func, output, target, opt=None):\n",
    "    loss = loss_func(output, target)\n",
    "    corrects = metrics_batch(output, target)\n",
    "    if opt is not None:\n",
    "        opt.zero_grad()\n",
    "        loss.backward()\n",
    "        opt.step()\n",
    "    return loss.item(), corrects # 손실 함수 값, 정답 개수\n",
    "\n",
    "# 3. epoch당 loss와 performance metric을 계산하는 함수 정의\n",
    "def loss_epoch(model, loss_func, dataset_dl, sanity_check=False, opt=None):\n",
    "    running_loss = 0.0\n",
    "    running_corrects = 0.0\n",
    "    len_data = len(dataset_dl.dataset)\n",
    "    \n",
    "    for xb, yb in dataset_dl:\n",
    "        \n",
    "        # GPU 이용하기 위함\n",
    "        # 모든 입력에 .to(torch.device('cuda')) 함수를 호출해야 모델에 데이터를 제공할 수 있음\n",
    "        # https://tutorials.pytorch.kr/recipes/recipes/save_load_across_devices.html\n",
    "        xb = xb.type(torch.float).to(device) # x\n",
    "        yb = yb.to(device) # y(target)\n",
    "        output = model(xb)\n",
    "        loss_b, corrects_b = loss_batch(loss_func, output, yb, opt)\n",
    "        running_loss += loss_b\n",
    "        \n",
    "        # 정답을 맞춘 개수가 존재한다면 한 epoch내에서 batch_size마다 맞춘 개수를 더해줌\n",
    "        if corrects_b is not None:\n",
    "            running_corrects += corrects_b\n",
    "        \n",
    "        # sanity_check가 True이면 1epoch만 학습함\n",
    "        if sanity_check is True:\n",
    "            break\n",
    "    \n",
    "    loss = running_loss / float(len_data) # 1epoch내(모든 dataset의 길이에 대한) 손실 함수 값의 평균\n",
    "    corrects = running_corrects / float(len_data) # 1epoch내(모든 dataset의 길이에 대한) 정답인 비율 계산\n",
    "    return loss, corrects"
   ]
  },
  {
   "cell_type": "markdown",
   "id": "973e1a18",
   "metadata": {},
   "source": [
    "⭐️`model.train()`, `model.eval()`\n",
    "- `nn.Module`에는 train time과 evaluate time에 수행하는 다른 작업을 switching해줄 수 있도록하는 함수를 제공함\n",
    "- train time과 evaluate time에 서로 다르게 동작해야 하는 것들에는 대표적으로 아래와 같은 것들이 있음\n",
    "    - Dropout layer\n",
    "    - BatchNorm layer\n",
    "- `model.eval()`을 수행하면 evaluation과정에서 사용하지 않을 layer들의 전원을 끔\n",
    "- evaluation이 끝나면 `model.train()`을 통해 다시 train mode로 변경을 해줘야 함"
   ]
  },
  {
   "cell_type": "code",
   "execution_count": 30,
   "id": "1b990fd6",
   "metadata": {
    "ExecuteTime": {
     "end_time": "2022-04-11T01:48:04.877131Z",
     "start_time": "2022-04-11T01:48:04.868695Z"
    }
   },
   "outputs": [],
   "source": [
    "# 4. train_val 함수 정의 \n",
    "from tqdm.notebook import tqdm\n",
    "\n",
    "def train_val(model, params):\n",
    "    \n",
    "    # params from where? 내가 나중에 사전 생성해서 설정하는 부분..^^\n",
    "    num_epochs = params['num_epochs']\n",
    "    loss_func = params['loss_func']\n",
    "    opt = params['optimizer']\n",
    "    train_dl = params['train_dl']\n",
    "    val_dl = params['val_dl']\n",
    "    sanity_check = params['sanity_check']\n",
    "    lr_scheduler = params['lr_scheduler']\n",
    "    path2weights = params['path2weights']\n",
    "    \n",
    "    loss_history = {'train':[], 'val':[]}\n",
    "    corrects_history = {'train':[], 'val':[]}\n",
    "    \n",
    "    # best model parameter 저장하기\n",
    "    best_model_wts = copy.deepcopy(model.state_dict())\n",
    "    best_loss = float('inf') # 양의 무한대\n",
    "    \n",
    "    for epoch in tqdm(range(num_epochs)):\n",
    "        current_lr = get_lr(opt) # 앞서 get_lr 정의함\n",
    "        print(f'Epoch {epoch}/{num_epochs-1}, current lr={current_lr}')\n",
    "        \n",
    "        # 학습 후 loss, corrects 구해서 loss_history, corrects_history list에 각각 append\n",
    "        model.train()\n",
    "        train_loss, train_corrects = loss_epoch(model, loss_func, train_dl, sanity_check, opt)\n",
    "        loss_history['train'].append(train_loss)\n",
    "        corrects_history['train'].append(train_corrects)\n",
    "        \n",
    "        # 학습이 잘 되었는지 test dataset으로 test (학습이 아닌 test이므로 최적화가 필요없음)\n",
    "        model.eval()\n",
    "        with torch.no_grad(): # 가중치 초기화 하면서 진행\n",
    "            val_loss, val_corrects = loss_epoch(model, loss_func, train_dl, sanity_check)\n",
    "            loss_history['val'].append(val_loss)\n",
    "            corrects_history['val'].append(val_corrects)\n",
    "        \n",
    "        # val_loss가 가장 낮을 때의 모델 weights를 찾기 위한 과정\n",
    "        if val_loss < best_loss:\n",
    "            best_loss = val_loss\n",
    "            best_model_wts = copy.deepcopy(model.state_dict())\n",
    "            torch.save(model.state_dict(), path2weights)\n",
    "            print('Copied best model weights')\n",
    "        \n",
    "        lr_scheduler.step()\n",
    "        \n",
    "        print('train_loss: %.6f, val_loss: %.6f, accuracy: %.2f' %(train_loss, val_loss, 100*val_corrects))\n",
    "        print('-'*10)\n",
    "    \n",
    "    # best model을 반환하기\n",
    "    model.load_state_dict(best_model_wts)\n",
    "    return model, loss_history, corrects_history"
   ]
  },
  {
   "cell_type": "markdown",
   "id": "4aea60ef",
   "metadata": {},
   "source": [
    "## 모델 학습하기"
   ]
  },
  {
   "cell_type": "code",
   "execution_count": 31,
   "id": "5689b9cd",
   "metadata": {
    "ExecuteTime": {
     "end_time": "2022-04-11T01:48:05.624768Z",
     "start_time": "2022-04-11T01:48:05.621181Z"
    }
   },
   "outputs": [],
   "source": [
    "import copy\n",
    "import os\n",
    "\n",
    "# 학습된 모델의 가중치를 저장할 폴더 생성\n",
    "os.makedirs('./models', exist_ok=True)\n",
    "\n",
    "# 하이퍼파라미터 설정\n",
    "params_train={'num_epochs': 10,\n",
    "             'optimizer': opt,\n",
    "             'loss_func': loss_func,\n",
    "             'train_dl': train_dl,\n",
    "             'val_dl': val_dl,\n",
    "             'sanity_check': False,\n",
    "             'lr_scheduler': lr_scheduler,\n",
    "             'path2weights': './models/LeNet-5.pt'}"
   ]
  },
  {
   "cell_type": "code",
   "execution_count": 32,
   "id": "f50c61eb",
   "metadata": {
    "ExecuteTime": {
     "end_time": "2022-04-11T01:52:22.380253Z",
     "start_time": "2022-04-11T01:48:06.242561Z"
    },
    "scrolled": false
   },
   "outputs": [
    {
     "data": {
      "application/vnd.jupyter.widget-view+json": {
       "model_id": "e47aefe109dc4862a3571fb609ca19b5",
       "version_major": 2,
       "version_minor": 0
      },
      "text/plain": [
       "  0%|          | 0/10 [00:00<?, ?it/s]"
      ]
     },
     "metadata": {},
     "output_type": "display_data"
    },
    {
     "name": "stdout",
     "output_type": "stream",
     "text": [
      "Epoch 0/9, current lr=0.001\n",
      "Copied best model weights\n",
      "train_loss: 1.487500, val_loss: 1.483893, accuracy: 97.87\n",
      "----------\n",
      "Epoch 1/9, current lr=0.000505\n",
      "Copied best model weights\n",
      "train_loss: 1.480210, val_loss: 1.477322, accuracy: 98.48\n",
      "----------\n",
      "Epoch 2/9, current lr=1e-05\n",
      "Copied best model weights\n",
      "train_loss: 1.476034, val_loss: 1.474919, accuracy: 98.73\n",
      "----------\n",
      "Epoch 3/9, current lr=0.0005049999999999999\n",
      "Copied best model weights\n",
      "train_loss: 1.477590, val_loss: 1.473575, accuracy: 98.84\n",
      "----------\n",
      "Epoch 4/9, current lr=0.001\n",
      "train_loss: 1.480446, val_loss: 1.476943, accuracy: 98.54\n",
      "----------\n",
      "Epoch 5/9, current lr=0.0005050000000000001\n",
      "Copied best model weights\n",
      "train_loss: 1.474380, val_loss: 1.471312, accuracy: 99.06\n",
      "----------\n",
      "Epoch 6/9, current lr=1e-05\n",
      "Copied best model weights\n",
      "train_loss: 1.470829, val_loss: 1.470273, accuracy: 99.15\n",
      "----------\n",
      "Epoch 7/9, current lr=0.0005049999999999999\n",
      "train_loss: 1.472941, val_loss: 1.471575, accuracy: 99.03\n",
      "----------\n",
      "Epoch 8/9, current lr=0.0010000000000000002\n",
      "train_loss: 1.477488, val_loss: 1.476164, accuracy: 98.58\n",
      "----------\n",
      "Epoch 9/9, current lr=0.0005050000000000003\n",
      "train_loss: 1.472230, val_loss: 1.470336, accuracy: 99.14\n",
      "----------\n"
     ]
    }
   ],
   "source": [
    "# 모델 학습하기\n",
    "model, loss_hist, corrects_hist = train_val(model, params_train)"
   ]
  },
  {
   "cell_type": "code",
   "execution_count": 51,
   "id": "d378a347",
   "metadata": {
    "ExecuteTime": {
     "end_time": "2022-04-11T02:09:47.770977Z",
     "start_time": "2022-04-11T02:09:46.045926Z"
    }
   },
   "outputs": [
    {
     "name": "stdout",
     "output_type": "stream",
     "text": [
      "Test Error: \n",
      " Accuracy: 98.4%, Avg loss: 47.194077 \n",
      "\n"
     ]
    }
   ],
   "source": [
    "loss_func = nn.CrossEntropyLoss(reduction='sum')\n",
    "\n",
    "def test(dataloader, model, loss_func):\n",
    "    \n",
    "    size = len(dataloader.dataset)\n",
    "    num_batches = len(dataloader)\n",
    "    test_loss, correct = 0, 0\n",
    "    \n",
    "    with torch.no_grad():\n",
    "        for X, y in dataloader:\n",
    "            X = X.to(device)\n",
    "            y = y.to(device)\n",
    "            \n",
    "            pred = model(X)\n",
    "            test_loss += loss_func(pred, y).item()\n",
    "            correct += (pred.argmax(1) == y).type(torch.float).sum().item()\n",
    "\n",
    "    test_loss /= num_batches\n",
    "    correct /= size\n",
    "    print(f\"Test Error: \\n Accuracy: {(100*correct):>0.1f}%, Avg loss: {test_loss:>8f} \\n\")\n",
    "    \n",
    "test(test_dl, model, loss_func)"
   ]
  },
  {
   "cell_type": "code",
   "execution_count": 36,
   "id": "de5abdc6",
   "metadata": {
    "ExecuteTime": {
     "end_time": "2022-04-11T01:54:22.236413Z",
     "start_time": "2022-04-11T01:54:22.029698Z"
    }
   },
   "outputs": [
    {
     "data": {
      "image/png": "[encoded data removed]",
      "text/plain": [
       "<Figure size 432x288 with 1 Axes>"
      ]
     },
     "metadata": {
      "needs_background": "light"
     },
     "output_type": "display_data"
    }
   ],
   "source": [
    "num_epochs=params_train[\"num_epochs\"]\n",
    "\n",
    "_ = plt.title(\"Train-Val Loss\")\n",
    "_ = plt.plot(range(1,num_epochs+1),loss_hist[\"train\"],label=\"train\")\n",
    "_ = plt.plot(range(1,num_epochs+1),loss_hist[\"val\"],label=\"val\")\n",
    "_ = plt.ylabel(\"Loss\")\n",
    "_ = plt.xlabel(\"Training Epochs\")\n",
    "_ = plt.legend()\n",
    "plt.show()"
   ]
  },
  {
   "cell_type": "code",
   "execution_count": 37,
   "id": "0e6cd638",
   "metadata": {
    "ExecuteTime": {
     "end_time": "2022-04-11T01:54:22.360005Z",
     "start_time": "2022-04-11T01:54:22.238286Z"
    }
   },
   "outputs": [
    {
     "data": {
      "image/png": "[encoded data removed]",
      "text/plain": [
       "<Figure size 432x288 with 1 Axes>"
      ]
     },
     "metadata": {
      "needs_background": "light"
     },
     "output_type": "display_data"
    }
   ],
   "source": [
    "# plot accuracy progress\n",
    "_ = plt.title(\"Train-Val Accuracy\")\n",
    "_ = plt.plot(range(1,num_epochs+1),corrects_hist[\"train\"],label=\"train\")\n",
    "_ = plt.plot(range(1,num_epochs+1),corrects_hist[\"val\"],label=\"val\")\n",
    "_ = plt.ylabel(\"Accuracy\")\n",
    "_ = plt.xlabel(\"Training Epochs\")\n",
    "_ = plt.legend()\n",
    "plt.show()"
   ]
  }
 ],
 "metadata": {
  "kernelspec": {
   "display_name": "Python 3 (ipykernel)",
   "language": "python",
   "name": "python3"
  },
  "language_info": {
   "codemirror_mode": {
    "name": "ipython",
    "version": 3
   },
   "file_extension": ".py",
   "mimetype": "text/x-python",
   "name": "python",
   "nbconvert_exporter": "python",
   "pygments_lexer": "ipython3",
   "version": "3.9.10"
  },
  "toc": {
   "base_numbering": 1,
   "nav_menu": {},
   "number_sections": true,
   "sideBar": true,
   "skip_h1_title": false,
   "title_cell": "Table of Contents",
   "title_sidebar": "Contents",
   "toc_cell": false,
   "toc_position": {
    "height": "calc(100% - 180px)",
    "left": "10px",
    "top": "150px",
    "width": "258px"
   },
   "toc_section_display": true,
   "toc_window_display": false
  }
 },
 "nbformat": 4,
 "nbformat_minor": 5
}
