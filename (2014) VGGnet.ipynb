{
 "cells": [
  {
   "cell_type": "markdown",
   "metadata": {},
   "source": [
    "- [[논문 구현] PyTorch로 VGGnet(2014) 구현하기](https://deep-learning-study.tistory.com/521?category=983681)"
   ]
  },
  {
   "cell_type": "code",
   "execution_count": 1,
   "metadata": {
    "colab": {
     "base_uri": "https://localhost:8080/"
    },
    "id": "A-obb3MkxiS0",
    "outputId": "bd124aec-6249-4e85-dc8a-762ff90c7d2b"
   },
   "outputs": [
    {
     "name": "stdout",
     "output_type": "stream",
     "text": [
      "Mounted at vggnet\n"
     ]
    }
   ],
   "source": [
    "from google.colab import drive\n",
    "drive.mount('vggnet')"
   ]
  },
  {
   "cell_type": "markdown",
   "metadata": {
    "id": "4M2bOS5W62SA"
   },
   "source": [
    "# 1. 데이터셋 불러오기\n",
    "\n",
    "데이터셋은 torchvision 패키지에서 제공하는 STL10 dataset을 이용하겠습니다.\n",
    "\n",
    "STL10 dataset은 10개의 label을 갖습니다."
   ]
  },
  {
   "cell_type": "code",
   "execution_count": 1,
   "metadata": {
    "ExecuteTime": {
     "end_time": "2022-04-07T09:34:13.215106Z",
     "start_time": "2022-04-07T09:34:12.025217Z"
    },
    "id": "QFH8bsYnCixL"
   },
   "outputs": [],
   "source": [
    "# import package\n",
    "\n",
    "# model\n",
    "import torch\n",
    "import torch.nn as nn\n",
    "import torch.nn.functional as F\n",
    "from torchsummary import summary\n",
    "from torch import optim\n",
    "from torch.optim.lr_scheduler import StepLR\n",
    "\n",
    "# dataset and transformation\n",
    "from torchvision import datasets\n",
    "import torchvision.transforms as transforms\n",
    "from torch.utils.data import DataLoader\n",
    "import os\n",
    "\n",
    "# display images\n",
    "from torchvision import utils\n",
    "import matplotlib.pyplot as plt\n",
    "%matplotlib inline\n",
    "\n",
    "# utils\n",
    "import numpy as np\n",
    "from torchsummary import summary\n",
    "import time\n",
    "import copy"
   ]
  },
  {
   "cell_type": "code",
   "execution_count": 2,
   "metadata": {
    "ExecuteTime": {
     "end_time": "2022-04-07T09:34:21.996695Z",
     "start_time": "2022-04-07T09:34:13.216867Z"
    },
    "colab": {
     "base_uri": "https://localhost:8080/"
    },
    "id": "J1aBOt5T1Irb",
    "outputId": "094eaa10-201b-42a5-915a-a4b8b5333251"
   },
   "outputs": [
    {
     "name": "stdout",
     "output_type": "stream",
     "text": [
      "Files already downloaded and verified\n",
      "Files already downloaded and verified\n"
     ]
    }
   ],
   "source": [
    "# specify a data path\n",
    "path2data = './data'\n",
    "\n",
    "# if not exists the path, make the directory\n",
    "if not os.path.exists(path2data):\n",
    "    os.mkdir(path2data)\n",
    "\n",
    "# load dataset\n",
    "train_ds = datasets.STL10(path2data, split='train', download=True, transform=transforms.ToTensor())\n",
    "val_ds = datasets.STL10(path2data, split='test', download=True, transform=transforms.ToTensor())"
   ]
  },
  {
   "cell_type": "code",
   "execution_count": 3,
   "metadata": {
    "ExecuteTime": {
     "end_time": "2022-04-07T09:34:22.001885Z",
     "start_time": "2022-04-07T09:34:21.998132Z"
    },
    "colab": {
     "base_uri": "https://localhost:8080/"
    },
    "id": "wXFhAO-u_gru",
    "outputId": "88b727aa-a516-4f57-9f92-b2f9a32be63a"
   },
   "outputs": [
    {
     "name": "stdout",
     "output_type": "stream",
     "text": [
      "torch.Size([3, 96, 96])\n",
      "5000\n",
      "8000\n"
     ]
    }
   ],
   "source": [
    "# check train_ds\n",
    "img, _ = train_ds[1]\n",
    "print(img.shape)\n",
    "\n",
    "print(len(train_ds))\n",
    "print(len(val_ds))"
   ]
  },
  {
   "cell_type": "code",
   "execution_count": 5,
   "metadata": {
    "ExecuteTime": {
     "end_time": "2022-04-07T09:34:52.633747Z",
     "start_time": "2022-04-07T09:34:44.442598Z"
    },
    "colab": {
     "base_uri": "https://localhost:8080/"
    },
    "id": "KmfNBzPhyYCP",
    "outputId": "683107d6-1c7b-477d-e4af-c613d711cb89"
   },
   "outputs": [
    {
     "name": "stdout",
     "output_type": "stream",
     "text": [
      "0.4467106 0.43980986 0.40664646\n",
      "0.44723064 0.4396425 0.40495726\n"
     ]
    }
   ],
   "source": [
    "# To normalize the dataset, calculate the mean and std\n",
    "train_meanRGB = [np.mean(x.numpy(), axis=(1,2)) for x, _ in train_ds]\n",
    "train_stdRGB = [np.std(x.numpy(), axis=(1,2)) for x, _ in train_ds]\n",
    "\n",
    "train_meanR = np.mean([m[0] for m in train_meanRGB])\n",
    "train_meanG = np.mean([m[1] for m in train_meanRGB])\n",
    "train_meanB = np.mean([m[2] for m in train_meanRGB])\n",
    "train_stdR = np.mean([s[0] for s in train_stdRGB])\n",
    "train_stdG = np.mean([s[1] for s in train_stdRGB])\n",
    "train_stdB = np.mean([s[2] for s in train_stdRGB])\n",
    "\n",
    "\n",
    "val_meanRGB = [np.mean(x.numpy(), axis=(1,2)) for x, _ in val_ds]\n",
    "val_stdRGB = [np.std(x.numpy(), axis=(1,2)) for x, _ in val_ds]\n",
    "\n",
    "val_meanR = np.mean([m[0] for m in val_meanRGB])\n",
    "val_meanG = np.mean([m[1] for m in val_meanRGB])\n",
    "val_meanB = np.mean([m[2] for m in val_meanRGB])\n",
    "\n",
    "val_stdR = np.mean([s[0] for s in val_stdRGB])\n",
    "val_stdG = np.mean([s[1] for s in val_stdRGB])\n",
    "val_stdB = np.mean([s[2] for s in val_stdRGB])\n",
    "\n",
    "print(train_meanR, train_meanG, train_meanB)\n",
    "print(val_meanR, val_meanG, val_meanB)"
   ]
  },
  {
   "cell_type": "code",
   "execution_count": 6,
   "metadata": {
    "ExecuteTime": {
     "end_time": "2022-04-07T09:34:52.638917Z",
     "start_time": "2022-04-07T09:34:52.635737Z"
    },
    "id": "51LcVkzd_zGr"
   },
   "outputs": [],
   "source": [
    "# define the image transformation\n",
    "# using FiveCrop, normalize, horizontal reflection\n",
    "train_transformer = transforms.Compose([\n",
    "                    transforms.ToTensor(),\n",
    "                    transforms.Resize(224),\n",
    "                    transforms.Normalize([train_meanR, train_meanG, train_meanB], [train_stdR, train_stdG, train_stdB]),\n",
    "])\n",
    "\n",
    "# test_transformer = transforms.Compose([\n",
    "#                     transforms.ToTensor(),\n",
    "#                     transforms.Resize(224),\n",
    "#                     transforms.Normalize([train_meanR, train_meanG, train_meanB], [train_stdR, train_stdG, train_stdB]),\n",
    "# ])\n",
    "\n",
    "# apply transformation\n",
    "train_ds.transform = train_transformer\n",
    "val_ds.transform = train_transformer"
   ]
  },
  {
   "cell_type": "code",
   "execution_count": 7,
   "metadata": {
    "ExecuteTime": {
     "end_time": "2022-04-07T09:35:03.844708Z",
     "start_time": "2022-04-07T09:35:03.534125Z"
    },
    "id": "cvytEy0SCYqI"
   },
   "outputs": [
    {
     "name": "stderr",
     "output_type": "stream",
     "text": [
      "Clipping input data to the valid range for imshow with RGB data ([0..1] for floats or [0..255] for integers).\n"
     ]
    },
    {
     "name": "stdout",
     "output_type": "stream",
     "text": [
      "images indices:  2732\n"
     ]
    },
    {
     "data": {
      "image/png": "[encoded data removed]",
      "text/plain": [
       "<Figure size 1440x1440 with 1 Axes>"
      ]
     },
     "metadata": {
      "needs_background": "light"
     },
     "output_type": "display_data"
    }
   ],
   "source": [
    "# display transformed sample images\n",
    "\n",
    "def show(imgs, y=None, color=True):\n",
    "    # for i, img in enumerate(imgs):\n",
    "    #     npimg = img.numpy()\n",
    "    #     npimg_tr = np.transpose(npimg, (1, 2, 0))\n",
    "    #     plt.subplot(1, imgs.shape[0], i+1)\n",
    "    #     plt.imshow(npimg_tr)\n",
    "\n",
    "    npimg = imgs.numpy()\n",
    "    npimg_tr = np.transpose(npimg, (1, 2, 0))\n",
    "    plt.imshow(npimg_tr)\n",
    "    \n",
    "    # plt.imshow(npimg_tr)\n",
    "    if y is not None:\n",
    "        plt.title('labels: ' + str(y))\n",
    "\n",
    "np.random.seed(0)\n",
    "torch.manual_seed(0)\n",
    "\n",
    "# pick a random sample image\n",
    "rnd_inds = int(np.random.randint(0, len(train_ds), 1))\n",
    "img, label = train_ds[rnd_inds]\n",
    "print('images indices: ', rnd_inds)\n",
    "\n",
    "plt.figure(figsize=(20, 20))\n",
    "show(img)"
   ]
  },
  {
   "cell_type": "code",
   "execution_count": 8,
   "metadata": {
    "ExecuteTime": {
     "end_time": "2022-04-07T09:35:07.001328Z",
     "start_time": "2022-04-07T09:35:06.998589Z"
    },
    "id": "fXmmPuFyDgLX"
   },
   "outputs": [],
   "source": [
    "# create dataloader\n",
    "train_dl = DataLoader(train_ds, batch_size=32, shuffle=True)\n",
    "val_dl = DataLoader(val_ds, batch_size=32, shuffle=True)"
   ]
  },
  {
   "cell_type": "markdown",
   "metadata": {
    "id": "NKO1CzhyFK5D"
   },
   "source": [
    "# 2. 모델 구축하기"
   ]
  },
  {
   "cell_type": "code",
   "execution_count": 9,
   "metadata": {
    "ExecuteTime": {
     "end_time": "2022-04-07T09:35:10.150398Z",
     "start_time": "2022-04-07T09:35:10.146054Z"
    },
    "id": "B6ZSw0-xMojZ"
   },
   "outputs": [],
   "source": [
    "# VGG type dict\n",
    "# int : output chnnels after conv layer\n",
    "# 'M' : max pooling layer\n",
    "VGG_types = {\n",
    "    'VGG11' : [64, 'M', 128, 'M', 256, 256, 'M', 512,512, 'M',512,512,'M'],\n",
    "    'VGG13' : [64,64, 'M', 128, 128, 'M', 256, 256, 'M', 512,512, 'M', 512,512,'M'],\n",
    "    'VGG16' : [64,64, 'M', 128, 128, 'M', 256, 256,256, 'M', 512,512,512, 'M',512,512,512,'M'],\n",
    "    'VGG19' : [64,64, 'M', 128, 128, 'M', 256, 256,256,256, 'M', 512,512,512,512, 'M',512,512,512,512,'M']\n",
    "}"
   ]
  },
  {
   "cell_type": "code",
   "execution_count": 10,
   "metadata": {
    "ExecuteTime": {
     "end_time": "2022-04-07T09:35:12.492854Z",
     "start_time": "2022-04-07T09:35:11.150254Z"
    },
    "colab": {
     "base_uri": "https://localhost:8080/"
    },
    "id": "fFjyyOsLFF0B",
    "outputId": "0d64f129-d44b-4a04-c07a-9129ad69c435"
   },
   "outputs": [
    {
     "name": "stdout",
     "output_type": "stream",
     "text": [
      "cpu\n",
      "VGGnet(\n",
      "  (conv_layers): Sequential(\n",
      "    (0): Conv2d(3, 64, kernel_size=(3, 3), stride=(1, 1), padding=(1, 1))\n",
      "    (1): BatchNorm2d(64, eps=1e-05, momentum=0.1, affine=True, track_running_stats=True)\n",
      "    (2): ReLU()\n",
      "    (3): Conv2d(64, 64, kernel_size=(3, 3), stride=(1, 1), padding=(1, 1))\n",
      "    (4): BatchNorm2d(64, eps=1e-05, momentum=0.1, affine=True, track_running_stats=True)\n",
      "    (5): ReLU()\n",
      "    (6): MaxPool2d(kernel_size=(2, 2), stride=(2, 2), padding=0, dilation=1, ceil_mode=False)\n",
      "    (7): Conv2d(64, 128, kernel_size=(3, 3), stride=(1, 1), padding=(1, 1))\n",
      "    (8): BatchNorm2d(128, eps=1e-05, momentum=0.1, affine=True, track_running_stats=True)\n",
      "    (9): ReLU()\n",
      "    (10): Conv2d(128, 128, kernel_size=(3, 3), stride=(1, 1), padding=(1, 1))\n",
      "    (11): BatchNorm2d(128, eps=1e-05, momentum=0.1, affine=True, track_running_stats=True)\n",
      "    (12): ReLU()\n",
      "    (13): MaxPool2d(kernel_size=(2, 2), stride=(2, 2), padding=0, dilation=1, ceil_mode=False)\n",
      "    (14): Conv2d(128, 256, kernel_size=(3, 3), stride=(1, 1), padding=(1, 1))\n",
      "    (15): BatchNorm2d(256, eps=1e-05, momentum=0.1, affine=True, track_running_stats=True)\n",
      "    (16): ReLU()\n",
      "    (17): Conv2d(256, 256, kernel_size=(3, 3), stride=(1, 1), padding=(1, 1))\n",
      "    (18): BatchNorm2d(256, eps=1e-05, momentum=0.1, affine=True, track_running_stats=True)\n",
      "    (19): ReLU()\n",
      "    (20): Conv2d(256, 256, kernel_size=(3, 3), stride=(1, 1), padding=(1, 1))\n",
      "    (21): BatchNorm2d(256, eps=1e-05, momentum=0.1, affine=True, track_running_stats=True)\n",
      "    (22): ReLU()\n",
      "    (23): MaxPool2d(kernel_size=(2, 2), stride=(2, 2), padding=0, dilation=1, ceil_mode=False)\n",
      "    (24): Conv2d(256, 512, kernel_size=(3, 3), stride=(1, 1), padding=(1, 1))\n",
      "    (25): BatchNorm2d(512, eps=1e-05, momentum=0.1, affine=True, track_running_stats=True)\n",
      "    (26): ReLU()\n",
      "    (27): Conv2d(512, 512, kernel_size=(3, 3), stride=(1, 1), padding=(1, 1))\n",
      "    (28): BatchNorm2d(512, eps=1e-05, momentum=0.1, affine=True, track_running_stats=True)\n",
      "    (29): ReLU()\n",
      "    (30): Conv2d(512, 512, kernel_size=(3, 3), stride=(1, 1), padding=(1, 1))\n",
      "    (31): BatchNorm2d(512, eps=1e-05, momentum=0.1, affine=True, track_running_stats=True)\n",
      "    (32): ReLU()\n",
      "    (33): MaxPool2d(kernel_size=(2, 2), stride=(2, 2), padding=0, dilation=1, ceil_mode=False)\n",
      "    (34): Conv2d(512, 512, kernel_size=(3, 3), stride=(1, 1), padding=(1, 1))\n",
      "    (35): BatchNorm2d(512, eps=1e-05, momentum=0.1, affine=True, track_running_stats=True)\n",
      "    (36): ReLU()\n",
      "    (37): Conv2d(512, 512, kernel_size=(3, 3), stride=(1, 1), padding=(1, 1))\n",
      "    (38): BatchNorm2d(512, eps=1e-05, momentum=0.1, affine=True, track_running_stats=True)\n",
      "    (39): ReLU()\n",
      "    (40): Conv2d(512, 512, kernel_size=(3, 3), stride=(1, 1), padding=(1, 1))\n",
      "    (41): BatchNorm2d(512, eps=1e-05, momentum=0.1, affine=True, track_running_stats=True)\n",
      "    (42): ReLU()\n",
      "    (43): MaxPool2d(kernel_size=(2, 2), stride=(2, 2), padding=0, dilation=1, ceil_mode=False)\n",
      "  )\n",
      "  (fcs): Sequential(\n",
      "    (0): Linear(in_features=25088, out_features=4096, bias=True)\n",
      "    (1): ReLU()\n",
      "    (2): Dropout(p=0.5, inplace=False)\n",
      "    (3): Linear(in_features=4096, out_features=4096, bias=True)\n",
      "    (4): ReLU()\n",
      "    (5): Dropout(p=0.5, inplace=False)\n",
      "    (6): Linear(in_features=4096, out_features=10, bias=True)\n",
      "  )\n",
      ")\n"
     ]
    }
   ],
   "source": [
    "# define VGGnet class\n",
    "class VGGnet(nn.Module):\n",
    "    def __init__(self, model, in_channels=3, num_classes=10, init_weights=True):\n",
    "        super(VGGnet,self).__init__()\n",
    "        self.in_channels = in_channels\n",
    "\n",
    "        # create conv_layers corresponding to VGG type\n",
    "        self.conv_layers = self.create_conv_laters(VGG_types[model])\n",
    "\n",
    "        self.fcs = nn.Sequential(\n",
    "            nn.Linear(512 * 7 * 7, 4096),\n",
    "            nn.ReLU(),\n",
    "            nn.Dropout(),\n",
    "            nn.Linear(4096, 4096),\n",
    "            nn.ReLU(),\n",
    "            nn.Dropout(),\n",
    "            nn.Linear(4096, num_classes),\n",
    "        )\n",
    "\n",
    "        # weight initialization\n",
    "        if init_weights:\n",
    "            self._initialize_weights()\n",
    "\n",
    "    def forward(self, x):\n",
    "        x = self.conv_layers(x)\n",
    "        x = x.view(-1, 512 * 7 * 7)\n",
    "        x = self.fcs(x)\n",
    "        return x\n",
    "\n",
    "    # define weight initialization function\n",
    "    def _initialize_weights(self):\n",
    "        for m in self.modules():\n",
    "            if isinstance(m, nn.Conv2d):\n",
    "                nn.init.kaiming_normal_(m.weight, mode='fan_out', nonlinearity='relu')\n",
    "                if m.bias is not None:\n",
    "                    nn.init.constant_(m.bias, 0)\n",
    "            elif isinstance(m, nn.BatchNorm2d):\n",
    "                nn.init.constant_(m.weight, 1)\n",
    "                nn.init.constant_(m.bias, 0)\n",
    "            elif isinstance(m, nn.Linear):\n",
    "                nn.init.normal_(m.weight, 0, 0.01)\n",
    "                nn.init.constant_(m.bias, 0)\n",
    "    \n",
    "    # define a function to create conv layer taken the key of VGG_type dict \n",
    "    def create_conv_laters(self, architecture):\n",
    "        layers = []\n",
    "        in_channels = self.in_channels # 3\n",
    "\n",
    "        for x in architecture:\n",
    "            if type(x) == int: # int means conv layer\n",
    "                out_channels = x\n",
    "\n",
    "                layers += [nn.Conv2d(in_channels=in_channels, out_channels=out_channels,\n",
    "                                     kernel_size=(3,3), stride=(1,1), padding=(1,1)),\n",
    "                           nn.BatchNorm2d(x),\n",
    "                           nn.ReLU()]\n",
    "                in_channels = x\n",
    "            elif x == 'M':\n",
    "                layers += [nn.MaxPool2d(kernel_size=(2,2), stride=(2,2))]\n",
    "        \n",
    "        return nn.Sequential(*layers)\n",
    "\n",
    "# define device\n",
    "device = torch.device('cuda' if torch.cuda.is_available() else 'cpu')\n",
    "print(device)\n",
    "\n",
    "# creat VGGnet object\n",
    "model = VGGnet('VGG16', in_channels=3, num_classes=10, init_weights=True).to(device)\n",
    "print(model)"
   ]
  },
  {
   "cell_type": "code",
   "execution_count": 11,
   "metadata": {
    "ExecuteTime": {
     "end_time": "2022-04-07T09:35:13.342262Z",
     "start_time": "2022-04-07T09:35:12.494591Z"
    },
    "colab": {
     "base_uri": "https://localhost:8080/"
    },
    "id": "ZNTvl3R0Pw2r",
    "outputId": "729b7d33-7079-48bb-af74-a62e59aa07b6"
   },
   "outputs": [
    {
     "name": "stdout",
     "output_type": "stream",
     "text": [
      "----------------------------------------------------------------\n",
      "        Layer (type)               Output Shape         Param #\n",
      "================================================================\n",
      "            Conv2d-1         [-1, 64, 224, 224]           1,792\n",
      "       BatchNorm2d-2         [-1, 64, 224, 224]             128\n",
      "              ReLU-3         [-1, 64, 224, 224]               0\n",
      "            Conv2d-4         [-1, 64, 224, 224]          36,928\n",
      "       BatchNorm2d-5         [-1, 64, 224, 224]             128\n",
      "              ReLU-6         [-1, 64, 224, 224]               0\n",
      "         MaxPool2d-7         [-1, 64, 112, 112]               0\n",
      "            Conv2d-8        [-1, 128, 112, 112]          73,856\n",
      "       BatchNorm2d-9        [-1, 128, 112, 112]             256\n",
      "             ReLU-10        [-1, 128, 112, 112]               0\n",
      "           Conv2d-11        [-1, 128, 112, 112]         147,584\n",
      "      BatchNorm2d-12        [-1, 128, 112, 112]             256\n",
      "             ReLU-13        [-1, 128, 112, 112]               0\n",
      "        MaxPool2d-14          [-1, 128, 56, 56]               0\n",
      "           Conv2d-15          [-1, 256, 56, 56]         295,168\n",
      "      BatchNorm2d-16          [-1, 256, 56, 56]             512\n",
      "             ReLU-17          [-1, 256, 56, 56]               0\n",
      "           Conv2d-18          [-1, 256, 56, 56]         590,080\n",
      "      BatchNorm2d-19          [-1, 256, 56, 56]             512\n",
      "             ReLU-20          [-1, 256, 56, 56]               0\n",
      "           Conv2d-21          [-1, 256, 56, 56]         590,080\n",
      "      BatchNorm2d-22          [-1, 256, 56, 56]             512\n",
      "             ReLU-23          [-1, 256, 56, 56]               0\n",
      "        MaxPool2d-24          [-1, 256, 28, 28]               0\n",
      "           Conv2d-25          [-1, 512, 28, 28]       1,180,160\n",
      "      BatchNorm2d-26          [-1, 512, 28, 28]           1,024\n",
      "             ReLU-27          [-1, 512, 28, 28]               0\n",
      "           Conv2d-28          [-1, 512, 28, 28]       2,359,808\n",
      "      BatchNorm2d-29          [-1, 512, 28, 28]           1,024\n",
      "             ReLU-30          [-1, 512, 28, 28]               0\n",
      "           Conv2d-31          [-1, 512, 28, 28]       2,359,808\n",
      "      BatchNorm2d-32          [-1, 512, 28, 28]           1,024\n",
      "             ReLU-33          [-1, 512, 28, 28]               0\n",
      "        MaxPool2d-34          [-1, 512, 14, 14]               0\n",
      "           Conv2d-35          [-1, 512, 14, 14]       2,359,808\n",
      "      BatchNorm2d-36          [-1, 512, 14, 14]           1,024\n",
      "             ReLU-37          [-1, 512, 14, 14]               0\n",
      "           Conv2d-38          [-1, 512, 14, 14]       2,359,808\n",
      "      BatchNorm2d-39          [-1, 512, 14, 14]           1,024\n",
      "             ReLU-40          [-1, 512, 14, 14]               0\n",
      "           Conv2d-41          [-1, 512, 14, 14]       2,359,808\n",
      "      BatchNorm2d-42          [-1, 512, 14, 14]           1,024\n",
      "             ReLU-43          [-1, 512, 14, 14]               0\n",
      "        MaxPool2d-44            [-1, 512, 7, 7]               0\n",
      "           Linear-45                 [-1, 4096]     102,764,544\n",
      "             ReLU-46                 [-1, 4096]               0\n",
      "          Dropout-47                 [-1, 4096]               0\n",
      "           Linear-48                 [-1, 4096]      16,781,312\n",
      "             ReLU-49                 [-1, 4096]               0\n",
      "          Dropout-50                 [-1, 4096]               0\n",
      "           Linear-51                   [-1, 10]          40,970\n",
      "================================================================\n",
      "Total params: 134,309,962\n",
      "Trainable params: 134,309,962\n",
      "Non-trainable params: 0\n",
      "----------------------------------------------------------------\n",
      "Input size (MB): 0.57\n",
      "Forward/backward pass size (MB): 321.94\n",
      "Params size (MB): 512.35\n",
      "Estimated Total Size (MB): 834.87\n",
      "----------------------------------------------------------------\n"
     ]
    }
   ],
   "source": [
    "# print model summary\n",
    "summary(model, input_size=(3, 224, 224), device=device.type)"
   ]
  },
  {
   "cell_type": "markdown",
   "metadata": {
    "id": "kFj6geDUTPkl"
   },
   "source": [
    "# 3. 모델 학습하기"
   ]
  },
  {
   "cell_type": "code",
   "execution_count": 12,
   "metadata": {
    "ExecuteTime": {
     "end_time": "2022-04-07T09:35:13.348579Z",
     "start_time": "2022-04-07T09:35:13.344308Z"
    },
    "colab": {
     "base_uri": "https://localhost:8080/"
    },
    "id": "mQ_CXj23St6c",
    "outputId": "e6464a67-666c-4e83-f656-083b46d221ac"
   },
   "outputs": [
    {
     "name": "stdout",
     "output_type": "stream",
     "text": [
      "current lr=0.001\n"
     ]
    }
   ],
   "source": [
    "loss_func = nn.CrossEntropyLoss(reduction=\"sum\")\n",
    "opt = optim.Adam(model.parameters(), lr=0.001)\n",
    "\n",
    "# get learning rate \n",
    "def get_lr(opt):\n",
    "    for param_group in opt.param_groups:\n",
    "        return param_group['lr']\n",
    "\n",
    "current_lr = get_lr(opt)\n",
    "print('current lr={}'.format(current_lr))\n",
    "\n",
    "# define learning rate scheduler\n",
    "# from torch.optim.lr_scheduler import CosineAnnealingLR\n",
    "# lr_scheduler = CosineAnnealingLR(opt, T_max=2, eta_min=1e-5)\n",
    "\n",
    "from torch.optim.lr_scheduler import StepLR\n",
    "lr_scheduler = StepLR(opt, step_size=30, gamma=0.1)"
   ]
  },
  {
   "cell_type": "code",
   "execution_count": 13,
   "metadata": {
    "ExecuteTime": {
     "end_time": "2022-04-07T09:35:15.791958Z",
     "start_time": "2022-04-07T09:35:15.784968Z"
    },
    "id": "NSLgEvTHWGs-"
   },
   "outputs": [],
   "source": [
    "def metrics_batch(output, target):\n",
    "    # get output class\n",
    "    pred = output.argmax(dim=1, keepdim=True)\n",
    "    \n",
    "    # compare output class with target class\n",
    "    corrects=pred.eq(target.view_as(pred)).sum().item()\n",
    "    return corrects\n",
    "\n",
    "def loss_batch(loss_func, output, target, opt=None):\n",
    "    \n",
    "    # get loss \n",
    "    loss = loss_func(output, target)\n",
    "    \n",
    "    # get performance metric\n",
    "    metric_b = metrics_batch(output,target)\n",
    "    \n",
    "    if opt is not None:\n",
    "        opt.zero_grad()\n",
    "        loss.backward()\n",
    "        opt.step()\n",
    "\n",
    "    return loss.item(), metric_b\n",
    "\n",
    "def loss_epoch(model,loss_func,dataset_dl,sanity_check=False,opt=None):\n",
    "    running_loss=0.0\n",
    "    running_metric=0.0\n",
    "    len_data=len(dataset_dl.dataset)\n",
    "\n",
    "    for xb, yb in dataset_dl:\n",
    "        # move batch to device\n",
    "        xb=xb.to(device)\n",
    "        yb=yb.to(device)\n",
    "        output = model(xb)\n",
    "        # Five crop : bs, crops, chnnel, h, w\n",
    "        # making dimmension (bs, c, h, w)\n",
    "        # bs, ncrops, c, h, w = xb.size()\n",
    "        # output_=model(xb.view(-1, c, h, w))\n",
    "        # output = output_.view(bs, ncrops, -1).mean(1)\n",
    "        \n",
    "        # get loss per batch\n",
    "        loss_b,metric_b=loss_batch(loss_func, output, yb, opt)\n",
    "        \n",
    "        # update running loss\n",
    "        running_loss+=loss_b\n",
    "        \n",
    "        # update running metric\n",
    "        if metric_b is not None:\n",
    "            running_metric+=metric_b\n",
    "\n",
    "        # break the loop in case of sanity check\n",
    "        if sanity_check is True:\n",
    "            break\n",
    "    \n",
    "    # average loss value\n",
    "    loss=running_loss/float(len_data)\n",
    "    \n",
    "    # average metric value\n",
    "    metric=running_metric/float(len_data)\n",
    "    \n",
    "    return loss, metric"
   ]
  },
  {
   "cell_type": "code",
   "execution_count": 14,
   "metadata": {
    "ExecuteTime": {
     "end_time": "2022-04-07T09:35:21.485576Z",
     "start_time": "2022-04-07T09:35:21.477736Z"
    },
    "id": "D7U-Zo7fXPil"
   },
   "outputs": [],
   "source": [
    "def train_val(model, params):\n",
    "    # extract model parameters\n",
    "    num_epochs=params[\"num_epochs\"]\n",
    "    loss_func=params[\"loss_func\"]\n",
    "    opt=params[\"optimizer\"]\n",
    "    train_dl=params[\"train_dl\"]\n",
    "    val_dl=params[\"val_dl\"]\n",
    "    sanity_check=params[\"sanity_check\"]\n",
    "    lr_scheduler=params[\"lr_scheduler\"]\n",
    "    path2weights=params[\"path2weights\"]\n",
    "    \n",
    "    # history of loss values in each epoch\n",
    "    loss_history={\n",
    "        \"train\": [],\n",
    "        \"val\": [],\n",
    "    }\n",
    "    \n",
    "    # histroy of metric values in each epoch\n",
    "    metric_history={\n",
    "        \"train\": [],\n",
    "        \"val\": [],\n",
    "    }\n",
    "    \n",
    "    # 가중치를 저장할 때, 코랩 GPU 오류나서 생략했습니다.\n",
    "    # a deep copy of weights for the best performing model\n",
    "    # best_model_wts = copy.deepcopy(model.state_dict())\n",
    "    \n",
    "    # initialize best loss to a large value\n",
    "    best_loss=float('inf')\n",
    "    \n",
    "    # check start time\n",
    "    start_time = time.time()\n",
    "    # main loop\n",
    "    for epoch in range(num_epochs):\n",
    "        # get current learning rate\n",
    "        current_lr=get_lr(opt)\n",
    "        print('Epoch {}/{}, current lr={}'.format(epoch, num_epochs - 1, current_lr))\n",
    "        \n",
    "        # train model on training dataset\n",
    "        model.train()\n",
    "        train_loss, train_metric=loss_epoch(model,loss_func,train_dl,sanity_check,opt)\n",
    "\n",
    "        # collect loss and metric for training dataset\n",
    "        loss_history[\"train\"].append(train_loss)\n",
    "        metric_history[\"train\"].append(train_metric)\n",
    "        \n",
    "        # evaluate model on validation dataset    \n",
    "        model.eval()\n",
    "        with torch.no_grad():\n",
    "            val_loss, val_metric=loss_epoch(model,loss_func,val_dl,sanity_check)\n",
    "        \n",
    "       \n",
    "        # store best model\n",
    "        if val_loss < best_loss:\n",
    "            best_loss = val_loss\n",
    "            best_model_wts = copy.deepcopy(model.state_dict())\n",
    "            \n",
    "            # # store weights into a local file\n",
    "            # torch.save(model.state_dict(), path2weights)\n",
    "            # print(\"Copied best model weights!\")\n",
    "        \n",
    "        # collect loss and metric for validation dataset\n",
    "        loss_history[\"val\"].append(val_loss)\n",
    "        metric_history[\"val\"].append(val_metric)\n",
    "        \n",
    "        # learning rate schedule\n",
    "        lr_scheduler.step()\n",
    "\n",
    "        print(\"train loss: %.6f, dev loss: %.6f, accuracy: %.2f, time: %.4f s\" %(train_loss,val_loss,100*val_metric, time.time()-start_time))\n",
    "        print(\"-\"*10) \n",
    "\n",
    "    ## load best model weights\n",
    "    # model.load_state_dict(best_model_wts)\n",
    "        \n",
    "    return model, loss_history, metric_history"
   ]
  },
  {
   "cell_type": "code",
   "execution_count": 15,
   "metadata": {
    "ExecuteTime": {
     "end_time": "2022-04-07T09:35:21.493127Z",
     "start_time": "2022-04-07T09:35:21.488316Z"
    },
    "id": "lz10guodYFYV"
   },
   "outputs": [],
   "source": [
    "# definc the training parameters\n",
    "params_train = {\n",
    "    'num_epochs':100,\n",
    "    'optimizer':opt,\n",
    "    'loss_func':loss_func,\n",
    "    'train_dl':train_dl,\n",
    "    'val_dl':val_dl,\n",
    "    'sanity_check':False,\n",
    "    'lr_scheduler':lr_scheduler,\n",
    "    'path2weights':'./models/weights.pt',\n",
    "}\n",
    "\n",
    "# create the directory that stores weights.pt\n",
    "def createFolder(directory):\n",
    "    try:\n",
    "        if not os.path.exists(directory):\n",
    "            os.makedirs(directory)\n",
    "    except OSerror:\n",
    "        print('Error')\n",
    "createFolder('./models')"
   ]
  },
  {
   "cell_type": "code",
   "execution_count": null,
   "metadata": {
    "ExecuteTime": {
     "start_time": "2022-04-07T09:35:23.871Z"
    },
    "colab": {
     "base_uri": "https://localhost:8080/"
    },
    "id": "sKosxtFGYMV7",
    "outputId": "cff4541c-8f94-46d6-a9d0-62b457f15adf"
   },
   "outputs": [
    {
     "name": "stdout",
     "output_type": "stream",
     "text": [
      "Epoch 0/99, current lr=0.001\n"
     ]
    }
   ],
   "source": [
    "# train model\n",
    "model, loss_hist, metric_hist = train_val(model, params_train)"
   ]
  },
  {
   "cell_type": "code",
   "execution_count": null,
   "metadata": {
    "ExecuteTime": {
     "start_time": "2022-04-07T09:35:32.873Z"
    },
    "id": "867B4PrGYYq9"
   },
   "outputs": [],
   "source": [
    "# Train-Validation Progress\n",
    "num_epochs=params_train[\"num_epochs\"]\n",
    "\n",
    "# plot loss progress\n",
    "plt.title(\"Train-Val Loss\")\n",
    "plt.plot(range(1,num_epochs+1),loss_hist[\"train\"],label=\"train\")\n",
    "plt.plot(range(1,num_epochs+1),loss_hist[\"val\"],label=\"val\")\n",
    "plt.ylabel(\"Loss\")\n",
    "plt.xlabel(\"Training Epochs\")\n",
    "plt.legend()\n",
    "plt.show()\n",
    "\n",
    "# plot accuracy progress\n",
    "plt.title(\"Train-Val Accuracy\")\n",
    "plt.plot(range(1,num_epochs+1),metric_hist[\"train\"],label=\"train\")\n",
    "plt.plot(range(1,num_epochs+1),metric_hist[\"val\"],label=\"val\")\n",
    "plt.ylabel(\"Accuracy\")\n",
    "plt.xlabel(\"Training Epochs\")\n",
    "plt.legend()\n",
    "plt.show()"
   ]
  },
  {
   "cell_type": "code",
   "execution_count": null,
   "metadata": {
    "ExecuteTime": {
     "start_time": "2022-04-07T09:35:32.876Z"
    },
    "id": "8XHUcXC7gJnN"
   },
   "outputs": [],
   "source": [
    "class_correct = list(0. for i in range(10))\n",
    "class_total = list(0. for i in range(10))\n",
    "with torch.no_grad():\n",
    "    for xb, yb in val_dl:\n",
    "        xb = xb.to(device)\n",
    "        yb = yb.to(device)\n",
    "        output = model(xb)\n",
    "        pred = output.argmax(dim=1, keepdim=True)\n",
    "        corrects = pred.eq(output.view_as(pred)).sum().item()\n",
    "        for i in range(4):\n",
    "            yb = yb[i]\n",
    "            class_correct[yb] += corrects[i].item()\n",
    "            class_total[yb] += 1\n",
    "\n",
    "\n",
    "for i in range(10):\n",
    "    print('Accuracy of %5s : %2d %%' % (\n",
    "        classes[i], 100 * class_correct[i] / class_total[i]))"
   ]
  }
 ],
 "metadata": {
  "accelerator": "GPU",
  "colab": {
   "authorship_tag": "ABX9TyMu26wrbmY7PXUgM7rM7Cmi",
   "include_colab_link": true,
   "name": "VGGnet(2014).ipynb",
   "provenance": []
  },
  "kernelspec": {
   "display_name": "Python 3 (ipykernel)",
   "language": "python",
   "name": "python3"
  },
  "language_info": {
   "codemirror_mode": {
    "name": "ipython",
    "version": 3
   },
   "file_extension": ".py",
   "mimetype": "text/x-python",
   "name": "python",
   "nbconvert_exporter": "python",
   "pygments_lexer": "ipython3",
   "version": "3.9.10"
  },
  "toc": {
   "base_numbering": 1,
   "nav_menu": {},
   "number_sections": true,
   "sideBar": true,
   "skip_h1_title": false,
   "title_cell": "Table of Contents",
   "title_sidebar": "Contents",
   "toc_cell": false,
   "toc_position": {},
   "toc_section_display": true,
   "toc_window_display": false
  }
 },
 "nbformat": 4,
 "nbformat_minor": 1
}
