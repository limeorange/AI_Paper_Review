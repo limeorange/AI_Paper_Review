{
 "cells": [
  {
   "cell_type": "markdown",
   "id": "7dbde5e9",
   "metadata": {},
   "source": [
    "# Study Log\n",
    "- 220411 mon\n",
    "    - 코드 정상적으로 작동함\n",
    "    - 학습하는 부분 코드 집중적으로 공부"
   ]
  },
  {
   "cell_type": "markdown",
   "id": "94233bbe",
   "metadata": {},
   "source": [
    "# Library"
   ]
  },
  {
   "cell_type": "code",
   "execution_count": 1,
   "id": "05ed3e8f",
   "metadata": {
    "ExecuteTime": {
     "end_time": "2022-04-11T06:49:31.935178Z",
     "start_time": "2022-04-11T06:49:30.699403Z"
    }
   },
   "outputs": [],
   "source": [
    "# model\n",
    "import torch\n",
    "import torch.nn as nn\n",
    "import torch.nn.functional as F\n",
    "from torchsummary import summary\n",
    "from torch import optim\n",
    "\n",
    "# dataset and transformation\n",
    "from torchvision import datasets\n",
    "import torchvision.transforms as transforms\n",
    "from torch.utils.data import DataLoader\n",
    "import os # 1\n",
    "\n",
    "# display images\n",
    "from torchvision import utils\n",
    "import matplotlib.pyplot as plt\n",
    "%matplotlib inline\n",
    "\n",
    "# utils\n",
    "import numpy as np\n",
    "from torchsummary import summary\n",
    "import time\n",
    "import copy\n",
    "\n",
    "# 결과 확인을 용이하게 하기 위한 코드\n",
    "from IPython.core.interactiveshell import InteractiveShell\n",
    "InteractiveShell.ast_node_interactivity = 'all'"
   ]
  },
  {
   "cell_type": "markdown",
   "id": "77cb29e9",
   "metadata": {},
   "source": [
    "# Data Load\n",
    "- torchvision 패키지에서 제공하는 `STL10 dataset`을 이용할 것임\n",
    "- `STL10 dataset`은 10개의 label을 가지며 train dataset 5000, test dataset 8000개로 구성됨"
   ]
  },
  {
   "cell_type": "code",
   "execution_count": 2,
   "id": "bb198ad1",
   "metadata": {
    "ExecuteTime": {
     "end_time": "2022-04-11T06:56:04.018995Z",
     "start_time": "2022-04-11T06:55:54.793059Z"
    }
   },
   "outputs": [
    {
     "name": "stdout",
     "output_type": "stream",
     "text": [
      "Files already downloaded and verified\n",
      "Files already downloaded and verified\n",
      "8000\n",
      "2000\n",
      "3000\n"
     ]
    }
   ],
   "source": [
    "# 1. data split (train, valid, test)\n",
    "path = './data'\n",
    "\n",
    "if not os.path.exists(path):\n",
    "    os.mkdir(path)\n",
    "\n",
    "train_ds = datasets.STL10(path, split='test', download=True, transform=transforms.ToTensor()) # 8000\n",
    "test_ds = datasets.STL10(path, split='train', download=True, transform=transforms.ToTensor()) # 5000\n",
    "\n",
    "# train, valid, test split\n",
    "from torch.utils.data.dataset import random_split\n",
    "test_ds, val_ds = random_split(test_ds, [3000, 2000])\n",
    "\n",
    "print(len(train_ds))\n",
    "print(len(val_ds))\n",
    "print(len(test_ds))"
   ]
  },
  {
   "cell_type": "code",
   "execution_count": null,
   "id": "58bb1984",
   "metadata": {},
   "outputs": [],
   "source": [
    "# 2. define transformation\n",
    "transformation = transforms.Compose([\n",
    "                    transforms.ToTensor(),\n",
    "                    transforms.Resize(64)\n",
    "])"
   ]
  }
 ],
 "metadata": {
  "kernelspec": {
   "display_name": "Python 3 (ipykernel)",
   "language": "python",
   "name": "python3"
  },
  "language_info": {
   "codemirror_mode": {
    "name": "ipython",
    "version": 3
   },
   "file_extension": ".py",
   "mimetype": "text/x-python",
   "name": "python",
   "nbconvert_exporter": "python",
   "pygments_lexer": "ipython3",
   "version": "3.9.10"
  },
  "toc": {
   "base_numbering": 1,
   "nav_menu": {},
   "number_sections": true,
   "sideBar": true,
   "skip_h1_title": false,
   "title_cell": "Table of Contents",
   "title_sidebar": "Contents",
   "toc_cell": false,
   "toc_position": {},
   "toc_section_display": true,
   "toc_window_display": false
  }
 },
 "nbformat": 4,
 "nbformat_minor": 5
}
